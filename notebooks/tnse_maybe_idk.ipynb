{
 "cells": [
  {
   "cell_type": "code",
   "execution_count": 114,
   "id": "f83dbdc6",
   "metadata": {},
   "outputs": [],
   "source": [
    "import pickle\n",
    "import time\n",
    "import random\n",
    "import numpy as np\n",
    "\n",
    "from collections import Counter\n",
    "from annoy import AnnoyIndex\n",
    "from tqdm.notebook import tqdm\n",
    "from scipy.spatial.distance import euclidean, pdist, squareform\n",
    "import scipy\n",
    "import scipy.stats as stats\n",
    "from sklearn.cluster import AgglomerativeClustering\n",
    "from sklearn.manifold import TSNE\n",
    "from sklearn.decomposition import PCA\n",
    "\n",
    "import seaborn as sns\n",
    "from matplotlib import pyplot as plt\n",
    "from typing import *"
   ]
  },
  {
   "cell_type": "code",
   "execution_count": 13,
   "id": "81ee3d33",
   "metadata": {},
   "outputs": [],
   "source": [
    "def read_glove_file(size=None) -> Dict[str, List[float]]:\n",
    "    glove_file = '/mnt/Spookley/datasets/glove/glove.6B.50d.txt'\n",
    "    w_vecs = {}\n",
    "    with tqdm(total=400000) as pbar:\n",
    "        with open(glove_file) as fh:\n",
    "            for line in fh.readlines():\n",
    "                \n",
    "                pbar.update(1)\n",
    "                toks = line.strip().split()\n",
    "                word = toks[0]\n",
    "                # non-words like punctuation marks have entries, but we don't want those\n",
    "                if not word.isalnum():  \n",
    "                    continue\n",
    "                # Some bigrams and trigrams are in the dataset. Skip those.\n",
    "                try:\n",
    "                    float(toks[1])\n",
    "                except ValueError:\n",
    "                    continue\n",
    "                # No errors, parse the line.\n",
    "                vec = [float(s) for s in toks[1:]]\n",
    "                w_vecs[word] = vec\n",
    "                if size is not None and len(w_vecs) == size:\n",
    "                    break\n",
    "    return w_vecs"
   ]
  },
  {
   "cell_type": "code",
   "execution_count": 4,
   "id": "be24e6a2",
   "metadata": {},
   "outputs": [],
   "source": [
    "def build_index(w_vecs: Dict[str, List[float]]) -> Tuple[Dict[int, str], AnnoyIndex]:\n",
    "    GLOVE_VEC_SIZE = 50\n",
    "    idx_to_word = {}\n",
    "    ann_index = AnnoyIndex(GLOVE_VEC_SIZE, 'euclidean')\n",
    "    with tqdm(total=len(w_vecs)) as pbar:\n",
    "        for i, w in enumerate(w_vecs.keys()):\n",
    "            pbar.update(1)\n",
    "            ann_index.add_item(i, w_vecs[w])\n",
    "            idx_to_word[i] = w\n",
    "    ann_index.build(20) # n trees\n",
    "    return idx_to_word, ann_index"
   ]
  },
  {
   "cell_type": "code",
   "execution_count": 75,
   "id": "79886f5f",
   "metadata": {},
   "outputs": [
    {
     "data": {
      "application/vnd.jupyter.widget-view+json": {
       "model_id": "bc3802ffc9be455cba519536d53ecb8b",
       "version_major": 2,
       "version_minor": 0
      },
      "text/plain": [
       "  0%|          | 0/400000 [00:00<?, ?it/s]"
      ]
     },
     "metadata": {},
     "output_type": "display_data"
    }
   ],
   "source": [
    "w_vecs = read_glove_file(size=20000)"
   ]
  },
  {
   "cell_type": "code",
   "execution_count": null,
   "id": "e7c0778f",
   "metadata": {},
   "outputs": [],
   "source": []
  },
  {
   "cell_type": "code",
   "execution_count": 76,
   "id": "c55e3277",
   "metadata": {},
   "outputs": [],
   "source": [
    "mat = np.array([w_vecs[w] for w in w_vecs])"
   ]
  },
  {
   "cell_type": "code",
   "execution_count": 103,
   "id": "468052cb",
   "metadata": {},
   "outputs": [
    {
     "name": "stdout",
     "output_type": "stream",
     "text": [
      "elapsed 113.28300595283508\n"
     ]
    }
   ],
   "source": [
    "time_start = time.time()\n",
    "tsne = TSNE(n_components=3, verbose=0, perplexity=40, n_iter=300)\n",
    "tsne_mat = tsne.fit_transform(mat)\n",
    "print('elapsed', time.time()-time_start)"
   ]
  },
  {
   "cell_type": "code",
   "execution_count": null,
   "id": "461e5a56",
   "metadata": {},
   "outputs": [],
   "source": []
  },
  {
   "cell_type": "code",
   "execution_count": null,
   "id": "a2109bb5",
   "metadata": {},
   "outputs": [],
   "source": []
  },
  {
   "cell_type": "code",
   "execution_count": 104,
   "id": "8b7585bb",
   "metadata": {},
   "outputs": [
    {
     "name": "stdout",
     "output_type": "stream",
     "text": [
      "5.049500942230225\n",
      "3.5831453800201416\n",
      "0.42000818252563477\n"
     ]
    }
   ],
   "source": [
    "def get_tsne_pos(word, w_vecs, tsne_mat):\n",
    "    words = list(w_vecs.keys())\n",
    "    word_idx = words.index(word)\n",
    "    pos = tsne_mat[word_idx, :]\n",
    "    return pos\n",
    "\n",
    "strawberry = get_tsne_pos('strawberry', w_vecs, tsne_mat)\n",
    "banana = get_tsne_pos('banana', w_vecs, tsne_mat)\n",
    "peach = get_tsne_pos('peach', w_vecs, tsne_mat)\n",
    "envelope = get_tsne_pos('envelope', w_vecs, tsne_mat)\n",
    "\n",
    "print(euclidean(strawberry, banana))\n",
    "print(euclidean(strawberry, envelope))\n",
    "print(euclidean(strawberry, peach))"
   ]
  },
  {
   "cell_type": "code",
   "execution_count": 80,
   "id": "7d71cda8",
   "metadata": {},
   "outputs": [
    {
     "data": {
      "application/vnd.jupyter.widget-view+json": {
       "model_id": "2c4c3c5d22f4416f9df471c6c256c866",
       "version_major": 2,
       "version_minor": 0
      },
      "text/plain": [
       "  0%|          | 0/20000 [00:00<?, ?it/s]"
      ]
     },
     "metadata": {},
     "output_type": "display_data"
    }
   ],
   "source": [
    "idx_to_word, ann_index = build_index(w_vecs)"
   ]
  },
  {
   "cell_type": "code",
   "execution_count": 105,
   "id": "e7aaa6c6",
   "metadata": {},
   "outputs": [
    {
     "name": "stdout",
     "output_type": "stream",
     "text": [
      "['banana', 'bananas', 'coconut', 'peanut', 'bean', 'cane', 'peach', 'potato', 'growers', 'nut', 'goat', 'shrimp', 'candy', 'plum', 'spice', 'citrus', 'plantations', 'cocoa', 'pumpkin', 'honey']\n"
     ]
    }
   ],
   "source": [
    "v = w_vecs['banana']\n",
    "items = ann_index.get_nns_by_vector(v, 20)\n",
    "print(list(idx_to_word[i] for i in items))"
   ]
  },
  {
   "cell_type": "code",
   "execution_count": 113,
   "id": "a4579b1a",
   "metadata": {},
   "outputs": [
    {
     "name": "stdout",
     "output_type": "stream",
     "text": [
      "3.4086222159613113\n",
      "4.4893891662675\n",
      "5.775056670299608\n"
     ]
    }
   ],
   "source": [
    "print(euclidean(w_vecs['strawberry'], w_vecs['peach']))\n",
    "print(euclidean(w_vecs['strawberry'], w_vecs['banana']))\n",
    "print(euclidean(w_vecs['strawberry'], w_vecs['envelope']))\n"
   ]
  },
  {
   "cell_type": "code",
   "execution_count": 7,
   "id": "154da882",
   "metadata": {},
   "outputs": [],
   "source": [
    "class SemantleGame():\n",
    "    def __init__(self, w_vecs):\n",
    "        w_list = list(w_vecs.keys())\n",
    "        self.target_word = random.choice(w_list[1000:50000])\n",
    "        self.target_vec = w_vecs[self.target_word]\n",
    "        \n",
    "    def guess(self, word, vec) -> Tuple[bool, float]:\n",
    "        # construct guess\n",
    "        dist = euclidean(vec, self.target_vec)\n",
    "        # check if win\n",
    "        if word == self.target_word:\n",
    "            return True, dist\n",
    "        else:\n",
    "            return False, dist\n",
    "    \n",
    "    def display_guesses(self):\n",
    "        s = []\n",
    "        for g in sorted(self.guesses, key = lambda g: g.dist):\n",
    "            s.append(str(g))\n",
    "        print('\\n'.join(s))\n",
    "        \n",
    "    def __str__(self):\n",
    "        return '\\n'.join('{}: {}'.format(k, v) for k, v in self.__dict__.items())"
   ]
  },
  {
   "cell_type": "code",
   "execution_count": 8,
   "id": "d44b81d0",
   "metadata": {},
   "outputs": [],
   "source": [
    "class SemantleSolver:\n",
    "    \n",
    "    def __init__(self, game: SemantleGame, n_random_guesses=10):\n",
    "        self.game = game\n",
    "        self.n_random_guesses = n_random_guesses\n",
    "        self.closest_dist = float('inf')\n",
    "        self.guesses = {}  # Dict[str: (float, int)] of {word: (dist, guess_num)}\n",
    "        self.best_guess = None\n",
    "\n",
    "    \n",
    "    def guess(self, w_vecs, ann_index, idx_to_word) -> bool:\n",
    "        # determine next guess\n",
    "        g_type = 'random:'\n",
    "        if len(self.guesses) < self.n_random_guesses:\n",
    "            next_word = random.choice(list(w_vecs.keys()))\n",
    "        \n",
    "        if self.best_guess is not None and self.closest_dist <= self.dist_thresh:\n",
    "            g_type = 'nearby:'\n",
    "            # 'exploit' - guess words near our best candidate\n",
    "            idxs_near_best = ann_index.get_nns_by_vector(v, 10000)\n",
    "            for idx in idxs_near_best:\n",
    "                w = idx_to_word[idx]\n",
    "                if w not in self.guesses:\n",
    "                    next_word = w\n",
    "                    break\n",
    "        else:\n",
    "            next_word = random.choice(list(w_vecs.keys()))\n",
    "        \n",
    "        # guess the word\n",
    "        win, dist = self.game.guess(next_word, w_vecs[next_word])\n",
    "        self.guesses[next_word] = (dist, len(self.guesses)+1)\n",
    "\n",
    "        # see if this one's better\n",
    "        if self.best_guess is None or dist < self.closest_dist:\n",
    "            print(g_type, next_word, \"dist:\", dist, \"best:\", \n",
    "                  self.best_guess, \"best_dist:\", self.closest_dist, \"guesses:\", len(self.guesses))\n",
    "            self.closest_dist = dist\n",
    "            self.best_guess = next_word\n",
    "        \n",
    "        if win:\n",
    "            print(\"I win!\", self.guesses)\n",
    "            return True\n",
    "        else:\n",
    "            return False"
   ]
  },
  {
   "cell_type": "code",
   "execution_count": null,
   "id": "bee33698",
   "metadata": {},
   "outputs": [],
   "source": []
  }
 ],
 "metadata": {
  "kernelspec": {
   "display_name": "Python 3",
   "language": "python",
   "name": "python3"
  },
  "language_info": {
   "codemirror_mode": {
    "name": "ipython",
    "version": 3
   },
   "file_extension": ".py",
   "mimetype": "text/x-python",
   "name": "python",
   "nbconvert_exporter": "python",
   "pygments_lexer": "ipython3",
   "version": "3.8.8"
  }
 },
 "nbformat": 4,
 "nbformat_minor": 5
}
