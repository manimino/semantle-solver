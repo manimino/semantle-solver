{
 "cells": [
  {
   "cell_type": "markdown",
   "id": "3e767d55",
   "metadata": {},
   "source": [
    "## Multidimensional scaling\n",
    "\n",
    "This could be it.\n",
    "\n",
    "Steps:\n",
    "\n",
    "- Take a subset of 1k words? See how much time it costs\n",
    "- Take the sklearn cdist (cosine)\n",
    "- Scale that into like 10-D\n",
    "- See how well it does on some test word pairs\n",
    "\n",
    "Yeah, no.\n",
    "Computationally expensive, and not much better than PCA?"
   ]
  },
  {
   "cell_type": "code",
   "execution_count": 4,
   "id": "582d83bf",
   "metadata": {},
   "outputs": [],
   "source": [
    "from scipy.spatial.distance import cdist, pdist, squareform\n",
    "from sklearn.manifold import MDS\n",
    "import umap\n",
    "import math\n",
    "import dataclasses\n",
    "import pickle\n",
    "import random\n",
    "import numpy as np\n",
    "import os\n",
    "import time\n",
    "import multiprocessing\n",
    "from joblib import Parallel, delayed\n",
    "import re\n",
    "from functools import lru_cache\n",
    "from annoy import AnnoyIndex\n",
    "from tqdm.notebook import tqdm\n",
    "from scipy.spatial.distance import euclidean, pdist, squareform\n",
    "import scipy\n",
    "import scipy.stats as stats\n",
    "from sklearn.decomposition import PCA, TruncatedSVD\n",
    "from scipy.spatial.distance import cosine as cos_dist\n",
    "from sklearn.preprocessing import normalize, StandardScaler\n",
    "from gensim import models\n",
    "\n",
    "from matplotlib import pyplot as plt\n",
    "from typing import *"
   ]
  },
  {
   "cell_type": "code",
   "execution_count": 5,
   "id": "fa72d237",
   "metadata": {},
   "outputs": [],
   "source": [
    "all_en_words = set()\n",
    "with open('20k_en_words.txt') as fh:\n",
    "    for line in fh.readlines():\n",
    "        if line.strip():\n",
    "            all_en_words.add(line.strip())"
   ]
  },
  {
   "cell_type": "code",
   "execution_count": 11,
   "id": "7d1ef0f8",
   "metadata": {},
   "outputs": [
    {
     "data": {
      "text/plain": [
       "(18776, 300)"
      ]
     },
     "execution_count": 11,
     "metadata": {},
     "output_type": "execute_result"
    }
   ],
   "source": [
    "def read_goog_file(size=None):\n",
    "    vec_file = '/mnt/Spookley/datasets/semantle/GoogleNews-vectors-negative300.bin'\n",
    "    kv = models.KeyedVectors.load_word2vec_format(vec_file, binary=True, limit=size)\n",
    "    words = kv.index_to_key\n",
    "    w_vecs = {}\n",
    "    good_word = re.compile(r'^[a-z]+$')\n",
    "    for w in words:\n",
    "        # filter out proper nouns, pictograms, emoji, multi-words, etc. Eliminates 95% of the dataset.   \n",
    "        #if not good_word.match(w):\n",
    "        #    continue\n",
    "        if w not in all_en_words:\n",
    "            continue\n",
    "        \n",
    "        w_vecs[w] = kv[w] / np.linalg.norm(kv[w])\n",
    "    mat_full = np.array([w_vecs[w] for w in w_vecs])\n",
    "    w_list = list(w_vecs.keys())\n",
    "    return w_list, normalize(mat_full, axis=1)\n",
    "\n",
    "w_list, mat_full_normed = read_goog_file(size=None)\n",
    "mat_full_normed.shape"
   ]
  },
  {
   "cell_type": "code",
   "execution_count": 13,
   "id": "fff69d67",
   "metadata": {},
   "outputs": [
    {
     "data": {
      "text/plain": [
       "(18776, 18776)"
      ]
     },
     "execution_count": 13,
     "metadata": {},
     "output_type": "execute_result"
    }
   ],
   "source": [
    "#SUBSET=5000\n",
    "#minimat = mat_full_normed[:SUBSET, :]\n",
    "dist_mat = cdist(mat_full_normed, mat_full_normed, metric='cosine')\n",
    "del mat_full_normed\n",
    "dist_mat.shape\n"
   ]
  },
  {
   "cell_type": "code",
   "execution_count": 8,
   "id": "c95936ab",
   "metadata": {},
   "outputs": [
    {
     "name": "stdout",
     "output_type": "stream",
     "text": [
      "18776 computed in 940.513\n",
      "18776 computed in 932.441\n",
      "18776 computed in 950.857\n"
     ]
    }
   ],
   "source": [
    "\n",
    "# Times:\n",
    "# 1000, 5dims - 7 secs\n",
    "# 2000, 5dims - 35 secs\n",
    "# 3000, 5dims - 96 secs\n",
    "# 4000, 5dims - 180 secs\n",
    "\n",
    "for ndims in [30, 10, 50]:\n",
    "    mds = MDS(n_components=ndims, dissimilarity='precomputed', n_init=1)\n",
    "    t0 = time.time()\n",
    "    smol_mat = mds.fit_transform(dist_mat)\n",
    "    np.save('mds{}.npy'.format(ndims), smol_mat)\n",
    "    t1 = time.time()\n",
    "    print(len(dist_mat), 'computed in', round(t1-t0, 3))\n",
    "    \"\"\"\n",
    "    smol_dist = squareform(pdist(smol_mat)).reshape(-1)\n",
    "    orig_dist = dist_mat[:SUBSET, :].reshape(-1)\n",
    "    cc = np.corrcoef(smol_dist, orig_dist)[0,1]\n",
    "    \n",
    "    # too many points makes for a big blob of a plot. To visualize\n",
    "    # density we need way fewer points.\n",
    "    s = random.sample(list(range(len(smol_dist))), 10000)\n",
    "    plt.plot(orig_dist[s], smol_dist[s], ',')\n",
    "    plt.title('MDS, n_dims={}, corr={}'.format(ndims, round(cc,3)))\n",
    "    plt.show()\n",
    "    \"\"\""
   ]
  },
  {
   "cell_type": "code",
   "execution_count": 19,
   "id": "c1977d59",
   "metadata": {},
   "outputs": [],
   "source": [
    "smol_mat = np.load('mds50.npy')"
   ]
  },
  {
   "cell_type": "code",
   "execution_count": 23,
   "id": "840dfc0f",
   "metadata": {},
   "outputs": [
    {
     "data": {
      "image/png": "[encoded data removed]",
      "text/plain": [
       "<Figure size 1080x720 with 1 Axes>"
      ]
     },
     "metadata": {
      "needs_background": "light"
     },
     "output_type": "display_data"
    }
   ],
   "source": [
    "smol_dist = squareform(pdist(smol_mat[5000:9000])).reshape(-1)\n",
    "orig_dist = dist_mat[5000:9000, 5000:9000].reshape(-1)\n",
    "cc = np.corrcoef(smol_dist, orig_dist)[0,1]\n",
    "\n",
    "# too many points makes for a big blob of a plot. To visualize\n",
    "# density we need way fewer points.\n",
    "s = random.sample(list(range(len(smol_dist))), 10000)\n",
    "plt.figure(figsize=(15,10))\n",
    "plt.plot(orig_dist[s], smol_dist[s], ',')\n",
    "plt.title('MDS, n_dims={}, corr={}'.format(ndims, round(cc,3)))\n",
    "plt.xlim(0.4, 1.2)\n",
    "plt.ylim(0.6, 1.2)\n",
    "plt.show()"
   ]
  },
  {
   "cell_type": "code",
   "execution_count": null,
   "id": "7ee2e986",
   "metadata": {},
   "outputs": [],
   "source": []
  },
  {
   "cell_type": "code",
   "execution_count": null,
   "id": "40e5a24c",
   "metadata": {},
   "outputs": [],
   "source": []
  },
  {
   "cell_type": "code",
   "execution_count": null,
   "id": "416edba0",
   "metadata": {},
   "outputs": [],
   "source": []
  },
  {
   "cell_type": "code",
   "execution_count": null,
   "id": "3af16c89",
   "metadata": {},
   "outputs": [],
   "source": []
  },
  {
   "cell_type": "code",
   "execution_count": null,
   "id": "478fc1a0",
   "metadata": {},
   "outputs": [],
   "source": []
  }
 ],
 "metadata": {
  "kernelspec": {
   "display_name": "Python 3 (ipykernel)",
   "language": "python",
   "name": "python3"
  },
  "language_info": {
   "codemirror_mode": {
    "name": "ipython",
    "version": 3
   },
   "file_extension": ".py",
   "mimetype": "text/x-python",
   "name": "python",
   "nbconvert_exporter": "python",
   "pygments_lexer": "ipython3",
   "version": "3.9.7"
  }
 },
 "nbformat": 4,
 "nbformat_minor": 5
}
