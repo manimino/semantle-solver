{
 "cells": [
  {
   "cell_type": "code",
   "execution_count": 23,
   "id": "76fada74",
   "metadata": {},
   "outputs": [],
   "source": [
    "import dataclasses\n",
    "import pickle\n",
    "import random\n",
    "import numpy as np\n",
    "\n",
    "from annoy import AnnoyIndex\n",
    "from tqdm.notebook import tqdm\n",
    "from scipy.spatial.distance import euclidean, pdist, squareform\n",
    "import scipy\n",
    "import scipy.stats as stats\n",
    "from sklearn.decomposition import PCA\n",
    "\n",
    "from matplotlib import pyplot as plt\n",
    "from typing import *\n",
    "\n",
    "from scipy.spatial.distance import cosine as cos_dist\n"
   ]
  },
  {
   "cell_type": "code",
   "execution_count": 2,
   "id": "e9c10b06",
   "metadata": {},
   "outputs": [],
   "source": [
    "def read_glove_file() -> Dict[str, List[float]]:\n",
    "    \"\"\"\n",
    "    Yields the next 'size' vectors in a glove file.\n",
    "    \"\"\"\n",
    "    glove_file = '/mnt/Spookley/datasets/glove/glove.6B.50d.txt'\n",
    "    w_vecs = {}\n",
    "    with tqdm(total=400000) as pbar:\n",
    "        with open(glove_file) as fh:\n",
    "            for line in fh.readlines():\n",
    "                pbar.update(1)\n",
    "                toks = line.strip().split()\n",
    "                word = toks[0]\n",
    "                # non-words like punctuation marks have entries, but we don't want those\n",
    "                if not word.isalnum():  \n",
    "                    continue\n",
    "                # Some bigrams and trigrams are in the dataset. Skip those.\n",
    "                try:\n",
    "                    float(toks[1])\n",
    "                except ValueError:\n",
    "                    continue\n",
    "                # No errors, parse the line.\n",
    "                vec = [float(s) for s in toks[1:]]\n",
    "                vec = np.array(vec)\n",
    "                vec = vec / np.linalg.norm(vec)\n",
    "                vec = vec.tolist()\n",
    "                w_vecs[word] = vec\n",
    "    return w_vecs"
   ]
  },
  {
   "cell_type": "code",
   "execution_count": null,
   "id": "3020c4e3",
   "metadata": {},
   "outputs": [],
   "source": []
  },
  {
   "cell_type": "code",
   "execution_count": 3,
   "id": "a3c1db2b",
   "metadata": {},
   "outputs": [],
   "source": [
    "def build_index(w_vecs: Dict[str, List[float]]) -> Tuple[Dict[int, str], AnnoyIndex]:\n",
    "    for v in w_vecs.values():\n",
    "        GLOVE_VEC_SIZE = len(v)\n",
    "        break\n",
    "    idx_to_word = {}\n",
    "    ann_index = AnnoyIndex(GLOVE_VEC_SIZE, 'euclidean')\n",
    "    with tqdm(total=len(w_vecs)) as pbar:\n",
    "        for i, w in enumerate(w_vecs.keys()):\n",
    "            pbar.update(1)\n",
    "            ann_index.add_item(i, w_vecs[w])\n",
    "            idx_to_word[i] = w\n",
    "    ann_index.build(20) # n trees\n",
    "    return idx_to_word, ann_index"
   ]
  },
  {
   "cell_type": "code",
   "execution_count": null,
   "id": "a854d0c5",
   "metadata": {},
   "outputs": [],
   "source": []
  },
  {
   "cell_type": "code",
   "execution_count": 31,
   "id": "8a525379",
   "metadata": {},
   "outputs": [
    {
     "data": {
      "application/vnd.jupyter.widget-view+json": {
       "model_id": "0871c29e870241ebad1d60b24249c9fb",
       "version_major": 2,
       "version_minor": 0
      },
      "text/plain": [
       "  0%|          | 0/400000 [00:00<?, ?it/s]"
      ]
     },
     "metadata": {},
     "output_type": "display_data"
    },
    {
     "name": "stdout",
     "output_type": "stream",
     "text": [
      "(336158, 20)\n"
     ]
    }
   ],
   "source": [
    "w_vecs = read_glove_file()\n",
    "pca = PCA(n_components=20)\n",
    "mat_full = np.array([w_vecs[w] for w in w_vecs])\n",
    "mat = pca.fit_transform(mat_full)\n",
    "\n",
    "print(mat.shape)\n",
    "for i, w in enumerate(w_vecs.keys()):\n",
    "    w_vecs[w] = mat[i, :]"
   ]
  },
  {
   "cell_type": "code",
   "execution_count": 32,
   "id": "f7fedf89",
   "metadata": {},
   "outputs": [
    {
     "data": {
      "application/vnd.jupyter.widget-view+json": {
       "model_id": "dc5fc7277f2545db9c376188013b6d93",
       "version_major": 2,
       "version_minor": 0
      },
      "text/plain": [
       "  0%|          | 0/336158 [00:00<?, ?it/s]"
      ]
     },
     "metadata": {},
     "output_type": "display_data"
    }
   ],
   "source": [
    "\n",
    "idx_to_word, ann_index = build_index(w_vecs)  # fast\n"
   ]
  },
  {
   "cell_type": "code",
   "execution_count": 33,
   "id": "edccc338",
   "metadata": {},
   "outputs": [
    {
     "name": "stdout",
     "output_type": "stream",
     "text": [
      "0.5060883330250372\n",
      "0.6487490476460706\n",
      "0.9384484231299287\n"
     ]
    }
   ],
   "source": [
    "print(euclidean(w_vecs['strawberry'], w_vecs['peach']))\n",
    "print(euclidean(w_vecs['strawberry'], w_vecs['banana']))\n",
    "print(euclidean(w_vecs['strawberry'], w_vecs['envelope']))"
   ]
  },
  {
   "cell_type": "code",
   "execution_count": 34,
   "id": "5d985613",
   "metadata": {},
   "outputs": [],
   "source": [
    "def random_point_in_dist(point, dist):\n",
    "    # For when we know the dist but have no idea what direction to travel\n",
    "    vec = np.random.random((len(point)))\n",
    "    vec = vec / scipy.linalg.norm(vec)\n",
    "    vec = vec * dist\n",
    "    return vec+point\n",
    "\n",
    "\n",
    "def directed_point_in_dist(p1, p2, p1_dist, p2_dist):\n",
    "    # Generate a vector using p1 and p2.\n",
    "    # Check if it will point in the general direction of our target.\n",
    "    p1p2 = (p1-p2)\n",
    "    p1p2mag = scipy.linalg.norm(p1p2)\n",
    "    if p1p2mag < 0.00001:\n",
    "        return None, 0\n",
    "    p1p2_unit = p1p2 / p1p2mag\n",
    "    if p1_dist < p2_dist:\n",
    "        # p1 is closer to target\n",
    "        mag = p1_dist\n",
    "        target_point = p1 + p1p2_unit*mag\n",
    "        confidence = (p2_dist-p1_dist) / p1p2mag\n",
    "        assert confidence >= 0\n",
    "    else:\n",
    "        # j is closer to target\n",
    "        # make a vector from j to a target that is dists[j] away\n",
    "        mag = p2_dist\n",
    "        target_point = p2 - p1p2_unit*mag\n",
    "        confidence = (p1_dist-p2_dist) / p1p2mag\n",
    "        assert confidence >= 0\n",
    "    return target_point, confidence"
   ]
  },
  {
   "cell_type": "code",
   "execution_count": 35,
   "id": "bc82d9f3",
   "metadata": {},
   "outputs": [
    {
     "name": "stdout",
     "output_type": "stream",
     "text": [
      "expect [0,6] (array([0., 6.]), 1.0)\n",
      "expect [0,6] (array([0., 6.]), 1.0)\n"
     ]
    }
   ],
   "source": [
    "# test case - target at [0,6], points on y axis\n",
    "p1 = np.array([0,0])\n",
    "p2 = np.array([0,2])\n",
    "target = np.array([0,6])\n",
    "d1 = euclidean(p1, target)\n",
    "d2 = euclidean(p2, target)\n",
    "print('expect [0,6]', directed_point_in_dist(p1, p2, d1, d2))\n",
    "print('expect [0,6]', directed_point_in_dist(p2, p1, d2, d1))"
   ]
  },
  {
   "cell_type": "code",
   "execution_count": 36,
   "id": "8179488a",
   "metadata": {},
   "outputs": [
    {
     "name": "stdout",
     "output_type": "stream",
     "text": [
      "expect [1,3] (array([0.        , 3.41421356]), 0.8740320488976422)\n",
      "expect [1,3] (array([0.        , 3.41421356]), 0.8740320488976422)\n"
     ]
    }
   ],
   "source": [
    "# test case - target at [1,3], points on y axis\n",
    "p1 = np.array([0,0])\n",
    "p2 = np.array([0,2])\n",
    "target = np.array([1,3])\n",
    "d1 = euclidean(p1, target)\n",
    "d2 = euclidean(p2, target)\n",
    "print('expect [1,3]', directed_point_in_dist(p1, p2, d1, d2))\n",
    "print('expect [1,3]', directed_point_in_dist(p2, p1, d2, d1))"
   ]
  },
  {
   "cell_type": "code",
   "execution_count": 37,
   "id": "45e4d28e",
   "metadata": {},
   "outputs": [
    {
     "name": "stdout",
     "output_type": "stream",
     "text": [
      "3.1622776601683795 3.1622776601683795\n",
      "expect zero confidence (array([0.        , 5.16227766]), 0.0)\n",
      "expect zero confidence (array([ 0.        , -3.16227766]), 0.0)\n"
     ]
    }
   ],
   "source": [
    "# test case - target at [3,1], points on y axis\n",
    "p1 = np.array([0,0])\n",
    "p2 = np.array([0,2])\n",
    "target = np.array([3,1])\n",
    "d1 = euclidean(p1, target)\n",
    "d2 = euclidean(p2, target)\n",
    "print(d1, d2)\n",
    "print('expect zero confidence', directed_point_in_dist(p1, p2, d1, d2))\n",
    "print('expect zero confidence', directed_point_in_dist(p2, p1, d2, d1))"
   ]
  },
  {
   "cell_type": "code",
   "execution_count": null,
   "id": "2b0d8ab1",
   "metadata": {},
   "outputs": [],
   "source": []
  },
  {
   "cell_type": "code",
   "execution_count": 41,
   "id": "473dabde",
   "metadata": {},
   "outputs": [],
   "source": [
    "class SemantleGame():\n",
    "    def __init__(self, w_vecs):\n",
    "        w_list = list(w_vecs.keys())\n",
    "        self.target_word = random.choice(w_list[1000:10000])\n",
    "        self.target_vec = w_vecs[self.target_word]\n",
    "        \n",
    "    def guess(self, word, vec) -> Tuple[bool, float]:\n",
    "        # construct guess\n",
    "        # dist = euclidean(vec, self.target_vec) lol nope!\n",
    "        sim_score = 1-cos_dist(vec, self.target_vec)\n",
    "        dist = (0.04471114)*sim_score**3 + (0.0740919)*sim_score**2 + (-0.74640201)*sim_score + (0.95066707)\n",
    "        # check if win\n",
    "        if word == self.target_word:\n",
    "            return True, dist\n",
    "        else:\n",
    "            return False, dist\n",
    "    \n",
    "    def display_guesses(self):\n",
    "        s = []\n",
    "        for g in sorted(self.guesses, key = lambda g: g.dist):\n",
    "            s.append(str(g))\n",
    "        print('\\n'.join(s))\n",
    "        \n",
    "    def __str__(self):\n",
    "        return '\\n'.join('{}: {}'.format(k, v) for k, v in self.__dict__.items())"
   ]
  },
  {
   "cell_type": "code",
   "execution_count": 46,
   "id": "696b537e",
   "metadata": {},
   "outputs": [],
   "source": [
    "@dataclasses.dataclass\n",
    "class Guess:\n",
    "    word: str\n",
    "    num: int\n",
    "    dist: float\n",
    "    \n",
    "class SemantleSolver:\n",
    "    \n",
    "    def __init__(self, n_random_guesses=2, game=None):\n",
    "        self.n_random_guesses = n_random_guesses\n",
    "        self.closest_dist = float('inf')\n",
    "        self.guesses = []  # List[Guess]\n",
    "        self.guessed_words = set()  # for fast lookup\n",
    "        self.best_guess = None\n",
    "        self.game = game\n",
    "        \n",
    "        self.N_RANDOM = 2\n",
    "        self.CONF_THRESH = 0.33\n",
    "        \n",
    "        self.stats = {\n",
    "            'grd_high_conf': 0,\n",
    "            'grd_random_dist': 0,\n",
    "            'times_gradient': 0,\n",
    "            'times_exhaustive': 0,\n",
    "            'times_random': 0,\n",
    "        }\n",
    "        \n",
    "    def _gradient_method(self, w_vecs, ann_index):\n",
    "        # Use gradient method to get a closer guess.\n",
    "        p1 = np.array(w_vecs[self.guesses[-1].word])\n",
    "        p1_dist = self.guesses[-1].dist\n",
    "        \n",
    "        # Consider the few most recent points. \n",
    "        # Try and find one with a vector through p1 that points towards the target.\n",
    "        best_point = None\n",
    "        best_confidence = 0\n",
    "        for i in range(2, min(10, len(self.guesses))):\n",
    "            p2 = np.array(w_vecs[self.guesses[-i].word])\n",
    "            p2_dist = self.guesses[-i].dist\n",
    "            \n",
    "            # where does p2->p1 point? and how well aligned is that spot with the target?\n",
    "            target_point, confidence = directed_point_in_dist(p1, p2, p1_dist, p2_dist)\n",
    "            if confidence > best_confidence:\n",
    "                best_confidence = confidence\n",
    "                best_point = target_point\n",
    "                \n",
    "        if best_confidence < self.CONF_THRESH:\n",
    "            self.stats['grd_random_dist'] += 1\n",
    "            vec = np.array(w_vecs[self.best_guess])\n",
    "            best_point = random_point_in_dist(vec, self.closest_dist)\n",
    "        else:\n",
    "            self.stats['grd_high_conf'] += 1\n",
    "\n",
    "        return best_point\n",
    "\n",
    "    \n",
    "    def find_next_guess(self, w_vecs, ann_index, idx_to_word) -> bool:\n",
    "        if len(self.guesses) < self.N_RANDOM:\n",
    "            self.stats['times_random'] += 1\n",
    "            next_word = random.choice(list(w_vecs.keys()))\n",
    "        else:\n",
    "            self.stats['times_gradient'] += 1\n",
    "            v = self._gradient_method(w_vecs, ann_index)\n",
    "            idxs_near_best = ann_index.get_nns_by_vector(v, 1000)\n",
    "            for idx in idxs_near_best:\n",
    "                w = idx_to_word[idx]\n",
    "                if w not in self.guessed_words:\n",
    "                    next_word = w\n",
    "                    break\n",
    "            \n",
    "        return next_word\n",
    "\n",
    "    def make_guess(self, word):\n",
    "        # guess the word\n",
    "        win, dist = self.game.guess(word, w_vecs[word])\n",
    "        self.guessed_words.add(word)\n",
    "        self.guesses.append(Guess(word=word, dist=dist, num=len(self.guesses)+1))\n",
    "        \n",
    "        # see if this one's better\n",
    "        if self.best_guess is None or dist < self.closest_dist:\n",
    "            #print(word, round(dist, 3))\n",
    "            self.closest_dist = dist\n",
    "            self.best_guess = word\n",
    "        \n",
    "        if win:\n",
    "            #print(\"I win!\")\n",
    "            return True\n",
    "        else:\n",
    "            return False\n",
    "    \n",
    "    def add_guess(self, guess, score):\n",
    "        # Adds a guess from an external source. For playing Real Semantle.\n",
    "        dist = score_to_dist(score)\n",
    "        self.guessed_words.add(word)\n",
    "        self.guesses.append(Guess(word=word, dist=dist, num=len(self.guesses)+1))\n",
    "        if self.best_guess is None or dist < self.closest_dist:\n",
    "            #print(word, round(dist, 3))\n",
    "            self.closest_dist = dist\n",
    "            self.best_guess = word\n",
    "        "
   ]
  },
  {
   "cell_type": "code",
   "execution_count": null,
   "id": "edbc33ee",
   "metadata": {},
   "outputs": [],
   "source": []
  },
  {
   "cell_type": "code",
   "execution_count": 43,
   "id": "506b9fc2",
   "metadata": {},
   "outputs": [
    {
     "name": "stdout",
     "output_type": "stream",
     "text": [
      "def\n",
      "frase 0.786\n",
      "björling 0.896\n",
      "samp 0.716\n",
      "sylvain 0.667\n",
      "wiltord 0.691\n",
      "francais 0.711\n",
      "springbok 0.77\n",
      "habana 0.664\n",
      "makelele 0.636\n",
      "zinedine 0.673\n",
      "drogba 0.636\n",
      "kalou 0.672\n",
      "kluivert 0.668\n",
      "bergkamp 0.667\n",
      "juninho 0.636\n",
      "geremi 0.611\n",
      "essien 0.613\n",
      "dindane 0.737\n",
      "foudy 0.688\n",
      "puyol 0.591\n",
      "xavi 0.623\n",
      "figo 0.639\n",
      "carles 0.604\n",
      "mendes 0.598\n",
      "patrice 0.539\n",
      "cofidis 0.644\n",
      "reyna 0.603\n",
      "desailly 0.709\n",
      "evra 0.619\n",
      "deschamps 0.654\n",
      "malouda 0.582\n",
      "yannick 0.694\n",
      "flanker 0.668\n",
      "didier 0.544\n",
      "millar 0.507\n",
      "nicky 0.598\n",
      "winger 0.555\n",
      "webber 0.581\n",
      "lilian 0.609\n",
      "robin 0.482\n",
      "jamie 0.516\n",
      "ashley 0.513\n",
      "anthony 0.531\n",
      "nick 0.522\n",
      "shane 0.623\n",
      "kerr 0.546\n",
      "sally 0.526\n",
      "kelly 0.519\n",
      "cole 0.553\n",
      "starring 0.531\n",
      "jeremy 0.54\n",
      "ryder 0.659\n",
      "farrell 0.58\n",
      "sean 0.524\n",
      "salomon 0.544\n",
      "shannon 0.484\n",
      "lance 0.583\n",
      "kate 0.541\n",
      "davies 0.494\n",
      "stars 0.57\n",
      "carragher 0.593\n",
      "fleming 0.598\n",
      "craig 0.583\n",
      "jessica 0.504\n",
      "starred 0.532\n",
      "star 0.534\n",
      "alongside 0.516\n",
      "nash 0.561\n",
      "ashton 0.582\n",
      "daly 0.55\n",
      "slater 0.555\n",
      "beckham 0.591\n",
      "poulter 0.615\n",
      "jacobs 0.571\n",
      "corey 0.63\n",
      "woosnam 0.644\n",
      "justin 0.539\n",
      "matthew 0.541\n",
      "trio 0.586\n",
      "morgan 0.487\n",
      "eddie 0.54\n",
      "chris 0.526\n",
      "partner 0.496\n",
      "melanie 0.488\n",
      "leigh 0.624\n",
      "lambert 0.519\n",
      "anderson 0.533\n",
      "darren 0.577\n",
      "byrne 0.594\n",
      "lauren 0.559\n",
      "robben 0.615\n",
      "b 0.496\n",
      "ian 0.569\n",
      "brad 0.597\n",
      "blake 0.497\n",
      "simon 0.485\n",
      "harrington 0.589\n",
      "glover 0.601\n",
      "holloway 0.543\n",
      "veronica 0.508\n",
      "renee 0.569\n",
      "nicole 0.502\n",
      "williams 0.486\n",
      "kevin 0.534\n",
      "mcguire 0.618\n",
      "rounder 0.676\n",
      "equities 0.638\n",
      "logan 0.591\n",
      "murphy 0.544\n",
      "jones 0.544\n",
      "gavin 0.578\n",
      "bravo 0.529\n",
      "tracy 0.565\n",
      "westwood 0.56\n",
      "superstar 0.582\n",
      "watson 0.586\n",
      "chase 0.627\n",
      "maguire 0.651\n",
      "adam 0.542\n",
      "campbell 0.537\n",
      "ryan 0.528\n",
      "walker 0.529\n",
      "montgomerie 0.603\n",
      "david 0.498\n",
      "gerrard 0.605\n",
      "crowe 0.685\n",
      "griffiths 0.577\n",
      "julianne 0.674\n",
      "hargreaves 0.661\n",
      "langer 0.568\n",
      "steven 0.574\n",
      "rebecca 0.465\n",
      "elliott 0.56\n",
      "hilary 0.571\n",
      "michelle 0.459\n",
      "jennifer 0.474\n",
      "laura 0.468\n",
      "lisa 0.436\n",
      "julie 0.481\n",
      "mcbride 0.471\n",
      "lindsay 0.444\n",
      "lucas 0.524\n",
      "angela 0.426\n",
      "martin 0.486\n",
      "julia 0.446\n",
      "marie 0.467\n",
      "andrea 0.472\n",
      "claire 0.474\n",
      "nancy 0.507\n",
      "keller 0.516\n",
      "sandra 0.46\n",
      "joan 0.491\n",
      "gina 0.477\n",
      "christine 0.473\n",
      "becker 0.463\n",
      "raymond 0.473\n",
      "pamela 0.531\n",
      "nicolas 0.455\n",
      "murray 0.473\n",
      "eva 0.481\n",
      "holland 0.47\n",
      "ann 0.483\n",
      "winner 0.465\n",
      "hewitt 0.461\n",
      "vincent 0.519\n",
      "alex 0.418\n",
      "andy 0.487\n",
      "danny 0.525\n",
      "daniel 0.459\n",
      "torres 0.486\n",
      "tony 0.555\n",
      "scored 0.512\n",
      "jackie 0.579\n",
      "newcomer 0.455\n",
      "adrian 0.448\n",
      "teammate 0.511\n",
      "vince 0.593\n",
      "matt 0.532\n",
      "sebastian 0.485\n",
      "brian 0.576\n",
      "henderson 0.56\n",
      "richards 0.534\n",
      "stan 0.569\n",
      "angel 0.521\n",
      "trevor 0.562\n",
      "robson 0.509\n",
      "frank 0.558\n",
      "cabrera 0.569\n",
      "miranda 0.487\n",
      "jason 0.526\n",
      "greg 0.543\n",
      "evans 0.496\n",
      "carlos 0.521\n",
      "ferguson 0.554\n",
      "harper 0.519\n",
      "bryan 0.558\n",
      "robinson 0.578\n",
      "dennis 0.568\n",
      "davis 0.508\n",
      "gabriel 0.48\n",
      "donovan 0.569\n",
      "replaces 0.49\n",
      "barry 0.573\n",
      "def 0.323\n",
      "{'grd_high_conf': 0, 'grd_random_dist': 202, 'times_gradient': 202, 'times_exhaustive': 0, 'times_random': 2}\n"
     ]
    }
   ],
   "source": [
    "game = SemantleGame(w_vecs)\n",
    "player = SemantleSolver(game=game)\n",
    "print(game.target_word)\n",
    "won = False\n",
    "while not won:\n",
    "    word = player.find_next_guess(w_vecs, ann_index, idx_to_word)\n",
    "    won = player.make_guess(word)\n",
    "    g = player.guesses[-1]\n",
    "    print(g.word, round(g.dist, 3))\n",
    "    if len(player.guesses) > 5000:\n",
    "        print('stopped. ')\n",
    "        print('Best guess:', player.best_guess, 'dist:', player.closest_dist)\n",
    "        break\n",
    "\n",
    "print(player.stats)"
   ]
  },
  {
   "cell_type": "code",
   "execution_count": null,
   "id": "8d1dc713",
   "metadata": {},
   "outputs": [],
   "source": []
  },
  {
   "cell_type": "code",
   "execution_count": 16,
   "id": "317637a9",
   "metadata": {},
   "outputs": [],
   "source": [
    "# grid search time.\n",
    "def run_trial(exh, n_rand, conf_thresh, w_vecs, idx_to_word, ann_index):\n",
    "    # make a game\n",
    "    \n",
    "    game = SemantleGame(w_vecs)\n",
    "    player = SemantleSolver(game=game)\n",
    "    \n",
    "    player.EXH_THRESH = exh\n",
    "    player.N_RANDOM = n_rand\n",
    "    player.CONF_THRESH = conf_thresh\n",
    "    \n",
    "    won = False\n",
    "    while not won:\n",
    "        word = player.find_next_guess(w_vecs, ann_index, idx_to_word)\n",
    "        won = player.make_guess(word)\n",
    "        if len(player.guesses) > 1000:\n",
    "            break\n",
    "    return len(player.guesses)"
   ]
  },
  {
   "cell_type": "code",
   "execution_count": 18,
   "id": "58145366",
   "metadata": {},
   "outputs": [
    {
     "data": {
      "application/vnd.jupyter.widget-view+json": {
       "model_id": "1c2fb07582724cd796d098b122c047c3",
       "version_major": 2,
       "version_minor": 0
      },
      "text/plain": [
       "  0%|          | 0/400000 [00:00<?, ?it/s]"
      ]
     },
     "metadata": {},
     "output_type": "display_data"
    },
    {
     "data": {
      "application/vnd.jupyter.widget-view+json": {
       "model_id": "6e8d19154f764259bd78f9c681d49322",
       "version_major": 2,
       "version_minor": 0
      },
      "text/plain": [
       "  0%|          | 0/336158 [00:00<?, ?it/s]"
      ]
     },
     "metadata": {},
     "output_type": "display_data"
    },
    {
     "name": "stdout",
     "output_type": "stream",
     "text": [
      "(10, 0.001, 3, 0.2) 215.85\n",
      "(10, 0.001, 3, 0.3) 193.4\n",
      "(10, 0.001, 3, 0.4) 59.8\n",
      "(10, 0.001, 3, 0.6) 94.4\n",
      "(10, 0.001, 3, 0.8) 324.15\n"
     ]
    },
    {
     "data": {
      "application/vnd.jupyter.widget-view+json": {
       "model_id": "a141a04b584d423cb4437b9b8a1a2d85",
       "version_major": 2,
       "version_minor": 0
      },
      "text/plain": [
       "  0%|          | 0/400000 [00:00<?, ?it/s]"
      ]
     },
     "metadata": {},
     "output_type": "display_data"
    },
    {
     "data": {
      "application/vnd.jupyter.widget-view+json": {
       "model_id": "2a12863584a14463ba17622d31332fbe",
       "version_major": 2,
       "version_minor": 0
      },
      "text/plain": [
       "  0%|          | 0/336158 [00:00<?, ?it/s]"
      ]
     },
     "metadata": {},
     "output_type": "display_data"
    },
    {
     "name": "stdout",
     "output_type": "stream",
     "text": [
      "(15, 0.001, 3, 0.2) 103.4\n",
      "(15, 0.001, 3, 0.3) 121.1\n",
      "(15, 0.001, 3, 0.4) 84.25\n",
      "(15, 0.001, 3, 0.6) 190.4\n",
      "(15, 0.001, 3, 0.8) 334.25\n"
     ]
    },
    {
     "data": {
      "application/vnd.jupyter.widget-view+json": {
       "model_id": "234ff15c5b744eec9dfd3d686711cceb",
       "version_major": 2,
       "version_minor": 0
      },
      "text/plain": [
       "  0%|          | 0/400000 [00:00<?, ?it/s]"
      ]
     },
     "metadata": {},
     "output_type": "display_data"
    },
    {
     "data": {
      "application/vnd.jupyter.widget-view+json": {
       "model_id": "4fb301d776ed4083bd4e4e70d2413098",
       "version_major": 2,
       "version_minor": 0
      },
      "text/plain": [
       "  0%|          | 0/336158 [00:00<?, ?it/s]"
      ]
     },
     "metadata": {},
     "output_type": "display_data"
    },
    {
     "name": "stdout",
     "output_type": "stream",
     "text": [
      "(20, 0.001, 3, 0.2) 151.35\n",
      "(20, 0.001, 3, 0.3) 185.65\n",
      "(20, 0.001, 3, 0.4) 124.6\n",
      "(20, 0.001, 3, 0.6) 220.75\n",
      "(20, 0.001, 3, 0.8) 322.0\n",
      "{(10, 0.001, 3, 0.2): 215.85, (10, 0.001, 3, 0.3): 193.4, (10, 0.001, 3, 0.4): 59.8, (10, 0.001, 3, 0.6): 94.4, (10, 0.001, 3, 0.8): 324.15, (15, 0.001, 3, 0.2): 103.4, (15, 0.001, 3, 0.3): 121.1, (15, 0.001, 3, 0.4): 84.25, (15, 0.001, 3, 0.6): 190.4, (15, 0.001, 3, 0.8): 334.25, (20, 0.001, 3, 0.2): 151.35, (20, 0.001, 3, 0.3): 185.65, (20, 0.001, 3, 0.4): 124.6, (20, 0.001, 3, 0.6): 220.75, (20, 0.001, 3, 0.8): 322.0}\n"
     ]
    }
   ],
   "source": [
    "\n",
    "n_dims = [10, 15, 20]\n",
    "exh_threshes = [0.001]\n",
    "n_randoms = [3]\n",
    "conf_threshes = [0.2, 0.3, 0.4, 0.6, 0.8]\n",
    "n_trials = 20\n",
    "\n",
    "params_results = {}\n",
    "\n",
    "for n_dim in n_dims:\n",
    "    \n",
    "    # set up space\n",
    "    w_vecs = read_glove_file()\n",
    "    pca = PCA(n_components=n_dim)\n",
    "    mat_full = np.array([w_vecs[w] for w in w_vecs])\n",
    "    mat = pca.fit_transform(mat_full)\n",
    "\n",
    "    for i, w in enumerate(w_vecs.keys()):\n",
    "        w_vecs[w] = mat[i, :]\n",
    "\n",
    "    idx_to_word, ann_index = build_index(w_vecs)\n",
    "\n",
    "    \n",
    "    for exh in exh_threshes:\n",
    "        for n_rand in n_randoms:\n",
    "            for conf_thresh in conf_threshes:\n",
    "                params = (n_dim, exh, n_rand, conf_thresh)\n",
    "                for trial in range(n_trials):\n",
    "                    n_guesses = run_trial(exh, n_rand, conf_thresh, w_vecs, idx_to_word, ann_index)\n",
    "                    if not params in params_results:\n",
    "                        params_results[params] = 0\n",
    "                    params_results[params] += n_guesses\n",
    "                params_results[params] /= n_trials\n",
    "                print(params, params_results[params])\n",
    "\n",
    "print(params_results)"
   ]
  },
  {
   "cell_type": "code",
   "execution_count": null,
   "id": "9533f00d",
   "metadata": {},
   "outputs": [],
   "source": [
    "print(list(sorted(zip(params_results.items()), key=lambda x: x[1]))[:10])"
   ]
  },
  {
   "cell_type": "code",
   "execution_count": null,
   "id": "d0f9a028",
   "metadata": {},
   "outputs": [],
   "source": [
    "ls = list(sorted(zip(params_results.items()), key = lambda x: x[0][1]))"
   ]
  },
  {
   "cell_type": "code",
   "execution_count": null,
   "id": "4ba93daf",
   "metadata": {},
   "outputs": [],
   "source": [
    "for item in ls:\n",
    "    print(item)"
   ]
  },
  {
   "cell_type": "code",
   "execution_count": 45,
   "id": "1dcc755d",
   "metadata": {},
   "outputs": [],
   "source": [
    "def score_to_dist(score):\n",
    "    sim_score = score / 100\n",
    "    return (0.04471114)*sim_score**3 + (0.0740919)*sim_score**2 + (-0.74640201)*sim_score + (0.95066707)"
   ]
  },
  {
   "cell_type": "code",
   "execution_count": 56,
   "id": "5fd9188a",
   "metadata": {},
   "outputs": [
    {
     "data": {
      "text/plain": [
       "'perpignan'"
      ]
     },
     "execution_count": 56,
     "metadata": {},
     "output_type": "execute_result"
    }
   ],
   "source": [
    "# Now make something that plays Real Semantle\n",
    "s_play = SemantleSolver()\n",
    "s_play.add_guess('liar', 16.14)\n",
    "s_play.add_guess('godzilla', 0.03)\n",
    "s_play.add_guess('andre', 4.95)\n",
    "s_play.add_guess('robot', -2.04)\n",
    "s_play.add_guess('bravo', 4.86)\n",
    "s_play.add_guess('panic', 5.47)\n",
    "s_play.add_guess('media', 10.97)\n",
    "s_play.add_guess('gbr', -2.02)\n",
    "s_play.add_guess('strange', -6.41)\n",
    "s_play.add_guess('cast', -6.41)\n",
    "s_play.find_next_guess(w_vecs, ann_index, idx_to_word)"
   ]
  },
  {
   "cell_type": "code",
   "execution_count": 44,
   "id": "61e7357d",
   "metadata": {},
   "outputs": [],
   "source": []
  },
  {
   "cell_type": "code",
   "execution_count": null,
   "id": "1c1ec63e",
   "metadata": {},
   "outputs": [],
   "source": []
  }
 ],
 "metadata": {
  "kernelspec": {
   "display_name": "Python 3",
   "language": "python",
   "name": "python3"
  },
  "language_info": {
   "codemirror_mode": {
    "name": "ipython",
    "version": 3
   },
   "file_extension": ".py",
   "mimetype": "text/x-python",
   "name": "python",
   "nbconvert_exporter": "python",
   "pygments_lexer": "ipython3",
   "version": "3.8.8"
  }
 },
 "nbformat": 4,
 "nbformat_minor": 5
}
