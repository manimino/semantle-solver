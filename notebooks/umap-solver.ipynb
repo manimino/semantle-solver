{
 "cells": [
  {
   "cell_type": "markdown",
   "id": "e66929ff",
   "metadata": {},
   "source": [
    "# UMAP solver\n",
    "\n",
    "uses the models generated in youmap.ipynb\n"
   ]
  },
  {
   "cell_type": "code",
   "execution_count": 2,
   "id": "686a0c31",
   "metadata": {},
   "outputs": [],
   "source": [
    "import umap\n",
    "import math\n",
    "import dataclasses\n",
    "import pickle\n",
    "import random\n",
    "import numpy as np\n",
    "import os\n",
    "import time\n",
    "import multiprocessing\n",
    "from joblib import Parallel, delayed\n",
    "import re\n",
    "from functools import lru_cache\n",
    "from annoy import AnnoyIndex\n",
    "from tqdm.notebook import tqdm\n",
    "from scipy.spatial.distance import euclidean, pdist, squareform\n",
    "import scipy\n",
    "import scipy.stats as stats\n",
    "from sklearn.decomposition import PCA, TruncatedSVD\n",
    "from scipy.spatial.distance import cosine as cos_dist\n",
    "from sklearn.preprocessing import normalize, StandardScaler\n",
    "from gensim import models\n",
    "from scipy.optimize import curve_fit\n",
    "from matplotlib import pyplot as plt\n",
    "from scipy.stats import binned_statistic\n",
    "from typing import *"
   ]
  },
  {
   "cell_type": "code",
   "execution_count": 4,
   "id": "655bd748",
   "metadata": {},
   "outputs": [],
   "source": [
    "DATA_DIR = '/home/theo/repos/semantle/'"
   ]
  },
  {
   "cell_type": "code",
   "execution_count": 5,
   "id": "ba2440ca",
   "metadata": {},
   "outputs": [],
   "source": [
    "def read_goog_file(size=None):\n",
    "    vec_file = DATA_DIR + 'GoogleNews-vectors-negative300.bin'\n",
    "    kv = models.KeyedVectors.load_word2vec_format(vec_file, binary=True, limit=size)\n",
    "    words = kv.index_to_key\n",
    "    w_vecs = {}\n",
    "    good_word = re.compile(r'^[a-z]+$')\n",
    "    for w in words:\n",
    "        # filter out proper nouns, pictograms, emoji, multi-words, etc. Eliminates 95% of the dataset.   \n",
    "        if not good_word.match(w):\n",
    "            continue\n",
    "        \n",
    "        w_vecs[w] = kv[w] / np.linalg.norm(kv[w])\n",
    "    mat_full = np.array([w_vecs[w] for w in w_vecs])\n",
    "    w_list = list(w_vecs.keys())\n",
    "    return w_list, normalize(mat_full, axis=1)\n",
    "\n",
    "w_list, orig_mat = read_goog_file()"
   ]
  },
  {
   "cell_type": "code",
   "execution_count": null,
   "id": "88c7fec1",
   "metadata": {},
   "outputs": [],
   "source": []
  },
  {
   "cell_type": "code",
   "execution_count": 6,
   "id": "a5aa50cb",
   "metadata": {},
   "outputs": [],
   "source": [
    "# get stuff we need from prior experiments\n",
    "with open(DATA_DIR+'w_list_155060.pkl', 'rb') as fh:\n",
    "    w_list = pickle.load(fh)\n",
    "\n",
    "umap_files = []\n",
    "for fn in os.listdir(DATA_DIR):\n",
    "    if fn.startswith('umap_155060'):\n",
    "        umap_files.append(fn)\n",
    "\n",
    "@dataclasses.dataclass\n",
    "class UMAPFile():\n",
    "    name: str\n",
    "    rows: int\n",
    "    dims: int\n",
    "    nns: int\n",
    "    curve: list\n",
    "\n",
    "\n",
    "with open(DATA_DIR+'umap_curves.pkl', 'rb') as fh:\n",
    "    curves = pickle.load(fh)\n",
    "for c in curves:\n",
    "    c.name = DATA_DIR + c.name.split('/')[-1]\n"
   ]
  },
  {
   "cell_type": "code",
   "execution_count": 7,
   "id": "43b3e4e6",
   "metadata": {},
   "outputs": [],
   "source": [
    "# core semantle-solver stuff\n",
    "def build_index(w_vecs: Dict[str, List[float]]) -> Tuple[Dict[int, str], AnnoyIndex]:\n",
    "    for v in w_vecs.values():\n",
    "        GLOVE_VEC_SIZE = len(v)\n",
    "        break\n",
    "    idx_to_word = {}\n",
    "    ann_index = AnnoyIndex(GLOVE_VEC_SIZE, 'euclidean')\n",
    "    with tqdm(total=len(w_vecs)) as pbar:\n",
    "        for i, w in enumerate(w_vecs.keys()):\n",
    "            pbar.update(1)\n",
    "            ann_index.add_item(i, w_vecs[w])\n",
    "            idx_to_word[i] = w\n",
    "    ann_index.build(20) # n trees\n",
    "    return idx_to_word, ann_index"
   ]
  },
  {
   "cell_type": "code",
   "execution_count": 8,
   "id": "289f599d",
   "metadata": {},
   "outputs": [],
   "source": [
    "def random_point_in_dist(point, dist):\n",
    "    # For when we know the dist but have no idea what direction to travel\n",
    "    vec = np.random.random((len(point)))\n",
    "    vec = vec / scipy.linalg.norm(vec)\n",
    "    vec = vec * dist*0.5\n",
    "    return vec+point\n",
    "\n",
    "\n",
    "def directed_point_in_dist(p1, p2, p1_dist, p2_dist):\n",
    "    # Generate a vector using p1 and p2.\n",
    "    # Check if it will point in the general direction of our target.\n",
    "    p1p2 = (p1-p2)\n",
    "    p1p2mag = scipy.linalg.norm(p1p2)\n",
    "    if p1p2mag < 0.00001:\n",
    "        return None, 0\n",
    "    p1p2_unit = p1p2 / p1p2mag\n",
    "    if p1_dist < p2_dist:\n",
    "        # p1 is closer to target\n",
    "        mag = p1_dist\n",
    "        target_point = p1 + p1p2_unit*mag\n",
    "        confidence = (p2_dist-p1_dist) / p1p2mag\n",
    "        assert confidence >= 0\n",
    "    else:\n",
    "        # j is closer to target\n",
    "        # make a vector from j to a target that is dists[j] away\n",
    "        mag = p2_dist\n",
    "        target_point = p2 - p1p2_unit*mag\n",
    "        confidence = (p1_dist-p2_dist) / p1p2mag\n",
    "        assert confidence >= 0\n",
    "    return target_point, confidence"
   ]
  },
  {
   "cell_type": "code",
   "execution_count": 9,
   "id": "f34e49d9",
   "metadata": {},
   "outputs": [],
   "source": [
    "def score_to_dist(score: float, curve: List[float]):\n",
    "    # convert a [-100..100] semantle score (which is cos sim * 100) to a euclidean distance in reduced space\n",
    "    c_dist = 1 - (score / 100)\n",
    "    p3, p2, p1 = curve\n",
    "    y = p3 / (1 + np.exp(-p2*(c_dist-p1)))\n",
    "    return y\n"
   ]
  },
  {
   "cell_type": "code",
   "execution_count": 10,
   "id": "3a0146d4",
   "metadata": {},
   "outputs": [],
   "source": [
    "class SemantleGame():\n",
    "    def __init__(self, w_list):\n",
    "        self.orig_mat = orig_mat\n",
    "        self.w_list = w_list\n",
    "        self.target_word = random.choice(['banana', 'leaving', 'three', 'fortunate', 'electric', 'ended', 'swim', \n",
    "       'retch', 'flute', 'hands', 'trench', 'painful', 'airborne', 'safety', 'give',\n",
    "       'never', 'ferocious', 'splitter', 'raccoon', 'pickle', 'microphone', 'love',\n",
    "       'zombie', 'undulate', 'semicircle', 'book', 'doctor', 'arrow', 'fridge', 'merry',\n",
    "       'crank', 'similar', 'flew', 'knock', 'neighbor', 'cell', 'cloud', 'moon', 'zebra',\n",
    "       'therefore', 'abrupt', 'rend', 'knife', 'shill', 'dollar', 'spilled', 'carpet',\n",
    "       'lunatic', 'beach', 'revert', 'future', 'nigh', 'drake', 'winded', 'play', 'freedom'])\n",
    "        idx = w_list.index(self.target_word)\n",
    "        self.target_vec = orig_mat[idx, :]\n",
    "        \n",
    "    def guess(self, word, orig_mat) -> Tuple[bool, float]:\n",
    "        # construct guess\n",
    "        idx = self.w_list.index(word)\n",
    "        vec = orig_mat[idx, :]\n",
    "        semantle_score = (1-cos_dist(vec, self.target_vec))*100\n",
    "        if word == self.target_word:\n",
    "            return True, semantle_score\n",
    "        else:\n",
    "            return False, semantle_score\n",
    "    \n",
    "    def display_guesses(self):\n",
    "        s = []\n",
    "        for g in sorted(self.guesses, key = lambda g: g.dist):\n",
    "            s.append(str(g))\n",
    "        print('\\n'.join(s))\n",
    "        \n",
    "    def __str__(self):\n",
    "        return '\\n'.join('{}: {}'.format(k, v) for k, v in self.__dict__.items())"
   ]
  },
  {
   "cell_type": "code",
   "execution_count": 13,
   "id": "1edd86a8",
   "metadata": {},
   "outputs": [],
   "source": [
    "@dataclasses.dataclass\n",
    "class Guess:\n",
    "    word: str\n",
    "    num: int\n",
    "    dist: float\n",
    "    score: float\n",
    "    \n",
    "class SemantleSolver:\n",
    "    \n",
    "    def __init__(self, curve=None, n_random_guesses=5, game=None, conf_thresh=0.1):\n",
    "        self.n_random_guesses = n_random_guesses\n",
    "        self.closest_dist = float('inf')\n",
    "        self.guesses = []  # List[Guess]\n",
    "        self.guessed_words = set()  # for fast lookup\n",
    "        self.best_guess = None\n",
    "        self.game = game\n",
    "        self.curve = curve\n",
    "        \n",
    "        self.CONF_THRESH = conf_thresh\n",
    "        \n",
    "        self.stats = {\n",
    "            'grd_high_conf': 0,\n",
    "            'grd_random_dist': 0,\n",
    "            'times_gradient': 0,\n",
    "            'times_exhaustive': 0,\n",
    "            'times_random': 0,\n",
    "        }\n",
    "        \n",
    "    def _gradient_method(self, w_vecs, ann_index):\n",
    "        # Use gradient method to get a closer guess.\n",
    "        p1 = np.array(w_vecs[self.guesses[-1].word])\n",
    "        p1_dist = self.guesses[-1].dist\n",
    "        \n",
    "        # Consider the few most recent points. \n",
    "        # Try and find one with a vector through p1 that points towards the target.\n",
    "        best_point = None\n",
    "        best_confidence = 0\n",
    "        best_p2_dist = float('inf')\n",
    "        for i in range(2, min(10, len(self.guesses))):\n",
    "            p2 = np.array(w_vecs[self.guesses[-i].word])\n",
    "            p2_dist = self.guesses[-i].dist\n",
    "            \n",
    "            # where does p2->p1 point? and how well aligned is that spot with the target?\n",
    "            target_point, confidence = directed_point_in_dist(p1, p2, p1_dist, p2_dist)\n",
    "            if confidence > best_confidence:\n",
    "                best_confidence = confidence\n",
    "                best_point = target_point\n",
    "        if best_confidence < self.CONF_THRESH:\n",
    "            self.stats['grd_random_dist'] += 1\n",
    "            vec = np.array(w_vecs[self.best_guess])\n",
    "            best_point = random_point_in_dist(vec, self.closest_dist)\n",
    "            #print('grd_rand')\n",
    "        else:\n",
    "            self.stats['grd_high_conf'] += 1\n",
    "            #print('grd_conf')\n",
    "\n",
    "        return best_point\n",
    "\n",
    "    \n",
    "    def find_next_guess(self, w_vecs, ann_index, idx_to_word) -> bool:\n",
    "        if len(self.guesses) < self.n_random_guesses:\n",
    "            self.stats['times_random'] += 1\n",
    "            next_word = random.choice(list(w_vecs.keys()))\n",
    "        else:\n",
    "            self.stats['times_gradient'] += 1\n",
    "            v = self._gradient_method(w_vecs, ann_index)\n",
    "            idxs_near_best = ann_index.get_nns_by_vector(v, 1000)\n",
    "            for idx in idxs_near_best:\n",
    "                w = idx_to_word[idx]\n",
    "                if w not in self.guessed_words:\n",
    "                    next_word = w\n",
    "                    break\n",
    "            \n",
    "        return next_word\n",
    "\n",
    "    def make_guess(self, word, orig_mat):\n",
    "        # guess the word\n",
    "        win, score = self.game.guess(word, orig_mat)\n",
    "        dist = score_to_dist(score, self.curve)\n",
    "        self.guessed_words.add(word)\n",
    "        self.guesses.append(Guess(word=word, dist=dist, num=len(self.guesses)+1, score=score))\n",
    "        \n",
    "        # see if this one's better\n",
    "        if self.best_guess is None or dist < self.closest_dist:\n",
    "            #print(word, round(dist, 3))\n",
    "            self.closest_dist = dist\n",
    "            self.best_guess = word\n",
    "        \n",
    "        if win:\n",
    "            #print(\"I win!\")\n",
    "            return True\n",
    "        else:\n",
    "            return False\n",
    "    \n",
    "    def add_guess(self, word, score):\n",
    "        # Adds a guess from an external source. For playing Real Semantle.\n",
    "        dist = score_to_dist(score, self.curve)\n",
    "        self.guessed_words.add(word)\n",
    "        self.guesses.append(Guess(word=word, dist=dist, num=len(self.guesses)+1, score=score))\n",
    "        if self.best_guess is None or dist < self.closest_dist:\n",
    "            #print(word, round(dist, 3))\n",
    "            self.closest_dist = dist\n",
    "            self.best_guess = word\n",
    "        "
   ]
  },
  {
   "cell_type": "code",
   "execution_count": null,
   "id": "45372d9e",
   "metadata": {},
   "outputs": [],
   "source": []
  },
  {
   "cell_type": "code",
   "execution_count": 14,
   "id": "974ed4ce",
   "metadata": {},
   "outputs": [],
   "source": [
    "def set_up(src, curves):\n",
    "    curve = []\n",
    "    for c in curves:\n",
    "        if src in c.name:\n",
    "            curve = c.curve\n",
    "    assert len(curve)\n",
    "    mat = np.load(src)\n",
    "\n",
    "    n_words = mat.shape[0]\n",
    "    wfile = DATA_DIR + 'w_list_{}.pkl'.format(n_words)\n",
    "    with open(wfile, 'rb') as fh:\n",
    "        w_list = pickle.load(fh)\n",
    "    \n",
    "    # ugh, fine.\n",
    "    w_vecs = {}\n",
    "    for i in range(mat.shape[0]):\n",
    "        w_vecs[w_list[i]] = mat[i, :]\n",
    "    idx_to_word, ann_index = build_index(w_vecs)  # fast\n",
    "    return mat, w_vecs, curve, w_list, idx_to_word, ann_index"
   ]
  },
  {
   "cell_type": "code",
   "execution_count": 17,
   "id": "862dea46",
   "metadata": {},
   "outputs": [
    {
     "data": {
      "application/vnd.jupyter.widget-view+json": {
       "model_id": "0a64e266858a4cddb43e014560aa82b7",
       "version_major": 2,
       "version_minor": 0
      },
      "text/plain": [
       "  0%|          | 0/155060 [00:00<?, ?it/s]"
      ]
     },
     "metadata": {},
     "output_type": "display_data"
    },
    {
     "name": "stdout",
     "output_type": "stream",
     "text": [
      "airborne\n",
      "never\n",
      "never\n",
      "electric\n",
      "drake\n",
      "raccoon\n",
      "dollar\n",
      "give\n",
      "dollar\n",
      "retch\n",
      "umap_155060rows_3dims_15nns.npy\n",
      "[1000, 1000, 1000, 1000, 327, 732, 51, 1000, 182, 1000]\n",
      "729.2\n"
     ]
    },
    {
     "data": {
      "application/vnd.jupyter.widget-view+json": {
       "model_id": "d980f36cec284b629a5cb3147b1b300a",
       "version_major": 2,
       "version_minor": 0
      },
      "text/plain": [
       "  0%|          | 0/155060 [00:00<?, ?it/s]"
      ]
     },
     "metadata": {},
     "output_type": "display_data"
    },
    {
     "name": "stdout",
     "output_type": "stream",
     "text": [
      "hands\n",
      "crank\n",
      "love\n",
      "give\n",
      "three\n",
      "drake\n",
      "cloud\n",
      "splitter\n",
      "zombie\n",
      "semicircle\n",
      "umap_155060rows_3dims_50nns.npy\n",
      "[1000, 1000, 1000, 1000, 258, 1000, 1000, 1000, 1000, 1000]\n",
      "925.8\n"
     ]
    },
    {
     "data": {
      "application/vnd.jupyter.widget-view+json": {
       "model_id": "5af179b188654cfe8a27afc5353aa307",
       "version_major": 2,
       "version_minor": 0
      },
      "text/plain": [
       "  0%|          | 0/155060 [00:00<?, ?it/s]"
      ]
     },
     "metadata": {},
     "output_type": "display_data"
    },
    {
     "name": "stdout",
     "output_type": "stream",
     "text": [
      "moon\n",
      "electric\n",
      "swim\n",
      "love\n",
      "never\n",
      "play\n",
      "undulate\n",
      "give\n",
      "freedom\n",
      "nigh\n",
      "umap_155060rows_3dims_100nns.npy\n",
      "[1000, 1000, 1000, 1000, 1000, 1000, 1000, 1000, 1000, 1000]\n",
      "1000.0\n"
     ]
    },
    {
     "data": {
      "application/vnd.jupyter.widget-view+json": {
       "model_id": "ea147239da4748fc962ad67f39eb6f3f",
       "version_major": 2,
       "version_minor": 0
      },
      "text/plain": [
       "  0%|          | 0/155060 [00:00<?, ?it/s]"
      ]
     },
     "metadata": {},
     "output_type": "display_data"
    },
    {
     "name": "stdout",
     "output_type": "stream",
     "text": [
      "microphone\n",
      "safety\n",
      "arrow\n",
      "abrupt\n",
      "undulate\n",
      "therefore\n",
      "revert\n",
      "carpet\n",
      "neighbor\n",
      "abrupt\n",
      "umap_155060rows_3dims_1000nns.npy\n",
      "[1000, 1000, 1000, 1000, 1000, 1000, 1000, 1000, 1000, 1000]\n",
      "1000.0\n"
     ]
    },
    {
     "data": {
      "application/vnd.jupyter.widget-view+json": {
       "model_id": "9095804d5041480ebee361a6d786db8d",
       "version_major": 2,
       "version_minor": 0
      },
      "text/plain": [
       "  0%|          | 0/155060 [00:00<?, ?it/s]"
      ]
     },
     "metadata": {},
     "output_type": "display_data"
    },
    {
     "name": "stdout",
     "output_type": "stream",
     "text": [
      "swim\n",
      "ferocious\n",
      "merry\n",
      "fridge\n",
      "fridge\n",
      "neighbor\n",
      "moon\n",
      "lunatic\n",
      "flew\n",
      "undulate\n",
      "umap_155060rows_10dims_15nns.npy\n",
      "[114, 1000, 1000, 1000, 368, 1000, 1000, 243, 1000, 422]\n",
      "714.7\n"
     ]
    },
    {
     "data": {
      "application/vnd.jupyter.widget-view+json": {
       "model_id": "5271964a4c6b4ab7875475ee29f6fd0c",
       "version_major": 2,
       "version_minor": 0
      },
      "text/plain": [
       "  0%|          | 0/155060 [00:00<?, ?it/s]"
      ]
     },
     "metadata": {},
     "output_type": "display_data"
    },
    {
     "name": "stdout",
     "output_type": "stream",
     "text": [
      "cloud\n",
      "zebra\n",
      "semicircle\n",
      "pickle\n",
      "knife\n",
      "give\n",
      "ferocious\n",
      "electric\n",
      "flute\n",
      "electric\n",
      "umap_155060rows_10dims_50nns.npy\n",
      "[564, 72, 1000, 1000, 1000, 1000, 1000, 381, 184, 533]\n",
      "673.4\n"
     ]
    },
    {
     "data": {
      "application/vnd.jupyter.widget-view+json": {
       "model_id": "ea9865a9758e4e79ba325972ad51f4b4",
       "version_major": 2,
       "version_minor": 0
      },
      "text/plain": [
       "  0%|          | 0/155060 [00:00<?, ?it/s]"
      ]
     },
     "metadata": {},
     "output_type": "display_data"
    },
    {
     "name": "stdout",
     "output_type": "stream",
     "text": [
      "rend\n",
      "future\n",
      "swim\n",
      "microphone\n",
      "abrupt\n",
      "fridge\n",
      "cloud\n",
      "flew\n",
      "shill\n",
      "shill\n",
      "umap_155060rows_10dims_100nns.npy\n",
      "[1000, 1000, 684, 83, 626, 428, 1000, 469, 1000, 1000]\n",
      "729.0\n"
     ]
    },
    {
     "data": {
      "application/vnd.jupyter.widget-view+json": {
       "model_id": "31261b25d5844319bcb2da718a76bdf6",
       "version_major": 2,
       "version_minor": 0
      },
      "text/plain": [
       "  0%|          | 0/155060 [00:00<?, ?it/s]"
      ]
     },
     "metadata": {},
     "output_type": "display_data"
    },
    {
     "name": "stdout",
     "output_type": "stream",
     "text": [
      "ended\n",
      "knife\n",
      "flew\n",
      "never\n",
      "give\n",
      "knock\n",
      "zombie\n",
      "zebra\n",
      "drake\n",
      "freedom\n",
      "umap_155060rows_10dims_1000nns.npy\n",
      "[1000, 972, 19, 633, 1000, 1000, 734, 368, 1000, 283]\n",
      "700.9\n"
     ]
    },
    {
     "data": {
      "application/vnd.jupyter.widget-view+json": {
       "model_id": "43c0c855b7294057a235b8bf7ae3ca70",
       "version_major": 2,
       "version_minor": 0
      },
      "text/plain": [
       "  0%|          | 0/155060 [00:00<?, ?it/s]"
      ]
     },
     "metadata": {},
     "output_type": "display_data"
    },
    {
     "name": "stdout",
     "output_type": "stream",
     "text": [
      "knife\n",
      "undulate\n",
      "banana\n",
      "leaving\n",
      "shill\n",
      "flew\n",
      "retch\n",
      "lunatic\n",
      "love\n",
      "dollar\n",
      "umap_155060rows_30dims_15nns.npy\n",
      "[571, 1000, 1000, 1000, 252, 164, 344, 66, 1000, 303]\n",
      "570.0\n"
     ]
    },
    {
     "data": {
      "application/vnd.jupyter.widget-view+json": {
       "model_id": "5c1b678220e84a2aa2aa4d14c5a7699b",
       "version_major": 2,
       "version_minor": 0
      },
      "text/plain": [
       "  0%|          | 0/155060 [00:00<?, ?it/s]"
      ]
     },
     "metadata": {},
     "output_type": "display_data"
    },
    {
     "name": "stdout",
     "output_type": "stream",
     "text": [
      "cloud\n",
      "airborne\n",
      "flew\n",
      "ferocious\n",
      "spilled\n",
      "three\n",
      "flute\n",
      "flew\n",
      "freedom\n",
      "play\n",
      "umap_155060rows_30dims_50nns.npy\n",
      "[249, 1000, 304, 747, 1000, 349, 192, 420, 311, 1000]\n",
      "557.2\n"
     ]
    },
    {
     "data": {
      "application/vnd.jupyter.widget-view+json": {
       "model_id": "2612db95671941d0870468b3ddc74ec2",
       "version_major": 2,
       "version_minor": 0
      },
      "text/plain": [
       "  0%|          | 0/155060 [00:00<?, ?it/s]"
      ]
     },
     "metadata": {},
     "output_type": "display_data"
    },
    {
     "name": "stdout",
     "output_type": "stream",
     "text": [
      "crank\n",
      "undulate\n",
      "winded\n",
      "rend\n",
      "doctor\n",
      "microphone\n",
      "zebra\n",
      "zombie\n",
      "merry\n",
      "shill\n",
      "umap_155060rows_30dims_100nns.npy\n",
      "[1000, 662, 1000, 1000, 176, 277, 856, 133, 1000, 1000]\n",
      "710.4\n"
     ]
    },
    {
     "data": {
      "application/vnd.jupyter.widget-view+json": {
       "model_id": "decfa830a31145d3ba5830f3b2e84c5d",
       "version_major": 2,
       "version_minor": 0
      },
      "text/plain": [
       "  0%|          | 0/155060 [00:00<?, ?it/s]"
      ]
     },
     "metadata": {},
     "output_type": "display_data"
    },
    {
     "name": "stdout",
     "output_type": "stream",
     "text": [
      "drake\n",
      "painful\n",
      "fortunate\n",
      "airborne\n",
      "cloud\n",
      "fridge\n",
      "raccoon\n",
      "fortunate\n",
      "retch\n",
      "flew\n",
      "umap_155060rows_30dims_1000nns.npy\n",
      "[293, 1000, 50, 1000, 1000, 317, 111, 199, 640, 919]\n",
      "552.9\n"
     ]
    },
    {
     "data": {
      "application/vnd.jupyter.widget-view+json": {
       "model_id": "ae4ed28abe63477cad97b337ed3dd52e",
       "version_major": 2,
       "version_minor": 0
      },
      "text/plain": [
       "  0%|          | 0/155060 [00:00<?, ?it/s]"
      ]
     },
     "metadata": {},
     "output_type": "display_data"
    },
    {
     "name": "stdout",
     "output_type": "stream",
     "text": [
      "therefore\n",
      "crank\n",
      "swim\n",
      "electric\n",
      "retch\n",
      "lunatic\n",
      "undulate\n",
      "airborne\n",
      "book\n",
      "knife\n",
      "umap_155060rows_100dims_15nns.npy\n",
      "[1000, 1000, 457, 1000, 947, 75, 826, 1000, 445, 1000]\n",
      "775.0\n"
     ]
    },
    {
     "data": {
      "application/vnd.jupyter.widget-view+json": {
       "model_id": "2086422e72b846a9be2242283cf54ae4",
       "version_major": 2,
       "version_minor": 0
      },
      "text/plain": [
       "  0%|          | 0/155060 [00:00<?, ?it/s]"
      ]
     },
     "metadata": {},
     "output_type": "display_data"
    },
    {
     "name": "stdout",
     "output_type": "stream",
     "text": [
      "winded\n",
      "zombie\n",
      "splitter\n",
      "lunatic\n",
      "book\n",
      "lunatic\n",
      "shill\n",
      "safety\n",
      "raccoon\n",
      "ferocious\n",
      "umap_155060rows_100dims_50nns.npy\n",
      "[1000, 499, 1000, 81, 250, 99, 1000, 1000, 717, 1000]\n",
      "664.6\n"
     ]
    },
    {
     "data": {
      "application/vnd.jupyter.widget-view+json": {
       "model_id": "b62ac23672764c3bb86d9668c0ddac4c",
       "version_major": 2,
       "version_minor": 0
      },
      "text/plain": [
       "  0%|          | 0/155060 [00:00<?, ?it/s]"
      ]
     },
     "metadata": {},
     "output_type": "display_data"
    },
    {
     "name": "stdout",
     "output_type": "stream",
     "text": [
      "give\n",
      "lunatic\n",
      "raccoon\n",
      "play\n",
      "cloud\n",
      "doctor\n",
      "revert\n",
      "spilled\n",
      "swim\n",
      "lunatic\n",
      "umap_155060rows_100dims_100nns.npy\n",
      "[1000, 159, 245, 1000, 1000, 157, 486, 295, 1000, 19]\n",
      "536.1\n"
     ]
    },
    {
     "data": {
      "application/vnd.jupyter.widget-view+json": {
       "model_id": "9fdac80285014026b9d39eeaefb07e61",
       "version_major": 2,
       "version_minor": 0
      },
      "text/plain": [
       "  0%|          | 0/155060 [00:00<?, ?it/s]"
      ]
     },
     "metadata": {},
     "output_type": "display_data"
    },
    {
     "name": "stdout",
     "output_type": "stream",
     "text": [
      "moon\n",
      "book\n",
      "splitter\n",
      "love\n",
      "semicircle\n",
      "moon\n",
      "flute\n",
      "similar\n",
      "dollar\n",
      "fridge\n",
      "umap_155060rows_100dims_1000nns.npy\n",
      "[1000, 262, 1000, 1000, 1000, 699, 1000, 1000, 127, 1000]\n",
      "808.8\n",
      "729.2 umap_155060rows_3dims_15nns.npy\n",
      "925.8 umap_155060rows_3dims_50nns.npy\n",
      "1000.0 umap_155060rows_3dims_100nns.npy\n",
      "1000.0 umap_155060rows_3dims_1000nns.npy\n",
      "714.7 umap_155060rows_10dims_15nns.npy\n",
      "673.4 umap_155060rows_10dims_50nns.npy\n",
      "729.0 umap_155060rows_10dims_100nns.npy\n",
      "700.9 umap_155060rows_10dims_1000nns.npy\n",
      "570.0 umap_155060rows_30dims_15nns.npy\n",
      "557.2 umap_155060rows_30dims_50nns.npy\n",
      "710.4 umap_155060rows_30dims_100nns.npy\n",
      "552.9 umap_155060rows_30dims_1000nns.npy\n",
      "775.0 umap_155060rows_100dims_15nns.npy\n",
      "664.6 umap_155060rows_100dims_50nns.npy\n",
      "536.1 umap_155060rows_100dims_100nns.npy\n",
      "808.8 umap_155060rows_100dims_1000nns.npy\n"
     ]
    }
   ],
   "source": [
    "ngs = {}\n",
    "for c in curves:\n",
    "    if '155' not in c.name:\n",
    "        # just solving the reduced dataset here.\n",
    "        continue\n",
    "    if not len(c.curve):\n",
    "        continue\n",
    "    mat, w_vecs, curve, w_list, idx_to_word, ann_index = set_up(c.name, curves)\n",
    "    ngs[c.name] = []\n",
    "    for i in range(10):\n",
    "        game = SemantleGame(w_list)\n",
    "        player = SemantleSolver(game=game, curve=curve, n_random_guesses=2, conf_thresh=0.6)\n",
    "        print(game.target_word)\n",
    "        #print(player.CONF_THRESH)\n",
    "        won = False\n",
    "        while not won:\n",
    "            word = player.find_next_guess(w_vecs, ann_index, idx_to_word)\n",
    "            won = player.make_guess(word, orig_mat)\n",
    "            #g = player.guesses[-1]\n",
    "            #local_dist = score_to_dist(g.score, curve)\n",
    "            #print(g.word, round(g.score, 3), '->', round(local_dist, 3))\n",
    "            if len(player.guesses) >= 1000:\n",
    "                #print('stopped. ')\n",
    "                #print('Best guess:', player.best_guess, 'dist:', player.closest_dist)\n",
    "                break\n",
    "\n",
    "        #print(len(player.guesses))\n",
    "        ngs[c.name].append(len(player.guesses))\n",
    "    v = ngs[c.name]\n",
    "    print(c.name.split('/')[-1])\n",
    "    print(v)\n",
    "    print(sum(v)/len(v))\n",
    "for k, v in ngs.items():\n",
    "    print(sum(v)/len(v), k.split('/')[-1])"
   ]
  },
  {
   "cell_type": "code",
   "execution_count": null,
   "id": "b5fbbc28",
   "metadata": {},
   "outputs": [],
   "source": [
    "# 10 and 30 dims did fine really. Splitting hairs beyond that.\n",
    "# todo check stats like grd_conf, does that still happen in 10d?\n",
    "best_one = 'umap_155060rows_30dims_50nns'"
   ]
  },
  {
   "cell_type": "code",
   "execution_count": 38,
   "id": "36e44938",
   "metadata": {},
   "outputs": [
    {
     "data": {
      "text/plain": [
       "0.003477036952972412"
      ]
     },
     "execution_count": 38,
     "metadata": {},
     "output_type": "execute_result"
    }
   ],
   "source": [
    "cos_dist(mat[1,:], game.target_vec))*100"
   ]
  },
  {
   "cell_type": "code",
   "execution_count": 39,
   "id": "4eccd4b6",
   "metadata": {},
   "outputs": [
    {
     "data": {
      "text/plain": [
       "array([5.4185476, 7.583787 , 7.367848 , 2.170635 , 8.2373705, 1.9374956,\n",
       "       5.6728373, 1.8657322, 3.5900362, 4.136304 , 6.288454 , 6.229613 ,\n",
       "       3.5685968, 2.6561875, 5.006074 , 4.669414 , 7.9617863, 3.6898565,\n",
       "       6.2364535, 3.4242167, 3.9359581, 8.128173 , 4.303084 , 7.1651316,\n",
       "       5.43378  , 8.028357 , 3.6979685, 6.1893086, 3.534047 , 3.0106165],\n",
       "      dtype=float32)"
      ]
     },
     "execution_count": 39,
     "metadata": {},
     "output_type": "execute_result"
    }
   ],
   "source": [
    "game.target_vec"
   ]
  },
  {
   "cell_type": "code",
   "execution_count": 40,
   "id": "b750ae8e",
   "metadata": {},
   "outputs": [
    {
     "data": {
      "text/plain": [
       "array([5.880084 , 6.6261044, 7.525349 , 3.9074562, 8.158941 , 2.6142683,\n",
       "       5.774672 , 1.8681632, 3.1104794, 4.045796 , 6.430109 , 5.9629946,\n",
       "       3.2894933, 3.0455675, 4.7026014, 4.4188223, 7.9808745, 3.7809465,\n",
       "       6.2673936, 3.4806774, 4.094248 , 8.023301 , 4.4849553, 7.096601 ,\n",
       "       5.2204165, 8.102913 , 3.6935813, 6.367431 , 3.5238874, 3.1885743],\n",
       "      dtype=float32)"
      ]
     },
     "execution_count": 40,
     "metadata": {},
     "output_type": "execute_result"
    }
   ],
   "source": [
    "mat[1,:]"
   ]
  },
  {
   "cell_type": "code",
   "execution_count": null,
   "id": "4b1173c4",
   "metadata": {},
   "outputs": [],
   "source": []
  }
 ],
 "metadata": {
  "kernelspec": {
   "display_name": "Python 3 (ipykernel)",
   "language": "python",
   "name": "python3"
  },
  "language_info": {
   "codemirror_mode": {
    "name": "ipython",
    "version": 3
   },
   "file_extension": ".py",
   "mimetype": "text/x-python",
   "name": "python",
   "nbconvert_exporter": "python",
   "pygments_lexer": "ipython3",
   "version": "3.9.7"
  }
 },
 "nbformat": 4,
 "nbformat_minor": 5
}
