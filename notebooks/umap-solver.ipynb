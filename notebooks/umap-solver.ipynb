{
 "cells": [
  {
   "cell_type": "markdown",
   "id": "e66929ff",
   "metadata": {},
   "source": [
    "# UMAP solver\n",
    "\n",
    "uses the models generated in youmap.ipynb\n"
   ]
  },
  {
   "cell_type": "code",
   "execution_count": 2,
   "id": "686a0c31",
   "metadata": {},
   "outputs": [],
   "source": [
    "import umap\n",
    "import math\n",
    "import dataclasses\n",
    "import pickle\n",
    "import random\n",
    "import numpy as np\n",
    "import os\n",
    "import time\n",
    "import multiprocessing\n",
    "from joblib import Parallel, delayed\n",
    "import re\n",
    "from functools import lru_cache\n",
    "from annoy import AnnoyIndex\n",
    "from tqdm.notebook import tqdm\n",
    "from scipy.spatial.distance import euclidean, pdist, squareform\n",
    "import scipy\n",
    "import scipy.stats as stats\n",
    "from sklearn.decomposition import PCA, TruncatedSVD\n",
    "from scipy.spatial.distance import cosine as cos_dist\n",
    "from sklearn.preprocessing import normalize, StandardScaler\n",
    "from gensim import models\n",
    "from scipy.optimize import curve_fit\n",
    "from matplotlib import pyplot as plt\n",
    "from scipy.stats import binned_statistic\n",
    "from typing import *"
   ]
  },
  {
   "cell_type": "code",
   "execution_count": 4,
   "id": "5b43231b",
   "metadata": {},
   "outputs": [],
   "source": [
    "DATA_DIR = '/home/theo/repos/semantle/'"
   ]
  },
  {
   "cell_type": "code",
   "execution_count": 5,
   "id": "7dff9e38",
   "metadata": {},
   "outputs": [],
   "source": [
    "def read_goog_file(size=None):\n",
    "    vec_file = DATA_DIR + 'GoogleNews-vectors-negative300.bin'\n",
    "    kv = models.KeyedVectors.load_word2vec_format(vec_file, binary=True, limit=size)\n",
    "    words = kv.index_to_key\n",
    "    w_vecs = {}\n",
    "    good_word = re.compile(r'^[a-z]+$')\n",
    "    for w in words:\n",
    "        # filter out proper nouns, pictograms, emoji, multi-words, etc. Eliminates 95% of the dataset.   \n",
    "        if not good_word.match(w):\n",
    "            continue\n",
    "        \n",
    "        w_vecs[w] = kv[w] / np.linalg.norm(kv[w])\n",
    "    mat_full = np.array([w_vecs[w] for w in w_vecs])\n",
    "    w_list = list(w_vecs.keys())\n",
    "    return w_list, normalize(mat_full, axis=1)\n",
    "\n",
    "w_list, orig_mat = read_goog_file()"
   ]
  },
  {
   "cell_type": "code",
   "execution_count": null,
   "id": "ba58ef0c",
   "metadata": {},
   "outputs": [],
   "source": []
  },
  {
   "cell_type": "code",
   "execution_count": 6,
   "id": "1ace972b",
   "metadata": {},
   "outputs": [],
   "source": [
    "# get stuff we need from prior experiments\n",
    "with open(DATA_DIR+'w_list_155060.pkl', 'rb') as fh:\n",
    "    w_list = pickle.load(fh)\n",
    "\n",
    "umap_files = []\n",
    "for fn in os.listdir(DATA_DIR):\n",
    "    if fn.startswith('umap_155060'):\n",
    "        umap_files.append(fn)\n",
    "\n",
    "@dataclasses.dataclass\n",
    "class UMAPFile():\n",
    "    name: str\n",
    "    rows: int\n",
    "    dims: int\n",
    "    nns: int\n",
    "    curve: list\n",
    "\n",
    "\n",
    "with open(DATA_DIR+'umap_curves.pkl', 'rb') as fh:\n",
    "    curves = pickle.load(fh)\n",
    "for c in curves:\n",
    "    c.name = DATA_DIR + c.name.split('/')[-1]\n"
   ]
  },
  {
   "cell_type": "code",
   "execution_count": 7,
   "id": "79d50c2c",
   "metadata": {},
   "outputs": [],
   "source": [
    "# core semantle-solver stuff\n",
    "def build_index(w_vecs: Dict[str, List[float]]) -> Tuple[Dict[int, str], AnnoyIndex]:\n",
    "    for v in w_vecs.values():\n",
    "        GLOVE_VEC_SIZE = len(v)\n",
    "        break\n",
    "    idx_to_word = {}\n",
    "    ann_index = AnnoyIndex(GLOVE_VEC_SIZE, 'euclidean')\n",
    "    with tqdm(total=len(w_vecs)) as pbar:\n",
    "        for i, w in enumerate(w_vecs.keys()):\n",
    "            pbar.update(1)\n",
    "            ann_index.add_item(i, w_vecs[w])\n",
    "            idx_to_word[i] = w\n",
    "    ann_index.build(20) # n trees\n",
    "    return idx_to_word, ann_index"
   ]
  },
  {
   "cell_type": "code",
   "execution_count": 110,
   "id": "58b88873",
   "metadata": {},
   "outputs": [],
   "source": [
    "def random_point_in_dist(point, dist):\n",
    "    # For when we know the dist but have no idea what direction to travel\n",
    "    vec = np.random.random((len(point)))\n",
    "    vec = vec / scipy.linalg.norm(vec)\n",
    "    vec = vec * dist*0.5\n",
    "    return vec+point\n",
    "\n",
    "\n",
    "def directed_point_in_dist(p1, p2, p1_dist, p2_dist):\n",
    "    # Generate a vector using p1 and p2.\n",
    "    # Check if it will point in the general direction of our target.\n",
    "    p1p2 = (p1-p2)\n",
    "    p1p2mag = scipy.linalg.norm(p1p2)\n",
    "    if p1p2mag < 0.0000001:\n",
    "        return None, 0\n",
    "    p1p2_unit = p1p2 / p1p2mag\n",
    "    if p1_dist < p2_dist:\n",
    "        # p1 is closer to target\n",
    "        mag = p1_dist\n",
    "        target_point = p1 + p1p2_unit*mag\n",
    "        confidence = (p2_dist-p1_dist) / p1p2mag\n",
    "        assert confidence >= 0\n",
    "    else:\n",
    "        # j is closer to target\n",
    "        # make a vector from j to a target that is dists[j] away\n",
    "        mag = p2_dist\n",
    "        target_point = p2 - p1p2_unit*mag\n",
    "        confidence = (p1_dist-p2_dist) / p1p2mag\n",
    "        assert confidence >= 0\n",
    "    return target_point, confidence"
   ]
  },
  {
   "cell_type": "code",
   "execution_count": 9,
   "id": "a444745d",
   "metadata": {},
   "outputs": [],
   "source": [
    "def score_to_dist(score: float, curve: List[float]):\n",
    "    # convert a [-100..100] semantle score (which is cos sim * 100) to a euclidean distance in reduced space\n",
    "    c_dist = 1 - (score / 100)\n",
    "    p3, p2, p1 = curve\n",
    "    y = p3 / (1 + np.exp(-p2*(c_dist-p1)))\n",
    "    return y\n"
   ]
  },
  {
   "cell_type": "code",
   "execution_count": 10,
   "id": "ea817eda",
   "metadata": {},
   "outputs": [],
   "source": [
    "class SemantleGame():\n",
    "    def __init__(self, w_list):\n",
    "        self.orig_mat = orig_mat\n",
    "        self.w_list = w_list\n",
    "        self.target_word = random.choice(['banana', 'leaving', 'three', 'fortunate', 'electric', 'ended', 'swim', \n",
    "       'retch', 'flute', 'hands', 'trench', 'painful', 'airborne', 'safety', 'give',\n",
    "       'never', 'ferocious', 'splitter', 'raccoon', 'pickle', 'microphone', 'love',\n",
    "       'zombie', 'undulate', 'semicircle', 'book', 'doctor', 'arrow', 'fridge', 'merry',\n",
    "       'crank', 'similar', 'flew', 'knock', 'neighbor', 'cell', 'cloud', 'moon', 'zebra',\n",
    "       'therefore', 'abrupt', 'rend', 'knife', 'shill', 'dollar', 'spilled', 'carpet',\n",
    "       'lunatic', 'beach', 'revert', 'future', 'nigh', 'drake', 'winded', 'play', 'freedom'])\n",
    "        idx = w_list.index(self.target_word)\n",
    "        self.target_vec = orig_mat[idx, :]\n",
    "        \n",
    "    def guess(self, word, orig_mat) -> Tuple[bool, float]:\n",
    "        # construct guess\n",
    "        idx = self.w_list.index(word)\n",
    "        vec = orig_mat[idx, :]\n",
    "        semantle_score = (1-cos_dist(vec, self.target_vec))*100\n",
    "        if word == self.target_word:\n",
    "            return True, semantle_score\n",
    "        else:\n",
    "            return False, semantle_score\n",
    "    \n",
    "    def display_guesses(self):\n",
    "        s = []\n",
    "        for g in sorted(self.guesses, key = lambda g: g.dist):\n",
    "            s.append(str(g))\n",
    "        print('\\n'.join(s))\n",
    "        \n",
    "    def __str__(self):\n",
    "        return '\\n'.join('{}: {}'.format(k, v) for k, v in self.__dict__.items())"
   ]
  },
  {
   "cell_type": "code",
   "execution_count": 13,
   "id": "086460f4",
   "metadata": {},
   "outputs": [],
   "source": [
    "@dataclasses.dataclass\n",
    "class Guess:\n",
    "    word: str\n",
    "    num: int\n",
    "    dist: float\n",
    "    score: float\n",
    "    \n",
    "class SemantleSolver:\n",
    "    \n",
    "    def __init__(self, curve=None, n_random_guesses=5, game=None, conf_thresh=0.1):\n",
    "        self.n_random_guesses = n_random_guesses\n",
    "        self.closest_dist = float('inf')\n",
    "        self.guesses = []  # List[Guess]\n",
    "        self.guessed_words = set()  # for fast lookup\n",
    "        self.best_guess = None\n",
    "        self.game = game\n",
    "        self.curve = curve\n",
    "        \n",
    "        self.CONF_THRESH = conf_thresh\n",
    "        \n",
    "        self.stats = {\n",
    "            'grd_high_conf': 0,\n",
    "            'grd_random_dist': 0,\n",
    "            'times_gradient': 0,\n",
    "            'times_exhaustive': 0,\n",
    "            'times_random': 0,\n",
    "        }\n",
    "        \n",
    "    def _gradient_method(self, w_vecs, ann_index):\n",
    "        # Use gradient method to get a closer guess.\n",
    "        p1 = np.array(w_vecs[self.guesses[-1].word])\n",
    "        p1_dist = self.guesses[-1].dist\n",
    "        \n",
    "        # Consider the few most recent points. \n",
    "        # Try and find one with a vector through p1 that points towards the target.\n",
    "        best_point = None\n",
    "        best_confidence = 0\n",
    "        best_p2_dist = float('inf')\n",
    "        for i in range(2, min(10, len(self.guesses))):\n",
    "            p2 = np.array(w_vecs[self.guesses[-i].word])\n",
    "            p2_dist = self.guesses[-i].dist\n",
    "            \n",
    "            # where does p2->p1 point? and how well aligned is that spot with the target?\n",
    "            target_point, confidence = directed_point_in_dist(p1, p2, p1_dist, p2_dist)\n",
    "            if confidence > best_confidence:\n",
    "                best_confidence = confidence\n",
    "                best_point = target_point\n",
    "        if best_confidence < self.CONF_THRESH:\n",
    "            self.stats['grd_random_dist'] += 1\n",
    "            vec = np.array(w_vecs[self.best_guess])\n",
    "            best_point = random_point_in_dist(vec, self.closest_dist)\n",
    "            #print('grd_rand')\n",
    "        else:\n",
    "            self.stats['grd_high_conf'] += 1\n",
    "            #print('grd_conf')\n",
    "\n",
    "        return best_point\n",
    "\n",
    "    \n",
    "    def find_next_guess(self, w_vecs, ann_index, idx_to_word) -> bool:\n",
    "        if len(self.guesses) < self.n_random_guesses:\n",
    "            self.stats['times_random'] += 1\n",
    "            next_word = random.choice(list(w_vecs.keys()))\n",
    "        else:\n",
    "            self.stats['times_gradient'] += 1\n",
    "            v = self._gradient_method(w_vecs, ann_index)\n",
    "            idxs_near_best = ann_index.get_nns_by_vector(v, 1000)\n",
    "            for idx in idxs_near_best:\n",
    "                w = idx_to_word[idx]\n",
    "                if w not in self.guessed_words:\n",
    "                    next_word = w\n",
    "                    break\n",
    "            \n",
    "        return next_word\n",
    "\n",
    "    def make_guess(self, word, orig_mat):\n",
    "        # guess the word\n",
    "        win, score = self.game.guess(word, orig_mat)\n",
    "        dist = score_to_dist(score, self.curve)\n",
    "        self.guessed_words.add(word)\n",
    "        self.guesses.append(Guess(word=word, dist=dist, num=len(self.guesses)+1, score=score))\n",
    "        \n",
    "        # see if this one's better\n",
    "        if self.best_guess is None or dist < self.closest_dist:\n",
    "            #print(word, round(dist, 3))\n",
    "            self.closest_dist = dist\n",
    "            self.best_guess = word\n",
    "        \n",
    "        if win:\n",
    "            #print(\"I win!\")\n",
    "            return True\n",
    "        else:\n",
    "            return False\n",
    "    \n",
    "    def add_guess(self, word, score):\n",
    "        # Adds a guess from an external source. For playing Real Semantle.\n",
    "        dist = score_to_dist(score, self.curve)\n",
    "        self.guessed_words.add(word)\n",
    "        self.guesses.append(Guess(word=word, dist=dist, num=len(self.guesses)+1, score=score))\n",
    "        if self.best_guess is None or dist < self.closest_dist:\n",
    "            #print(word, round(dist, 3))\n",
    "            self.closest_dist = dist\n",
    "            self.best_guess = word\n",
    "        "
   ]
  },
  {
   "cell_type": "code",
   "execution_count": 23,
   "id": "601ec0d5",
   "metadata": {},
   "outputs": [
    {
     "data": {
      "application/vnd.jupyter.widget-view+json": {
       "model_id": "f9681805dc514e8ba8cf918646df1cd1",
       "version_major": 2,
       "version_minor": 0
      },
      "text/plain": [
       "  0%|          | 0/155060 [00:00<?, ?it/s]"
      ]
     },
     "metadata": {},
     "output_type": "display_data"
    }
   ],
   "source": [
    "def set_up(src, curves):\n",
    "    curve = []\n",
    "    for c in curves:\n",
    "        if src in c.name:\n",
    "            curve = c.curve\n",
    "    assert len(curve)\n",
    "    mat = np.load(src)\n",
    "\n",
    "    n_words = mat.shape[0]\n",
    "    wfile = DATA_DIR + 'w_list_{}.pkl'.format(n_words)\n",
    "    with open(wfile, 'rb') as fh:\n",
    "        w_list = pickle.load(fh)\n",
    "    \n",
    "    # ugh, fine.\n",
    "    w_vecs = {}\n",
    "    for i in range(mat.shape[0]):\n",
    "        w_vecs[w_list[i]] = mat[i, :]\n",
    "    idx_to_word, ann_index = build_index(w_vecs)  # fast\n",
    "    return mat, w_vecs, curve, w_list, idx_to_word, ann_index\n",
    "\n",
    "mat, w_vecs, curve, w_list, idx_to_word, ann_index = set_up(DATA_DIR+'umap_155060rows_10dims_50nns.npy', curves)"
   ]
  },
  {
   "cell_type": "code",
   "execution_count": 136,
   "id": "e38737b0",
   "metadata": {},
   "outputs": [
    {
     "name": "stdout",
     "output_type": "stream",
     "text": [
      "{'grd_high_conf': 520, 'grd_random_dist': 470, 'times_gradient': 990, 'times_exhaustive': 0, 'times_random': 10}\n"
     ]
    },
    {
     "data": {
      "image/png": "[encoded data removed]",
      "text/plain": [
       "<Figure size 720x360 with 1 Axes>"
      ]
     },
     "metadata": {
      "needs_background": "light"
     },
     "output_type": "display_data"
    }
   ],
   "source": [
    "game = SemantleGame(w_list)\n",
    "player = SemantleSolver(game=game, curve=curve, n_random_guesses=10, conf_thresh=1.1)\n",
    "#print(game.target_word)\n",
    "won = False\n",
    "while not won:\n",
    "    word = player.find_next_guess(w_vecs, ann_index, idx_to_word)\n",
    "    won = player.make_guess(word, orig_mat)\n",
    "    g = player.guesses[-1]\n",
    "    local_dist = score_to_dist(g.score, curve)\n",
    "    #print(g.word, round(g.score, 3), '->', round(local_dist, 3))\n",
    "    if len(player.guesses) >= 1000:\n",
    "        #print('stopped. ')\n",
    "        #print('Best guess:', player.best_guess, 'dist:', player.closest_dist)\n",
    "        break\n",
    "print(player.stats)\n",
    "        \n",
    "traj = [g.dist for g in player.guesses]\n",
    "traj_score = [g.score for g in player.guesses]\n",
    "x = list(range(len(traj)))\n",
    "plt.figure(figsize=(10,5))\n",
    "plt.plot(x, traj_score, '-')\n",
    "plt.show()\n"
   ]
  },
  {
   "cell_type": "code",
   "execution_count": null,
   "id": "107aecb7",
   "metadata": {},
   "outputs": [],
   "source": [
    "\n"
   ]
  },
  {
   "cell_type": "code",
   "execution_count": null,
   "id": "8f43affb",
   "metadata": {},
   "outputs": [],
   "source": []
  },
  {
   "cell_type": "markdown",
   "id": "13dc6c5d",
   "metadata": {},
   "source": [
    "# Trying all the umaps to find the best one\n",
    "\n",
    "10 and 30 dims @ 50nns did the best, though none of them did great."
   ]
  },
  {
   "cell_type": "code",
   "execution_count": null,
   "id": "46363347",
   "metadata": {},
   "outputs": [],
   "source": []
  },
  {
   "cell_type": "code",
   "execution_count": 20,
   "id": "e6366a65",
   "metadata": {
    "scrolled": false
   },
   "outputs": [
    {
     "data": {
      "application/vnd.jupyter.widget-view+json": {
       "model_id": "cc18a7089a7241858d7ef9df114e36c4",
       "version_major": 2,
       "version_minor": 0
      },
      "text/plain": [
       "  0%|          | 0/155060 [00:00<?, ?it/s]"
      ]
     },
     "metadata": {},
     "output_type": "display_data"
    },
    {
     "name": "stdout",
     "output_type": "stream",
     "text": [
      "three\n",
      "nigh\n",
      "nigh\n",
      "pickle\n",
      "rend\n",
      "flew\n",
      "semicircle\n",
      "cloud\n",
      "carpet\n",
      "pickle\n",
      "fortunate\n",
      "retch\n",
      "leaving\n",
      "similar\n",
      "play\n",
      "painful\n",
      "therefore\n",
      "safety\n",
      "leaving\n",
      "banana\n",
      "zebra\n",
      "swim\n",
      "fridge\n",
      "ferocious\n",
      "pickle\n",
      "umap_155060rows_3dims_15nns.npy\n",
      "[1000, 1000, 1000, 1000, 1000, 843, 1000, 612, 1000, 1000, 1000, 1000, 1000, 1000, 1000, 1000, 1000, 1000, 1000, 825, 423, 237, 285, 1000, 1000]\n",
      "PASSED: 6 / 25\n"
     ]
    },
    {
     "data": {
      "application/vnd.jupyter.widget-view+json": {
       "model_id": "baaaf1c5c69d4730b9001deb92796493",
       "version_major": 2,
       "version_minor": 0
      },
      "text/plain": [
       "  0%|          | 0/155060 [00:00<?, ?it/s]"
      ]
     },
     "metadata": {},
     "output_type": "display_data"
    },
    {
     "name": "stdout",
     "output_type": "stream",
     "text": [
      "moon\n",
      "therefore\n",
      "undulate\n",
      "carpet\n",
      "undulate\n",
      "microphone\n",
      "revert\n",
      "airborne\n",
      "beach\n",
      "flew\n",
      "cloud\n",
      "rend\n",
      "flute\n",
      "book\n",
      "swim\n",
      "hands\n",
      "cell\n",
      "play\n",
      "dollar\n",
      "airborne\n",
      "trench\n",
      "rend\n",
      "future\n",
      "book\n",
      "microphone\n",
      "umap_155060rows_3dims_50nns.npy\n",
      "[1000, 1000, 1000, 1000, 588, 1000, 1000, 1000, 1000, 1000, 1000, 1000, 239, 1000, 1000, 1000, 1000, 1000, 1000, 1000, 1000, 1000, 1000, 1000, 1000]\n",
      "PASSED: 2 / 25\n"
     ]
    },
    {
     "data": {
      "application/vnd.jupyter.widget-view+json": {
       "model_id": "f48de55b88db49beb7979746ecddacee",
       "version_major": 2,
       "version_minor": 0
      },
      "text/plain": [
       "  0%|          | 0/155060 [00:00<?, ?it/s]"
      ]
     },
     "metadata": {},
     "output_type": "display_data"
    },
    {
     "name": "stdout",
     "output_type": "stream",
     "text": [
      "microphone\n",
      "banana\n",
      "dollar\n",
      "moon\n",
      "knife\n",
      "play\n",
      "revert\n",
      "give\n",
      "three\n",
      "never\n",
      "crank\n",
      "knife\n",
      "carpet\n",
      "cloud\n",
      "moon\n",
      "flute\n",
      "lunatic\n",
      "love\n",
      "safety\n",
      "swim\n",
      "dollar\n",
      "safety\n",
      "leaving\n",
      "lunatic\n",
      "airborne\n",
      "umap_155060rows_3dims_100nns.npy\n",
      "[1000, 653, 479, 1000, 1000, 1000, 1000, 1000, 1000, 1000, 1000, 1000, 1000, 1000, 1000, 99, 532, 1000, 1000, 1000, 1000, 1000, 1000, 697, 1000]\n",
      "PASSED: 5 / 25\n"
     ]
    },
    {
     "data": {
      "application/vnd.jupyter.widget-view+json": {
       "model_id": "518a335be57c4f99a58b88b580c64dd8",
       "version_major": 2,
       "version_minor": 0
      },
      "text/plain": [
       "  0%|          | 0/155060 [00:00<?, ?it/s]"
      ]
     },
     "metadata": {},
     "output_type": "display_data"
    },
    {
     "name": "stdout",
     "output_type": "stream",
     "text": [
      "rend\n",
      "doctor\n",
      "pickle\n",
      "crank\n",
      "drake\n",
      "cell\n",
      "rend\n",
      "merry\n",
      "moon\n",
      "drake\n",
      "shill\n",
      "moon\n",
      "knock\n",
      "semicircle\n",
      "lunatic\n",
      "beach\n",
      "knife\n",
      "swim\n",
      "never\n",
      "painful\n",
      "crank\n",
      "give\n",
      "cell\n",
      "electric\n",
      "swim\n",
      "umap_155060rows_3dims_1000nns.npy\n",
      "[1000, 404, 1000, 1000, 1000, 1000, 1000, 1000, 1000, 484, 1000, 1000, 1000, 1000, 1000, 1000, 1000, 1000, 1000, 1000, 1000, 1000, 1000, 1000, 1000]\n",
      "PASSED: 2 / 25\n"
     ]
    },
    {
     "data": {
      "application/vnd.jupyter.widget-view+json": {
       "model_id": "a72a48bc9c3a456791510999a95cb147",
       "version_major": 2,
       "version_minor": 0
      },
      "text/plain": [
       "  0%|          | 0/155060 [00:00<?, ?it/s]"
      ]
     },
     "metadata": {},
     "output_type": "display_data"
    },
    {
     "name": "stdout",
     "output_type": "stream",
     "text": [
      "flute\n",
      "splitter\n",
      "three\n",
      "give\n",
      "microphone\n",
      "future\n",
      "give\n",
      "fridge\n",
      "raccoon\n",
      "nigh\n",
      "moon\n",
      "dollar\n",
      "electric\n",
      "airborne\n",
      "safety\n",
      "semicircle\n",
      "ferocious\n",
      "splitter\n",
      "freedom\n",
      "electric\n",
      "winded\n",
      "spilled\n",
      "rend\n",
      "doctor\n",
      "banana\n",
      "umap_155060rows_10dims_15nns.npy\n",
      "[81, 1000, 142, 1000, 1000, 1000, 488, 555, 521, 1000, 178, 77, 1000, 1000, 274, 1000, 1000, 1000, 1000, 1000, 1000, 1000, 1000, 396, 285]\n",
      "PASSED: 10 / 25\n"
     ]
    },
    {
     "data": {
      "application/vnd.jupyter.widget-view+json": {
       "model_id": "21a9ac79dc8746dd893f8d5452d877b2",
       "version_major": 2,
       "version_minor": 0
      },
      "text/plain": [
       "  0%|          | 0/155060 [00:00<?, ?it/s]"
      ]
     },
     "metadata": {},
     "output_type": "display_data"
    },
    {
     "name": "stdout",
     "output_type": "stream",
     "text": [
      "doctor\n",
      "fortunate\n",
      "dollar\n",
      "electric\n",
      "safety\n",
      "knife\n",
      "abrupt\n",
      "neighbor\n",
      "crank\n",
      "swim\n",
      "safety\n",
      "fortunate\n",
      "neighbor\n",
      "beach\n",
      "neighbor\n",
      "nigh\n",
      "zebra\n",
      "knock\n",
      "spilled\n",
      "flute\n",
      "leaving\n",
      "flute\n",
      "airborne\n",
      "swim\n",
      "ferocious\n",
      "umap_155060rows_10dims_50nns.npy\n",
      "[1000, 141, 206, 1000, 1000, 824, 1000, 60, 1000, 546, 1000, 93, 589, 518, 180, 1000, 535, 1000, 1000, 233, 1000, 262, 1000, 1000, 995]\n",
      "PASSED: 13 / 25\n"
     ]
    },
    {
     "data": {
      "application/vnd.jupyter.widget-view+json": {
       "model_id": "ce0810aa53df4f0f8b0192d153bc5c2f",
       "version_major": 2,
       "version_minor": 0
      },
      "text/plain": [
       "  0%|          | 0/155060 [00:00<?, ?it/s]"
      ]
     },
     "metadata": {},
     "output_type": "display_data"
    },
    {
     "name": "stdout",
     "output_type": "stream",
     "text": [
      "give\n",
      "flute\n",
      "safety\n",
      "play\n",
      "zebra\n",
      "splitter\n",
      "book\n",
      "abrupt\n",
      "zombie\n",
      "knock\n",
      "revert\n",
      "three\n",
      "trench\n",
      "cloud\n",
      "moon\n",
      "trench\n",
      "freedom\n",
      "revert\n",
      "flew\n",
      "knock\n",
      "undulate\n",
      "hands\n",
      "safety\n",
      "arrow\n",
      "airborne\n",
      "umap_155060rows_10dims_100nns.npy\n",
      "[976, 34, 1000, 1000, 512, 1000, 455, 1000, 182, 505, 1000, 336, 1000, 498, 137, 1000, 156, 1000, 154, 1000, 429, 1000, 1000, 459, 1000]\n",
      "PASSED: 13 / 25\n"
     ]
    },
    {
     "data": {
      "application/vnd.jupyter.widget-view+json": {
       "model_id": "5b9137012a6445289ed9f17136adbb1b",
       "version_major": 2,
       "version_minor": 0
      },
      "text/plain": [
       "  0%|          | 0/155060 [00:00<?, ?it/s]"
      ]
     },
     "metadata": {},
     "output_type": "display_data"
    },
    {
     "name": "stdout",
     "output_type": "stream",
     "text": [
      "hands\n",
      "future\n",
      "winded\n",
      "love\n",
      "zombie\n",
      "knock\n",
      "airborne\n",
      "airborne\n",
      "undulate\n",
      "shill\n",
      "fortunate\n",
      "rend\n",
      "swim\n",
      "rend\n",
      "never\n",
      "leaving\n",
      "neighbor\n",
      "drake\n",
      "merry\n",
      "electric\n",
      "leaving\n",
      "rend\n",
      "safety\n",
      "freedom\n",
      "flew\n",
      "umap_155060rows_10dims_1000nns.npy\n",
      "[418, 943, 1000, 1000, 445, 1000, 1000, 1000, 410, 1000, 285, 935, 261, 1000, 416, 1000, 1000, 242, 1000, 1000, 654, 1000, 1000, 362, 451]\n",
      "PASSED: 12 / 25\n"
     ]
    },
    {
     "data": {
      "application/vnd.jupyter.widget-view+json": {
       "model_id": "d7a11b66eaa0400eafb99b2be84efad8",
       "version_major": 2,
       "version_minor": 0
      },
      "text/plain": [
       "  0%|          | 0/155060 [00:00<?, ?it/s]"
      ]
     },
     "metadata": {},
     "output_type": "display_data"
    },
    {
     "name": "stdout",
     "output_type": "stream",
     "text": [
      "knife\n",
      "knife\n",
      "book\n",
      "drake\n",
      "play\n",
      "safety\n",
      "pickle\n",
      "dollar\n",
      "electric\n",
      "fridge\n",
      "similar\n",
      "retch\n",
      "undulate\n",
      "trench\n",
      "safety\n",
      "neighbor\n",
      "drake\n",
      "knock\n",
      "future\n",
      "fridge\n",
      "zombie\n",
      "hands\n",
      "trench\n",
      "raccoon\n",
      "leaving\n",
      "umap_155060rows_30dims_15nns.npy\n",
      "[1000, 1000, 372, 1000, 996, 1000, 1000, 1000, 1000, 321, 1000, 453, 354, 637, 1000, 363, 1000, 465, 1000, 1000, 1000, 597, 559, 1000, 1000]\n",
      "PASSED: 10 / 25\n"
     ]
    },
    {
     "data": {
      "application/vnd.jupyter.widget-view+json": {
       "model_id": "ba3c7d4d832a4356beddafec61df020a",
       "version_major": 2,
       "version_minor": 0
      },
      "text/plain": [
       "  0%|          | 0/155060 [00:00<?, ?it/s]"
      ]
     },
     "metadata": {},
     "output_type": "display_data"
    },
    {
     "name": "stdout",
     "output_type": "stream",
     "text": [
      "dollar\n",
      "retch\n",
      "freedom\n",
      "knock\n",
      "merry\n",
      "painful\n",
      "future\n",
      "banana\n",
      "undulate\n",
      "pickle\n",
      "electric\n",
      "doctor\n",
      "microphone\n",
      "safety\n",
      "rend\n",
      "shill\n",
      "spilled\n",
      "abrupt\n",
      "three\n",
      "pickle\n",
      "spilled\n",
      "drake\n",
      "give\n",
      "trench\n",
      "drake\n",
      "umap_155060rows_30dims_50nns.npy\n",
      "[1000, 551, 160, 1000, 1000, 1000, 1000, 54, 955, 1000, 1000, 120, 643, 1000, 1000, 1000, 1000, 1000, 156, 1000, 1000, 406, 1000, 1000, 337]\n",
      "PASSED: 9 / 25\n"
     ]
    },
    {
     "data": {
      "application/vnd.jupyter.widget-view+json": {
       "model_id": "1df14bd2b7774b43828077e173b3b12e",
       "version_major": 2,
       "version_minor": 0
      },
      "text/plain": [
       "  0%|          | 0/155060 [00:00<?, ?it/s]"
      ]
     },
     "metadata": {},
     "output_type": "display_data"
    },
    {
     "name": "stdout",
     "output_type": "stream",
     "text": [
      "therefore\n",
      "crank\n",
      "rend\n",
      "rend\n",
      "zombie\n",
      "rend\n",
      "leaving\n",
      "nigh\n",
      "raccoon\n",
      "give\n",
      "winded\n",
      "swim\n",
      "nigh\n",
      "pickle\n",
      "drake\n",
      "fortunate\n",
      "never\n",
      "rend\n",
      "crank\n",
      "zombie\n",
      "abrupt\n",
      "hands\n",
      "safety\n",
      "undulate\n",
      "merry\n",
      "umap_155060rows_30dims_100nns.npy\n",
      "[692, 1000, 1000, 1000, 393, 1000, 1000, 1000, 299, 1000, 1000, 33, 1000, 1000, 1000, 1000, 271, 1000, 1000, 149, 1000, 1000, 1000, 92, 1000]\n",
      "PASSED: 7 / 25\n"
     ]
    },
    {
     "data": {
      "application/vnd.jupyter.widget-view+json": {
       "model_id": "913b06b62fef452eb980fcacbb8c1342",
       "version_major": 2,
       "version_minor": 0
      },
      "text/plain": [
       "  0%|          | 0/155060 [00:00<?, ?it/s]"
      ]
     },
     "metadata": {},
     "output_type": "display_data"
    },
    {
     "name": "stdout",
     "output_type": "stream",
     "text": [
      "book\n",
      "electric\n",
      "freedom\n",
      "undulate\n",
      "painful\n",
      "future\n",
      "painful\n",
      "knife\n",
      "flute\n",
      "cell\n",
      "ended\n",
      "shill\n",
      "ferocious\n",
      "swim\n",
      "undulate\n",
      "splitter\n",
      "crank\n",
      "flew\n",
      "safety\n",
      "undulate\n",
      "drake\n",
      "play\n",
      "flute\n",
      "carpet\n",
      "spilled\n",
      "umap_155060rows_30dims_1000nns.npy\n",
      "[614, 1000, 788, 141, 1000, 1000, 1000, 1000, 446, 1000, 827, 1000, 795, 120, 253, 621, 1000, 1000, 1000, 553, 1000, 1000, 50, 1000, 323]\n",
      "PASSED: 12 / 25\n"
     ]
    },
    {
     "data": {
      "application/vnd.jupyter.widget-view+json": {
       "model_id": "54d9d59c99f7440cb2b9e2fc92e9c6dd",
       "version_major": 2,
       "version_minor": 0
      },
      "text/plain": [
       "  0%|          | 0/155060 [00:00<?, ?it/s]"
      ]
     },
     "metadata": {},
     "output_type": "display_data"
    },
    {
     "name": "stdout",
     "output_type": "stream",
     "text": [
      "microphone\n",
      "undulate\n",
      "revert\n",
      "cell\n",
      "flute\n",
      "zombie\n",
      "shill\n",
      "lunatic\n",
      "fortunate\n",
      "painful\n",
      "future\n",
      "knife\n",
      "pickle\n",
      "swim\n",
      "cell\n",
      "splitter\n",
      "similar\n",
      "safety\n",
      "give\n",
      "microphone\n",
      "neighbor\n",
      "cell\n",
      "shill\n",
      "arrow\n",
      "undulate\n",
      "umap_155060rows_100dims_15nns.npy\n",
      "[121, 607, 1000, 1000, 153, 1000, 1000, 160, 343, 1000, 803, 1000, 1000, 50, 464, 1000, 1000, 1000, 1000, 942, 1000, 583, 756, 1000, 418]\n",
      "PASSED: 12 / 25\n"
     ]
    },
    {
     "data": {
      "application/vnd.jupyter.widget-view+json": {
       "model_id": "24ddb00956c046b38c664cba51ecf492",
       "version_major": 2,
       "version_minor": 0
      },
      "text/plain": [
       "  0%|          | 0/155060 [00:00<?, ?it/s]"
      ]
     },
     "metadata": {},
     "output_type": "display_data"
    },
    {
     "name": "stdout",
     "output_type": "stream",
     "text": [
      "zebra\n",
      "three\n",
      "moon\n",
      "knock\n",
      "hands\n",
      "play\n",
      "love\n",
      "love\n",
      "rend\n",
      "cell\n",
      "neighbor\n",
      "doctor\n",
      "carpet\n",
      "knock\n",
      "zebra\n",
      "cell\n",
      "love\n",
      "future\n",
      "airborne\n",
      "crank\n",
      "trench\n",
      "doctor\n",
      "flute\n",
      "doctor\n",
      "cloud\n",
      "umap_155060rows_100dims_50nns.npy\n",
      "[590, 96, 1000, 1000, 355, 1000, 1000, 1000, 1000, 790, 270, 88, 1000, 957, 837, 1000, 1000, 1000, 1000, 1000, 182, 1000, 163, 637, 1000]\n",
      "PASSED: 11 / 25\n"
     ]
    },
    {
     "data": {
      "application/vnd.jupyter.widget-view+json": {
       "model_id": "755b86e57b904fe1b17a4aed9869bf79",
       "version_major": 2,
       "version_minor": 0
      },
      "text/plain": [
       "  0%|          | 0/155060 [00:00<?, ?it/s]"
      ]
     },
     "metadata": {},
     "output_type": "display_data"
    },
    {
     "name": "stdout",
     "output_type": "stream",
     "text": [
      "raccoon\n",
      "shill\n",
      "doctor\n",
      "retch\n",
      "similar\n",
      "fridge\n",
      "raccoon\n",
      "abrupt\n",
      "beach\n",
      "zebra\n",
      "zebra\n",
      "flute\n",
      "safety\n",
      "love\n",
      "play\n",
      "microphone\n",
      "trench\n",
      "crank\n",
      "microphone\n",
      "leaving\n",
      "lunatic\n",
      "similar\n",
      "doctor\n",
      "splitter\n",
      "therefore\n",
      "umap_155060rows_100dims_100nns.npy\n",
      "[346, 1000, 897, 1000, 1000, 733, 467, 1000, 1000, 1000, 815, 213, 1000, 1000, 1000, 231, 1000, 1000, 488, 1000, 33, 1000, 86, 1000, 451]\n",
      "PASSED: 11 / 25\n"
     ]
    },
    {
     "data": {
      "application/vnd.jupyter.widget-view+json": {
       "model_id": "4d415ed8db6648be98c6de097965a77f",
       "version_major": 2,
       "version_minor": 0
      },
      "text/plain": [
       "  0%|          | 0/155060 [00:00<?, ?it/s]"
      ]
     },
     "metadata": {},
     "output_type": "display_data"
    },
    {
     "name": "stdout",
     "output_type": "stream",
     "text": [
      "book\n",
      "zebra\n",
      "spilled\n",
      "spilled\n",
      "fortunate\n",
      "hands\n",
      "knock\n",
      "retch\n",
      "play\n",
      "book\n",
      "future\n",
      "doctor\n",
      "spilled\n",
      "zombie\n",
      "neighbor\n",
      "abrupt\n",
      "therefore\n",
      "cloud\n",
      "ferocious\n",
      "nigh\n",
      "revert\n",
      "safety\n",
      "semicircle\n",
      "shill\n",
      "flew\n",
      "umap_155060rows_100dims_1000nns.npy\n",
      "[76, 372, 1000, 1000, 365, 266, 1000, 1000, 1000, 344, 1000, 204, 1000, 502, 132, 1000, 470, 1000, 1000, 1000, 1000, 1000, 1000, 1000, 905]\n",
      "PASSED: 10 / 25\n",
      "889.0 umap_155060rows_3dims_15nns.npy\n",
      "953.08 umap_155060rows_3dims_50nns.npy\n",
      "898.4 umap_155060rows_3dims_100nns.npy\n",
      "955.52 umap_155060rows_3dims_1000nns.npy\n",
      "719.88 umap_155060rows_10dims_15nns.npy\n",
      "687.28 umap_155060rows_10dims_50nns.npy\n",
      "673.32 umap_155060rows_10dims_100nns.npy\n",
      "752.88 umap_155060rows_10dims_1000nns.npy\n",
      "804.68 umap_155060rows_30dims_15nns.npy\n",
      "775.28 umap_155060rows_30dims_50nns.npy\n",
      "797.16 umap_155060rows_30dims_100nns.npy\n",
      "741.24 umap_155060rows_30dims_1000nns.npy\n",
      "736.0 umap_155060rows_100dims_15nns.npy\n",
      "758.6 umap_155060rows_100dims_50nns.npy\n",
      "750.4 umap_155060rows_100dims_100nns.npy\n",
      "745.44 umap_155060rows_100dims_1000nns.npy\n"
     ]
    }
   ],
   "source": [
    "ngs = {}\n",
    "for c in curves:\n",
    "    if '155' not in c.name:\n",
    "        # just solving the reduced dataset here.\n",
    "        continue\n",
    "    if not len(c.curve):\n",
    "        continue\n",
    "    mat, w_vecs, curve, w_list, idx_to_word, ann_index = set_up(c.name, curves)\n",
    "    ngs[c.name] = []\n",
    "    for i in range(25):\n",
    "        game = SemantleGame(w_list)\n",
    "        player = SemantleSolver(game=game, curve=curve, n_random_guesses=2, conf_thresh=0.6)\n",
    "        print(game.target_word)\n",
    "        #print(player.CONF_THRESH)\n",
    "        won = False\n",
    "        while not won:\n",
    "            word = player.find_next_guess(w_vecs, ann_index, idx_to_word)\n",
    "            won = player.make_guess(word, orig_mat)\n",
    "            #g = player.guesses[-1]\n",
    "            #local_dist = score_to_dist(g.score, curve)\n",
    "            #print(g.word, round(g.score, 3), '->', round(local_dist, 3))\n",
    "            if len(player.guesses) >= 1000:\n",
    "                #print('stopped. ')\n",
    "                #print('Best guess:', player.best_guess, 'dist:', player.closest_dist)\n",
    "                break\n",
    "\n",
    "        #print(len(player.guesses))\n",
    "        ngs[c.name].append(len(player.guesses))\n",
    "    v = ngs[c.name]\n",
    "    print(c.name.split('/')[-1])\n",
    "    print(v)\n",
    "    print(\"PASSED:\", sum(1 for r in v if r != 1000), '/', len(v))\n",
    "for k, v in ngs.items():\n",
    "    print(sum(v)/len(v), k.split('/')[-1])"
   ]
  },
  {
   "cell_type": "code",
   "execution_count": null,
   "id": "af2f4253",
   "metadata": {},
   "outputs": [],
   "source": [
    "# 10 and 30 dims did fine really. Splitting hairs beyond that.\n",
    "best_ones = ['umap_155060rows_10dims_50nns.npy', 'umap_155060rows_30dims_50nns']"
   ]
  },
  {
   "cell_type": "code",
   "execution_count": null,
   "id": "9f5a5596",
   "metadata": {},
   "outputs": [],
   "source": []
  },
  {
   "cell_type": "code",
   "execution_count": null,
   "id": "79be2db6",
   "metadata": {},
   "outputs": [],
   "source": []
  },
  {
   "cell_type": "code",
   "execution_count": null,
   "id": "858b92e2",
   "metadata": {},
   "outputs": [],
   "source": []
  },
  {
   "cell_type": "code",
   "execution_count": null,
   "id": "0b08aab5",
   "metadata": {},
   "outputs": [],
   "source": []
  }
 ],
 "metadata": {
  "kernelspec": {
   "display_name": "Python 3 (ipykernel)",
   "language": "python",
   "name": "python3"
  },
  "language_info": {
   "codemirror_mode": {
    "name": "ipython",
    "version": 3
   },
   "file_extension": ".py",
   "mimetype": "text/x-python",
   "name": "python",
   "nbconvert_exporter": "python",
   "pygments_lexer": "ipython3",
   "version": "3.9.7"
  }
 },
 "nbformat": 4,
 "nbformat_minor": 5
}
