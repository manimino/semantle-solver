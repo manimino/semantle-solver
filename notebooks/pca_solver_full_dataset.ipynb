{
 "cells": [
  {
   "cell_type": "code",
   "execution_count": 1,
   "id": "f9d160fe",
   "metadata": {},
   "outputs": [],
   "source": [
    "import dataclasses\n",
    "import pickle\n",
    "import random\n",
    "import numpy as np\n",
    "from gensim import models\n",
    "\n",
    "from annoy import AnnoyIndex\n",
    "from tqdm.notebook import tqdm\n",
    "from scipy.spatial.distance import euclidean, pdist, squareform\n",
    "import scipy\n",
    "import scipy.stats as stats\n",
    "from sklearn.decomposition import PCA\n",
    "\n",
    "from matplotlib import pyplot as plt\n",
    "from typing import *\n",
    "\n",
    "from scipy.spatial.distance import cosine as cos_dist\n"
   ]
  },
  {
   "cell_type": "code",
   "execution_count": 2,
   "id": "8e9d78e2",
   "metadata": {},
   "outputs": [
    {
     "data": {
      "text/plain": [
       "\"\\ndef read_glove_file() -> Dict[str, List[float]]:\\n    #Yields the next 'size' vectors in a glove file.\\n    glove_file = '/mnt/Spookley/datasets/glove/glove.6B.50d.txt'\\n    w_vecs = {}\\n    with tqdm(total=400000) as pbar:\\n        with open(glove_file) as fh:\\n            for line in fh.readlines():\\n                pbar.update(1)\\n                toks = line.strip().split()\\n                word = toks[0]\\n                # non-words like punctuation marks have entries, but we don't want those\\n                if not word.isalnum():  \\n                    continue\\n                # Some bigrams and trigrams are in the dataset. Skip those.\\n                try:\\n                    float(toks[1])\\n                except ValueError:\\n                    continue\\n                # No errors, parse the line.\\n                vec = [float(s) for s in toks[1:]]\\n                vec = np.array(vec)\\n                vec = vec / np.linalg.norm(vec)\\n                vec = vec.tolist()\\n                w_vecs[word] = vec\\n    return w_vecs\\n\""
      ]
     },
     "execution_count": 2,
     "metadata": {},
     "output_type": "execute_result"
    }
   ],
   "source": [
    "\"\"\"\n",
    "def read_glove_file() -> Dict[str, List[float]]:\n",
    "    #Yields the next 'size' vectors in a glove file.\n",
    "    glove_file = '/mnt/Spookley/datasets/glove/glove.6B.50d.txt'\n",
    "    w_vecs = {}\n",
    "    with tqdm(total=400000) as pbar:\n",
    "        with open(glove_file) as fh:\n",
    "            for line in fh.readlines():\n",
    "                pbar.update(1)\n",
    "                toks = line.strip().split()\n",
    "                word = toks[0]\n",
    "                # non-words like punctuation marks have entries, but we don't want those\n",
    "                if not word.isalnum():  \n",
    "                    continue\n",
    "                # Some bigrams and trigrams are in the dataset. Skip those.\n",
    "                try:\n",
    "                    float(toks[1])\n",
    "                except ValueError:\n",
    "                    continue\n",
    "                # No errors, parse the line.\n",
    "                vec = [float(s) for s in toks[1:]]\n",
    "                vec = np.array(vec)\n",
    "                vec = vec / np.linalg.norm(vec)\n",
    "                vec = vec.tolist()\n",
    "                w_vecs[word] = vec\n",
    "    return w_vecs\n",
    "\"\"\""
   ]
  },
  {
   "cell_type": "code",
   "execution_count": 14,
   "id": "e865cd31",
   "metadata": {},
   "outputs": [],
   "source": [
    "def read_goog_file(size=None):\n",
    "    vec_file = '/home/theo/repos/semantle/GoogleNews-vectors-negative300.bin'\n",
    "    kv = models.KeyedVectors.load_word2vec_format(vec_file, binary=True, limit=size)\n",
    "    words = kv.index_to_key\n",
    "    w_vecs = {}\n",
    "    for w in words:\n",
    "        w_vecs[w] = kv[w] / np.linalg.norm(kv[w])\n",
    "    return w_vecs"
   ]
  },
  {
   "cell_type": "code",
   "execution_count": null,
   "id": "14f826a0",
   "metadata": {},
   "outputs": [],
   "source": []
  },
  {
   "cell_type": "code",
   "execution_count": 15,
   "id": "0c915dca",
   "metadata": {},
   "outputs": [],
   "source": [
    "def build_index(w_vecs: Dict[str, List[float]]) -> Tuple[Dict[int, str], AnnoyIndex]:\n",
    "    for v in w_vecs.values():\n",
    "        GLOVE_VEC_SIZE = len(v)\n",
    "        break\n",
    "    idx_to_word = {}\n",
    "    ann_index = AnnoyIndex(GLOVE_VEC_SIZE, 'euclidean')\n",
    "    with tqdm(total=len(w_vecs)) as pbar:\n",
    "        for i, w in enumerate(w_vecs.keys()):\n",
    "            pbar.update(1)\n",
    "            ann_index.add_item(i, w_vecs[w])\n",
    "            idx_to_word[i] = w\n",
    "    ann_index.build(20) # n trees\n",
    "    return idx_to_word, ann_index"
   ]
  },
  {
   "cell_type": "code",
   "execution_count": null,
   "id": "fb3054f4",
   "metadata": {},
   "outputs": [],
   "source": []
  },
  {
   "cell_type": "code",
   "execution_count": 16,
   "id": "6df347e7",
   "metadata": {},
   "outputs": [
    {
     "name": "stdout",
     "output_type": "stream",
     "text": [
      "(3000000, 100)\n"
     ]
    }
   ],
   "source": [
    "w_vecs = read_goog_file()\n",
    "pca = PCA(n_components=100)\n",
    "mat_full = np.array([w_vecs[w] for w in w_vecs])\n",
    "mat = pca.fit_transform(mat_full)\n",
    "\n",
    "print(mat.shape)\n",
    "for i, w in enumerate(w_vecs.keys()):\n",
    "    w_vecs[w] = mat[i, :]"
   ]
  },
  {
   "cell_type": "code",
   "execution_count": 17,
   "id": "b26159dc",
   "metadata": {},
   "outputs": [
    {
     "data": {
      "application/vnd.jupyter.widget-view+json": {
       "model_id": "5c6abea9dea34720a74a05cd3f063f09",
       "version_major": 2,
       "version_minor": 0
      },
      "text/plain": [
       "  0%|          | 0/3000000 [00:00<?, ?it/s]"
      ]
     },
     "metadata": {},
     "output_type": "display_data"
    }
   ],
   "source": [
    "\n",
    "idx_to_word, ann_index = build_index(w_vecs)  # fast\n"
   ]
  },
  {
   "cell_type": "code",
   "execution_count": 18,
   "id": "6090033d",
   "metadata": {},
   "outputs": [
    {
     "name": "stdout",
     "output_type": "stream",
     "text": [
      "0.5091760158538818\n",
      "0.6534456014633179\n",
      "0.8676884770393372\n"
     ]
    }
   ],
   "source": [
    "print(euclidean(w_vecs['strawberry'], w_vecs['peach']))\n",
    "print(euclidean(w_vecs['strawberry'], w_vecs['banana']))\n",
    "print(euclidean(w_vecs['strawberry'], w_vecs['envelope']))"
   ]
  },
  {
   "cell_type": "code",
   "execution_count": 19,
   "id": "8ce92d29",
   "metadata": {},
   "outputs": [],
   "source": [
    "def random_point_in_dist(point, dist):\n",
    "    # For when we know the dist but have no idea what direction to travel\n",
    "    vec = np.random.random((len(point)))\n",
    "    vec = vec / scipy.linalg.norm(vec)\n",
    "    vec = vec * dist\n",
    "    return vec+point\n",
    "\n",
    "\n",
    "def directed_point_in_dist(p1, p2, p1_dist, p2_dist):\n",
    "    # Generate a vector using p1 and p2.\n",
    "    # Check if it will point in the general direction of our target.\n",
    "    p1p2 = (p1-p2)\n",
    "    p1p2mag = scipy.linalg.norm(p1p2)\n",
    "    if p1p2mag < 0.00001:\n",
    "        return None, 0\n",
    "    p1p2_unit = p1p2 / p1p2mag\n",
    "    if p1_dist < p2_dist:\n",
    "        # p1 is closer to target\n",
    "        mag = p1_dist\n",
    "        target_point = p1 + p1p2_unit*mag\n",
    "        confidence = (p2_dist-p1_dist) / p1p2mag\n",
    "        assert confidence >= 0\n",
    "    else:\n",
    "        # j is closer to target\n",
    "        # make a vector from j to a target that is dists[j] away\n",
    "        mag = p2_dist\n",
    "        target_point = p2 - p1p2_unit*mag\n",
    "        confidence = (p1_dist-p2_dist) / p1p2mag\n",
    "        assert confidence >= 0\n",
    "    return target_point, confidence"
   ]
  },
  {
   "cell_type": "code",
   "execution_count": 20,
   "id": "3088cf06",
   "metadata": {},
   "outputs": [
    {
     "name": "stdout",
     "output_type": "stream",
     "text": [
      "expect [0,6] (array([0., 6.]), 1.0)\n",
      "expect [0,6] (array([0., 6.]), 1.0)\n"
     ]
    }
   ],
   "source": [
    "# test case - target at [0,6], points on y axis\n",
    "p1 = np.array([0,0])\n",
    "p2 = np.array([0,2])\n",
    "target = np.array([0,6])\n",
    "d1 = euclidean(p1, target)\n",
    "d2 = euclidean(p2, target)\n",
    "print('expect [0,6]', directed_point_in_dist(p1, p2, d1, d2))\n",
    "print('expect [0,6]', directed_point_in_dist(p2, p1, d2, d1))"
   ]
  },
  {
   "cell_type": "code",
   "execution_count": 21,
   "id": "60761b38",
   "metadata": {},
   "outputs": [
    {
     "name": "stdout",
     "output_type": "stream",
     "text": [
      "expect [1,3] (array([0.        , 3.41421356]), 0.8740320488976422)\n",
      "expect [1,3] (array([0.        , 3.41421356]), 0.8740320488976422)\n"
     ]
    }
   ],
   "source": [
    "# test case - target at [1,3], points on y axis\n",
    "p1 = np.array([0,0])\n",
    "p2 = np.array([0,2])\n",
    "target = np.array([1,3])\n",
    "d1 = euclidean(p1, target)\n",
    "d2 = euclidean(p2, target)\n",
    "print('expect [1,3]', directed_point_in_dist(p1, p2, d1, d2))\n",
    "print('expect [1,3]', directed_point_in_dist(p2, p1, d2, d1))"
   ]
  },
  {
   "cell_type": "code",
   "execution_count": 22,
   "id": "cbd822fa",
   "metadata": {},
   "outputs": [
    {
     "name": "stdout",
     "output_type": "stream",
     "text": [
      "3.1622776601683795 3.1622776601683795\n",
      "expect zero confidence (array([0.        , 5.16227766]), 0.0)\n",
      "expect zero confidence (array([ 0.        , -3.16227766]), 0.0)\n"
     ]
    }
   ],
   "source": [
    "# test case - target at [3,1], points on y axis\n",
    "p1 = np.array([0,0])\n",
    "p2 = np.array([0,2])\n",
    "target = np.array([3,1])\n",
    "d1 = euclidean(p1, target)\n",
    "d2 = euclidean(p2, target)\n",
    "print(d1, d2)\n",
    "print('expect zero confidence', directed_point_in_dist(p1, p2, d1, d2))\n",
    "print('expect zero confidence', directed_point_in_dist(p2, p1, d2, d1))"
   ]
  },
  {
   "cell_type": "code",
   "execution_count": 23,
   "id": "8bb219ee",
   "metadata": {},
   "outputs": [],
   "source": [
    "def score_to_dist(score):\n",
    "    sim_score = score / 100\n",
    "    coef = [-1.0357972 ,  0.60367754, -0.73071757,  1.14227681]\n",
    "    # coef = [-0.93024736,  0.28175783, -0.73464682,  1.12342693]  # 100 dims lets goooooo\n",
    "    return coef[0]*sim_score**3 + coef[1]*sim_score**2 + coef[2]*sim_score + coef[3]"
   ]
  },
  {
   "cell_type": "code",
   "execution_count": 54,
   "id": "9afdc94a",
   "metadata": {},
   "outputs": [],
   "source": [
    "class SemantleGame():\n",
    "    def __init__(self, w_vecs):\n",
    "        w_list = list(w_vecs.keys())\n",
    "        self.target_word = random.choice(w_list[1000:10000])\n",
    "        self.target_vec = w_vecs[self.target_word]\n",
    "        \n",
    "    def guess(self, word, vec) -> Tuple[bool, float]:\n",
    "        # construct guess\n",
    "        # dist = euclidean(vec, self.target_vec) lol nope!\n",
    "        sim_score = 1-cos_dist(vec, self.target_vec)\n",
    "        dist = score_to_dist(sim_score)\n",
    "        # check if win\n",
    "        if word == self.target_word:\n",
    "            return True, dist, sim_score\n",
    "        else:\n",
    "            return False, dist, sim_score\n",
    "    \n",
    "    def display_guesses(self):\n",
    "        s = []\n",
    "        for g in sorted(self.guesses, key = lambda g: g.dist):\n",
    "            s.append(str(g))\n",
    "        print('\\n'.join(s))\n",
    "        \n",
    "    def __str__(self):\n",
    "        return '\\n'.join('{}: {}'.format(k, v) for k, v in self.__dict__.items())"
   ]
  },
  {
   "cell_type": "code",
   "execution_count": 61,
   "id": "b525ecae",
   "metadata": {},
   "outputs": [],
   "source": [
    "@dataclasses.dataclass\n",
    "class Guess:\n",
    "    word: str\n",
    "    num: int\n",
    "    dist: float\n",
    "    score: float\n",
    "    \n",
    "class SemantleSolver:\n",
    "    \n",
    "    def __init__(self, n_random_guesses=2, game=None, conf_thresh=0.1):\n",
    "        self.n_random_guesses = n_random_guesses\n",
    "        self.closest_dist = float('inf')\n",
    "        self.guesses = []  # List[Guess]\n",
    "        self.guessed_words = set()  # for fast lookup\n",
    "        self.best_guess = None\n",
    "        self.game = game\n",
    "        \n",
    "        self.N_RANDOM = 5\n",
    "        self.CONF_THRESH = conf_thresh\n",
    "        \n",
    "        self.stats = {\n",
    "            'grd_high_conf': 0,\n",
    "            'grd_random_dist': 0,\n",
    "            'times_gradient': 0,\n",
    "            'times_exhaustive': 0,\n",
    "            'times_random': 0,\n",
    "        }\n",
    "        \n",
    "    def _gradient_method(self, w_vecs, ann_index):\n",
    "        # Use gradient method to get a closer guess.\n",
    "        p1 = np.array(w_vecs[self.guesses[-1].word])\n",
    "        p1_dist = self.guesses[-1].dist\n",
    "        \n",
    "        # Consider the few most recent points. \n",
    "        # Try and find one with a vector through p1 that points towards the target.\n",
    "        best_point = None\n",
    "        best_confidence = 0\n",
    "        best_p2_dist = float('inf')\n",
    "        for i in range(2, min(10, len(self.guesses))):\n",
    "            p2 = np.array(w_vecs[self.guesses[-i].word])\n",
    "            p2_dist = self.guesses[-i].dist\n",
    "            \n",
    "            # where does p2->p1 point? and how well aligned is that spot with the target?\n",
    "            target_point, confidence = directed_point_in_dist(p1, p2, p1_dist, p2_dist)\n",
    "            if confidence > best_confidence:\n",
    "                best_confidence = confidence\n",
    "                best_point = target_point\n",
    "        if best_confidence < self.CONF_THRESH:\n",
    "            self.stats['grd_random_dist'] += 1\n",
    "            vec = np.array(w_vecs[self.best_guess])\n",
    "            best_point = random_point_in_dist(vec, self.closest_dist)\n",
    "            #print('grd_rand')\n",
    "        else:\n",
    "            self.stats['grd_high_conf'] += 1\n",
    "            #print('grd_conf')\n",
    "\n",
    "        return best_point\n",
    "\n",
    "    \n",
    "    def find_next_guess(self, w_vecs, ann_index, idx_to_word) -> bool:\n",
    "        if len(self.guesses) < self.N_RANDOM:\n",
    "            self.stats['times_random'] += 1\n",
    "            next_word = random.choice(list(w_vecs.keys()))\n",
    "        else:\n",
    "            self.stats['times_gradient'] += 1\n",
    "            v = self._gradient_method(w_vecs, ann_index)\n",
    "            idxs_near_best = ann_index.get_nns_by_vector(v, 1000)\n",
    "            for idx in idxs_near_best:\n",
    "                w = idx_to_word[idx]\n",
    "                if w not in self.guessed_words:\n",
    "                    next_word = w\n",
    "                    break\n",
    "            \n",
    "        return next_word\n",
    "\n",
    "    def make_guess(self, word):\n",
    "        # guess the word\n",
    "        win, dist, sim_score = self.game.guess(word, w_vecs[word])\n",
    "        self.guessed_words.add(word)\n",
    "        self.guesses.append(Guess(word=word, dist=dist, num=len(self.guesses)+1, score=sim_score*100))\n",
    "        \n",
    "        # see if this one's better\n",
    "        if self.best_guess is None or dist < self.closest_dist:\n",
    "            #print(word, round(dist, 3))\n",
    "            self.closest_dist = dist\n",
    "            self.best_guess = word\n",
    "        \n",
    "        if win:\n",
    "            #print(\"I win!\")\n",
    "            return True\n",
    "        else:\n",
    "            return False\n",
    "    \n",
    "    def add_guess(self, word, score):\n",
    "        # Adds a guess from an external source. For playing Real Semantle.\n",
    "        dist = score_to_dist(score)\n",
    "        self.guessed_words.add(word)\n",
    "        self.guesses.append(Guess(word=word, dist=dist, num=len(self.guesses)+1, score=score*100))\n",
    "        if self.best_guess is None or dist < self.closest_dist:\n",
    "            #print(word, round(dist, 3))\n",
    "            self.closest_dist = dist\n",
    "            self.best_guess = word\n",
    "        "
   ]
  },
  {
   "cell_type": "code",
   "execution_count": null,
   "id": "89ef6cbe",
   "metadata": {},
   "outputs": [],
   "source": []
  },
  {
   "cell_type": "code",
   "execution_count": 103,
   "id": "14879ac9",
   "metadata": {
    "scrolled": false
   },
   "outputs": [
    {
     "name": "stdout",
     "output_type": "stream",
     "text": [
      "therapeutic\n",
      "0.001\n",
      "stopped. \n",
      "Best guess: therapeutical dist: 1.1369188884248183\n",
      "{'grd_high_conf': 955, 'grd_random_dist': 41, 'times_gradient': 996, 'times_exhaustive': 0, 'times_random': 5}\n",
      "Brent\n",
      "0.001\n",
      "{'grd_high_conf': 497, 'grd_random_dist': 30, 'times_gradient': 527, 'times_exhaustive': 0, 'times_random': 5}\n",
      "measure\n",
      "0.001\n",
      "{'grd_high_conf': 630, 'grd_random_dist': 37, 'times_gradient': 667, 'times_exhaustive': 0, 'times_random': 5}\n",
      "lawmaker\n",
      "0.001\n",
      "{'grd_high_conf': 304, 'grd_random_dist': 33, 'times_gradient': 337, 'times_exhaustive': 0, 'times_random': 5}\n",
      "weekends\n",
      "0.001\n",
      "{'grd_high_conf': 335, 'grd_random_dist': 17, 'times_gradient': 352, 'times_exhaustive': 0, 'times_random': 5}\n",
      "Spring\n",
      "0.001\n",
      "stopped. \n",
      "Best guess: Hillbilly_Days dist: 1.1381692554114078\n",
      "{'grd_high_conf': 914, 'grd_random_dist': 82, 'times_gradient': 996, 'times_exhaustive': 0, 'times_random': 5}\n",
      "decline\n",
      "0.001\n",
      "{'grd_high_conf': 265, 'grd_random_dist': 9, 'times_gradient': 274, 'times_exhaustive': 0, 'times_random': 5}\n",
      "true\n",
      "0.001\n",
      "{'grd_high_conf': 344, 'grd_random_dist': 16, 'times_gradient': 360, 'times_exhaustive': 0, 'times_random': 5}\n",
      "sing\n",
      "0.001\n",
      "{'grd_high_conf': 219, 'grd_random_dist': 18, 'times_gradient': 237, 'times_exhaustive': 0, 'times_random': 5}\n",
      "Qatar\n",
      "0.001\n",
      "{'grd_high_conf': 187, 'grd_random_dist': 12, 'times_gradient': 199, 'times_exhaustive': 0, 'times_random': 5}\n"
     ]
    },
    {
     "data": {
      "image/png": "[encoded data removed]",
      "text/plain": [
       "<Figure size 1080x720 with 1 Axes>"
      ]
     },
     "metadata": {
      "needs_background": "light"
     },
     "output_type": "display_data"
    }
   ],
   "source": [
    "\n",
    "plt.figure(figsize=(15,10))\n",
    "for i in range(10):\n",
    "    game = SemantleGame(w_vecs)\n",
    "    player = SemantleSolver(game=game, conf_thresh=0.001)\n",
    "    print(game.target_word)\n",
    "    print(player.CONF_THRESH)\n",
    "    won = False \n",
    "    while not won:\n",
    "        word = player.find_next_guess(w_vecs, ann_index, idx_to_word)\n",
    "        won = player.make_guess(word)\n",
    "        g = player.guesses[-1]\n",
    "        #print(g.word, round(g.dist, 3))\n",
    "        if len(player.guesses) > 1000:\n",
    "            print('stopped. ')\n",
    "            print('Best guess:', player.best_guess, 'dist:', player.closest_dist)\n",
    "            break\n",
    "\n",
    "    print(player.stats)\n",
    "    max_score = 0\n",
    "    traj = []\n",
    "    for g in player.guesses:\n",
    "        max_score = max(g.score, max_score)\n",
    "        traj.append(max_score)\n",
    "    \n",
    "    plt.plot(range(len(traj)), traj, '-')\n",
    "    plt.xlim(0, 1000)\n",
    "    plt.ylim(0, 100)\n",
    "    plt.title('PCA trajectories')\n",
    "    plt.ylabel('Max score so far, 100=win')\n",
    "    plt.xlabel('Guess number, 1000=lose')"
   ]
  },
  {
   "cell_type": "code",
   "execution_count": null,
   "id": "7ab3791f",
   "metadata": {},
   "outputs": [],
   "source": []
  },
  {
   "cell_type": "code",
   "execution_count": null,
   "id": "8dd87227",
   "metadata": {},
   "outputs": [],
   "source": [
    "# grid search time.\n",
    "def run_trial(exh, n_rand, conf_thresh, w_vecs, idx_to_word, ann_index):\n",
    "    # make a game\n",
    "    \n",
    "    game = SemantleGame(w_vecs)\n",
    "    player = SemantleSolver(game=game)\n",
    "    \n",
    "    player.EXH_THRESH = exh\n",
    "    player.N_RANDOM = n_rand\n",
    "    player.CONF_THRESH = conf_thresh\n",
    "    \n",
    "    won = False\n",
    "    while not won:\n",
    "        word = player.find_next_guess(w_vecs, ann_index, idx_to_word)\n",
    "        won = player.make_guess(word)\n",
    "        if len(player.guesses) > 1000:\n",
    "            break\n",
    "    return len(player.guesses)"
   ]
  },
  {
   "cell_type": "code",
   "execution_count": null,
   "id": "a3656787",
   "metadata": {},
   "outputs": [],
   "source": [
    "\n",
    "n_dims = [10, 15, 20]\n",
    "exh_threshes = [0.001]\n",
    "n_randoms = [3]\n",
    "conf_threshes = [0.2, 0.3, 0.4, 0.6, 0.8]\n",
    "n_trials = 20\n",
    "\n",
    "params_results = {}\n",
    "\n",
    "for n_dim in n_dims:\n",
    "    \n",
    "    # set up space\n",
    "    w_vecs = read_glove_file()\n",
    "    pca = PCA(n_components=n_dim)\n",
    "    mat_full = np.array([w_vecs[w] for w in w_vecs])\n",
    "    mat = pca.fit_transform(mat_full)\n",
    "\n",
    "    for i, w in enumerate(w_vecs.keys()):\n",
    "        w_vecs[w] = mat[i, :]\n",
    "\n",
    "    idx_to_word, ann_index = build_index(w_vecs)\n",
    "\n",
    "    \n",
    "    for exh in exh_threshes:\n",
    "        for n_rand in n_randoms:\n",
    "            for conf_thresh in conf_threshes:\n",
    "                params = (n_dim, exh, n_rand, conf_thresh)\n",
    "                for trial in range(n_trials):\n",
    "                    n_guesses = run_trial(exh, n_rand, conf_thresh, w_vecs, idx_to_word, ann_index)\n",
    "                    if not params in params_results:\n",
    "                        params_results[params] = 0\n",
    "                    params_results[params] += n_guesses\n",
    "                params_results[params] /= n_trials\n",
    "                print(params, params_results[params])\n",
    "\n",
    "print(params_results)"
   ]
  },
  {
   "cell_type": "code",
   "execution_count": null,
   "id": "9f5ae1ae",
   "metadata": {},
   "outputs": [],
   "source": [
    "print(list(sorted(zip(params_results.items()), key=lambda x: x[1]))[:10])"
   ]
  },
  {
   "cell_type": "code",
   "execution_count": null,
   "id": "691a5471",
   "metadata": {},
   "outputs": [],
   "source": [
    "ls = list(sorted(zip(params_results.items()), key = lambda x: x[0][1]))"
   ]
  },
  {
   "cell_type": "code",
   "execution_count": null,
   "id": "d83150a1",
   "metadata": {},
   "outputs": [],
   "source": [
    "for item in ls:\n",
    "    print(item)"
   ]
  },
  {
   "cell_type": "code",
   "execution_count": null,
   "id": "9639c52a",
   "metadata": {},
   "outputs": [],
   "source": []
  },
  {
   "cell_type": "code",
   "execution_count": null,
   "id": "b3745ae9",
   "metadata": {},
   "outputs": [],
   "source": [
    "# Now make something that plays Real Semantle\n",
    "s_play = SemantleSolver()\n",
    "s_play.CONF_THRESH = 0.2\n",
    "s_play.add_guess('surrey', 8.11)\n",
    "s_play.add_guess('injurying', -6.47)\n",
    "s_play.add_guess('xxx_domain_name', 23.52)\n",
    "s_play.add_guess('Program_TM_QuickAir', 4.12)\n",
    "s_play.add_guess('Onlookers', 5.27)\n",
    "s_play.add_guess('XXX_domain', 19.36)\n",
    "s_play.add_guess('domain_suffix', 23.19)\n",
    "s_play.add_guess('domain_suffixes', 16.66)\n",
    "s_play.add_guess('antivirus_vendors', 14.57)\n",
    "s_play.add_guess('Firefox_extensions', 26.94)\n",
    "s_play.add_guess('Firefox_add_ons', 33.49)\n",
    "s_play.add_guess('FireFox', 20.56)\n",
    "s_play.add_guess('slashtags', 31.54)\n",
    "s_play.add_guess('sitelinks', 35.35)\n",
    "s_play.add_guess('backlink', 22.18)\n",
    "s_play.add_guess('Macrumors', 21.93)\n",
    "s_play.add_guess('keyphrases', 15.95)\n",
    "s_play.add_guess('screenshot', 33.78)\n",
    "s_play.add_guess('screengrab', 23.42)\n",
    "s_play.add_guess('screenshots', 21.49)\n",
    "s_play.add_guess('favicon', 45.82)\n",
    "s_play.add_guess('menubar', 48.45)\n",
    "s_play.add_guess('Downloads_folder', 41.77)\n",
    "s_play.add_guess('Applications_folder', 36.37)\n",
    "s_play.add_guess('scrollbar', 48.03)\n",
    "s_play.add_guess('toolbar_buttons', 46.15)\n",
    "s_play.add_guess('dialog_boxes', 42.41)\n",
    "s_play.add_guess('filetype', 38.06)\n",
    "s_play.add_guess('Passively', 25.72)\n",
    "s_play.add_guess('Start_Menu', 43.70)\n",
    "s_play.add_guess('shortcut_keys', 57.59)\n",
    "s_play.add_guess('homescreens', 46.41)\n",
    "s_play.add_guess('hotkeys', 56.43)\n",
    "s_play.add_guess('hotkey', 58.91)\n",
    "s_play.add_guess('keyboard_shortcut', 56.36)\n",
    "s_play.add_guess('Ctrl_+', 55.19)\n",
    "s_play.add_guess('CTRL_+', 52.57)\n",
    "s_play.add_guess('ctrl', 48.02)\n",
    "s_play.add_guess('thumbstick', 52.04)\n",
    "s_play.add_guess('d_pad', 55.63)\n",
    "s_play.add_guess('arrow_keys', 54.87)\n",
    "s_play.add_guess('cursor', 54.05)\n",
    "s_play.add_guess('spacebar', 68.31)\n",
    "s_play.add_guess('stylus', 45.48)\n",
    "s_play.add_guess('Fn_key', 62.21)\n",
    "s_play.add_guess('shortcut_buttons', 55.77)\n",
    "s_play.add_guess('Spacebar', 55.94)\n",
    "s_play.add_guess('mouse_buttons', 49.41)\n",
    "s_play.find_next_guess(w_vecs, ann_index, idx_to_word)\n"
   ]
  },
  {
   "cell_type": "code",
   "execution_count": null,
   "id": "b4addcc9",
   "metadata": {},
   "outputs": [],
   "source": []
  },
  {
   "cell_type": "code",
   "execution_count": null,
   "id": "f0974ac5",
   "metadata": {},
   "outputs": [],
   "source": []
  }
 ],
 "metadata": {
  "kernelspec": {
   "display_name": "Python 3 (ipykernel)",
   "language": "python",
   "name": "python3"
  },
  "language_info": {
   "codemirror_mode": {
    "name": "ipython",
    "version": 3
   },
   "file_extension": ".py",
   "mimetype": "text/x-python",
   "name": "python",
   "nbconvert_exporter": "python",
   "pygments_lexer": "ipython3",
   "version": "3.9.7"
  }
 },
 "nbformat": 4,
 "nbformat_minor": 5
}
