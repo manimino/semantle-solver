{
 "cells": [
  {
   "cell_type": "markdown",
   "id": "d75589a4",
   "metadata": {},
   "source": [
    "\n",
    "Two points, along with each point's distant to a third point, makes a triangle.\n",
    "Compute an angle and use it to project the third point onto the vector. \n"
   ]
  },
  {
   "cell_type": "code",
   "execution_count": 105,
   "id": "d75d8b14",
   "metadata": {},
   "outputs": [],
   "source": [
    "import dataclasses\n",
    "import pickle\n",
    "import random\n",
    "import numpy as np\n",
    "import os\n",
    "import re\n",
    "import time\n",
    "import math\n",
    "from annoy import AnnoyIndex\n",
    "from tqdm.notebook import tqdm\n",
    "from scipy.spatial.distance import cdist, pdist, squareform, euclidean\n",
    "import scipy\n",
    "import scipy.stats as stats\n",
    "from sklearn.decomposition import PCA\n",
    "from scipy.spatial.distance import cosine as cos_dist\n",
    "from sklearn.preprocessing import normalize\n",
    "from gensim import models\n",
    "from math import acos, cos, pi\n",
    "from matplotlib import pyplot as plt\n",
    "from typing import *"
   ]
  },
  {
   "cell_type": "code",
   "execution_count": null,
   "id": "7c7aa9ef",
   "metadata": {},
   "outputs": [],
   "source": []
  },
  {
   "cell_type": "code",
   "execution_count": 33,
   "id": "f5c0f9dd",
   "metadata": {},
   "outputs": [
    {
     "data": {
      "text/plain": [
       "60.00000000000001"
      ]
     },
     "execution_count": 33,
     "metadata": {},
     "output_type": "execute_result"
    }
   ],
   "source": [
    "# sanity check - equilateral triangle projection\n",
    "\n",
    "p1p2_mag = 1\n",
    "d1 = 1\n",
    "d2 = 1\n",
    "\n",
    "angle = acos((p1p2_mag**2+d1**2-d2**2)/(2*p1p2_mag*d1))\n",
    "angle * 180 / pi"
   ]
  },
  {
   "cell_type": "code",
   "execution_count": 34,
   "id": "ff11091e",
   "metadata": {},
   "outputs": [
    {
     "data": {
      "text/plain": [
       "0.4999999999999999"
      ]
     },
     "execution_count": 34,
     "metadata": {},
     "output_type": "execute_result"
    }
   ],
   "source": [
    "1 * cos(angle)"
   ]
  },
  {
   "cell_type": "code",
   "execution_count": 35,
   "id": "313aa242",
   "metadata": {},
   "outputs": [
    {
     "data": {
      "text/plain": [
       "1.5"
      ]
     },
     "execution_count": 35,
     "metadata": {},
     "output_type": "execute_result"
    }
   ],
   "source": [
    "# sanity check 2 - isosceles triangle projection\n",
    "\n",
    "p1p2_mag = 3\n",
    "d1 = 2\n",
    "d2 = 2\n",
    "\n",
    "angle = acos((p1p2_mag**2+d1**2-d2**2)/(2*p1p2_mag*d1))\n",
    "cos(angle) * d1"
   ]
  },
  {
   "cell_type": "code",
   "execution_count": 38,
   "id": "3442d355",
   "metadata": {},
   "outputs": [
    {
     "name": "stdout",
     "output_type": "stream",
     "text": [
      "angle 22.331645009221504\n",
      "mag 4.625\n"
     ]
    }
   ],
   "source": [
    "# sanity check 3 - result should be longer than p1p2_mag. Adj angle is about 22 deg.\n",
    "\n",
    "p1p2_mag = 3\n",
    "d1 = 5\n",
    "d2 = 2.5\n",
    "\n",
    "angle = acos((p1p2_mag**2+d1**2-d2**2)/(2*p1p2_mag*d1))\n",
    "mag = cos(angle) * d1\n",
    "\n",
    "print('angle', angle * 180/pi)\n",
    "print('mag', mag)"
   ]
  },
  {
   "cell_type": "code",
   "execution_count": 39,
   "id": "35e40ca6",
   "metadata": {},
   "outputs": [
    {
     "name": "stdout",
     "output_type": "stream",
     "text": [
      "angle 130.54160187350453\n",
      "mag -1.625\n"
     ]
    }
   ],
   "source": [
    "# sanity check 4 - mag can be negative, right?\n",
    "\n",
    "p1p2_mag = 3\n",
    "d1 = 2.5\n",
    "d2 = 5\n",
    "\n",
    "angle = acos((p1p2_mag**2+d1**2-d2**2)/(2*p1p2_mag*d1))\n",
    "mag = cos(angle) * d1\n",
    "\n",
    "print('angle', angle * 180/pi)\n",
    "print('mag', mag)"
   ]
  },
  {
   "cell_type": "code",
   "execution_count": 124,
   "id": "77ec0a74",
   "metadata": {},
   "outputs": [],
   "source": []
  },
  {
   "cell_type": "code",
   "execution_count": 125,
   "id": "adef196e",
   "metadata": {},
   "outputs": [],
   "source": []
  },
  {
   "cell_type": "code",
   "execution_count": 158,
   "id": "ad67d49c",
   "metadata": {},
   "outputs": [
    {
     "name": "stdout",
     "output_type": "stream",
     "text": [
      "[0.31, 0.58, 0.57]\n",
      "angle 71.64 mag 0.1831577314371391 d1 0.5813682673546794 d2 0.5667000226179614\n"
     ]
    }
   ],
   "source": [
    "# make 3 points in [0,1][0,1]\n",
    "\n",
    "vecs = np.random.rand(3, 2)\n",
    "\n",
    "#vecs = np.array([[0.2, 0.2], [0.6, 0.3], [0.5, 0.8]])\n",
    "p1p2 = vecs[1, :] - vecs[0, :]\n",
    "p1p2_mag = scipy.linalg.norm(p1p2)\n",
    "\n",
    "d1 = euclidean(vecs[0, :], vecs[2, :])\n",
    "d2 = euclidean(vecs[1, :], vecs[2, :])\n",
    "\n",
    "angle = acos((p1p2_mag**2+d1**2-d2**2)/(2*p1p2_mag*d1))\n",
    "mag = cos(angle) * d1\n",
    "\n",
    "print(list(round(x, 2) for x in [p1p2_mag, d1, d2]))\n",
    "print('angle', round(angle*180/pi,2), 'mag', mag, 'd1', d1, 'd2', d2)\n",
    "\n",
    "proj_point = vecs[0] + p1p2 / p1p2_mag * mag\n"
   ]
  },
  {
   "cell_type": "code",
   "execution_count": 188,
   "id": "6940d169",
   "metadata": {},
   "outputs": [
    {
     "name": "stdout",
     "output_type": "stream",
     "text": [
      "1\n"
     ]
    },
    {
     "data": {
      "image/png": "[encoded data removed]",
      "text/plain": [
       "<Figure size 432x288 with 1 Axes>"
      ]
     },
     "metadata": {
      "needs_background": "light"
     },
     "output_type": "display_data"
    }
   ],
   "source": [
    "\n",
    "\n",
    "min_dim = np.argmin(abs(p1p2))\n",
    "print(min_dim)\n",
    "orth_vec = np.zeros(p1p2.shape)\n",
    "\n",
    "sign = np.array([random.choice([-1,1]) for _ in p1p2])\n",
    "p1p2_u = 1 - abs(p1p2 / scipy.linalg.norm(p1p2))\n",
    "p1p2_u = p1p2_u / scipy.linalg.norm(p1p2)\n",
    "orth_vec = np.multiply(p1p2_u, sign)\n",
    "\n",
    "target_dist_from_proj = math.sqrt(d1**2-mag**2)\n",
    "target_point = orth_vec*target_dist_from_proj + proj_point\n",
    "\n",
    "\n",
    "plt.plot(vecs[0,0], vecs[0, 1], 'r.')\n",
    "plt.plot(vecs[1, 0], vecs[1, 1], 'rx')\n",
    "plt.plot(vecs[2,0], vecs[2,1], 'g+')\n",
    "plt.plot(proj_point[0], proj_point[1], 'b.')\n",
    "plt.plot(target_point[0], target_point[1], 'bx')\n",
    "plt.xlim(-1, 2)\n",
    "plt.ylim(-1, 2)\n",
    "\n",
    "\n",
    "\n",
    "plt.show()"
   ]
  },
  {
   "cell_type": "code",
   "execution_count": null,
   "id": "bcacba71",
   "metadata": {},
   "outputs": [],
   "source": []
  },
  {
   "cell_type": "code",
   "execution_count": null,
   "id": "636e7db4",
   "metadata": {},
   "outputs": [],
   "source": []
  }
 ],
 "metadata": {
  "kernelspec": {
   "display_name": "Python 3 (ipykernel)",
   "language": "python",
   "name": "python3"
  },
  "language_info": {
   "codemirror_mode": {
    "name": "ipython",
    "version": 3
   },
   "file_extension": ".py",
   "mimetype": "text/x-python",
   "name": "python",
   "nbconvert_exporter": "python",
   "pygments_lexer": "ipython3",
   "version": "3.9.7"
  }
 },
 "nbformat": 4,
 "nbformat_minor": 5
}
