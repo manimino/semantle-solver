{
 "cells": [
  {
   "cell_type": "markdown",
   "id": "b4641dfd",
   "metadata": {},
   "source": [
    "OK, so we can solve Semantle in a Euclidean space after doing PCA to it.\n",
    "But our signal is actually cosine distance in a word-vector space. \n",
    "\n",
    "How well does that translate exactly? Bigger cos dist = bigger euclidean distance probably.\n",
    "But how noisy will it be? Does using more PCA components denoise this sufficiently? Let's hope so!"
   ]
  },
  {
   "cell_type": "code",
   "execution_count": 1,
   "id": "3ec57e28",
   "metadata": {},
   "outputs": [],
   "source": [
    "import dataclasses\n",
    "import pickle\n",
    "import random\n",
    "import numpy as np\n",
    "\n",
    "from annoy import AnnoyIndex\n",
    "from tqdm.notebook import tqdm\n",
    "from scipy.spatial.distance import euclidean, pdist, squareform\n",
    "import scipy\n",
    "import scipy.stats as stats\n",
    "from sklearn.decomposition import PCA, TruncatedSVD\n",
    "from scipy.spatial.distance import cosine as cos_dist\n",
    "from sklearn.preprocessing import normalize\n",
    "from gensim import models\n",
    "\n",
    "from matplotlib import pyplot as plt\n",
    "from typing import *"
   ]
  },
  {
   "cell_type": "code",
   "execution_count": 3,
   "id": "2a6296d0",
   "metadata": {},
   "outputs": [],
   "source": [
    "def read_goog_file(size=None):\n",
    "    vec_file = '/mnt/Spookley/datasets/semantle/GoogleNews-vectors-negative300.bin'\n",
    "    kv = models.KeyedVectors.load_word2vec_format(vec_file, binary=True, limit=size)\n",
    "    words = kv.index_to_key\n",
    "    w_vecs = {}\n",
    "    for w in words:\n",
    "        w_vecs[w] = kv[w] / np.linalg.norm(kv[w])\n",
    "    return w_vecs"
   ]
  },
  {
   "cell_type": "code",
   "execution_count": 4,
   "id": "f6fb97de",
   "metadata": {},
   "outputs": [],
   "source": [
    "w_vecs = read_goog_file()\n",
    "w_list = list(w_vecs.keys())"
   ]
  },
  {
   "cell_type": "code",
   "execution_count": 9,
   "id": "331c832f",
   "metadata": {},
   "outputs": [],
   "source": [
    "def do_pca(w_vecs, n_dims=100):\n",
    "    pca = PCA(n_components=n_dims)\n",
    "    mat_full = np.array([w_vecs[w] for w in w_vecs])\n",
    "    mat_full = normalize(mat_full, axis=1)\n",
    "    mat = pca.fit_transform(mat_full)\n",
    "    return mat"
   ]
  },
  {
   "cell_type": "code",
   "execution_count": null,
   "id": "497218a7",
   "metadata": {},
   "outputs": [],
   "source": []
  },
  {
   "cell_type": "code",
   "execution_count": null,
   "id": "be2a2cb4",
   "metadata": {},
   "outputs": [],
   "source": []
  },
  {
   "cell_type": "markdown",
   "id": "f9394400",
   "metadata": {},
   "source": [
    "We'll try two scenarios:\n",
    " - Many random pairs of vectors\n",
    " - Single vector vs. many random other vectors\n",
    " \n",
    "And plot (cos dist in original space) vs (euclidean dist in transformed space)."
   ]
  },
  {
   "cell_type": "code",
   "execution_count": 16,
   "id": "41bf1700",
   "metadata": {},
   "outputs": [],
   "source": [
    "def cos_dist_in_original(w1: str, w2: str, w_vecs):\n",
    "    v1 = w_vecs[w1]\n",
    "    v2 = w_vecs[w2]\n",
    "    return cos_dist(v1, v2)\n",
    "\n",
    "def eu_dist_in_pca(w1: str, w2: str, w_list, mat):\n",
    "    w1_idx = w_list.index(w1)\n",
    "    w2_idx = w_list.index(w2)\n",
    "    return euclidean(mat[w1_idx, :], mat[w2_idx, :])\n"
   ]
  },
  {
   "cell_type": "code",
   "execution_count": 11,
   "id": "bdd097ce",
   "metadata": {},
   "outputs": [
    {
     "data": {
      "text/plain": [
       "3000000"
      ]
     },
     "execution_count": 11,
     "metadata": {},
     "output_type": "execute_result"
    }
   ],
   "source": [
    "len(w_vecs)"
   ]
  },
  {
   "cell_type": "code",
   "execution_count": 17,
   "id": "3432c17d",
   "metadata": {},
   "outputs": [],
   "source": [
    "# First scenario - random vs random\n",
    "def rand_vs_rand(w_list, w_vecs, mat):\n",
    "    words_1 = random.sample(w_list, 100)\n",
    "    words_2 = random.sample(w_list, 10)\n",
    "\n",
    "    cos_dists = []\n",
    "    eu_dists = []\n",
    "    print('this takes a damn long time because the cos dists are on big vectors, consider GPU')\n",
    "    with tqdm(total=len(words_1)) as pbar:\n",
    "        for w1 in words_1:\n",
    "            pbar.update(1)\n",
    "            for w2 in words_2:\n",
    "                cos_dists.append(cos_dist_in_original(w1, w2, w_vecs))\n",
    "                eu_dists.append(eu_dist_in_pca(w1, w2, w_list, mat))\n",
    "\n",
    "    return cos_dists, eu_dists"
   ]
  },
  {
   "cell_type": "code",
   "execution_count": 18,
   "id": "fed6aa3f",
   "metadata": {},
   "outputs": [],
   "source": [
    "def plot_dist_relationship(cos_dists, eu_dists, n_dims):\n",
    "    plt.plot(cos_dists, eu_dists, ',')\n",
    "    corr = np.corrcoef(cos_dists, eu_dists)[0,1]\n",
    "    plt.title('{}-component PCA, corr={}'.format(n_dims, round(corr, 3)))\n",
    "    plt.xlabel('cos dist in original space')\n",
    "    plt.ylabel('euclidean dist in transformed space')\n",
    "    plt.show()"
   ]
  },
  {
   "cell_type": "code",
   "execution_count": null,
   "id": "af412081",
   "metadata": {},
   "outputs": [],
   "source": []
  },
  {
   "cell_type": "code",
   "execution_count": 19,
   "id": "7dcc7419",
   "metadata": {},
   "outputs": [],
   "source": [
    "w_list = list(w_vecs.keys())\n",
    "mat = do_pca(w_vecs, 100)\n"
   ]
  },
  {
   "cell_type": "code",
   "execution_count": 20,
   "id": "ca147dee",
   "metadata": {},
   "outputs": [
    {
     "name": "stdout",
     "output_type": "stream",
     "text": [
      "this takes a damn long time because the cos dists are on big vectors, consider GPU\n"
     ]
    },
    {
     "data": {
      "application/vnd.jupyter.widget-view+json": {
       "model_id": "d8bd8d769bac4792af4588ed0db5d394",
       "version_major": 2,
       "version_minor": 0
      },
      "text/plain": [
       "  0%|          | 0/100 [00:00<?, ?it/s]"
      ]
     },
     "metadata": {},
     "output_type": "display_data"
    }
   ],
   "source": [
    "cos_dists, eu_dists = rand_vs_rand(w_list, w_vecs, mat)"
   ]
  },
  {
   "cell_type": "code",
   "execution_count": 21,
   "id": "6ecc4f9f",
   "metadata": {},
   "outputs": [
    {
     "data": {
      "text/plain": [
       "array([-1.0357972 ,  0.60367754, -0.73071757,  1.14227681])"
      ]
     },
     "execution_count": 21,
     "metadata": {},
     "output_type": "execute_result"
    }
   ],
   "source": [
    "cos_sims = 1-np.array(cos_dists)\n",
    "pf = np.polyfit(cos_sims, np.array(eu_dists), 3)\n",
    "pf"
   ]
  },
  {
   "cell_type": "code",
   "execution_count": 15,
   "id": "1f98c4af",
   "metadata": {},
   "outputs": [
    {
     "ename": "NameError",
     "evalue": "name 'cos_dists' is not defined",
     "output_type": "error",
     "traceback": [
      "\u001b[0;31m---------------------------------------------------------------------------\u001b[0m",
      "\u001b[0;31mNameError\u001b[0m                                 Traceback (most recent call last)",
      "\u001b[0;32m/tmp/ipykernel_24749/2234800490.py\u001b[0m in \u001b[0;36m<module>\u001b[0;34m\u001b[0m\n\u001b[0;32m----> 1\u001b[0;31m \u001b[0mcos_sims\u001b[0m \u001b[0;34m=\u001b[0m \u001b[0;36m1\u001b[0m\u001b[0;34m-\u001b[0m\u001b[0mnp\u001b[0m\u001b[0;34m.\u001b[0m\u001b[0marray\u001b[0m\u001b[0;34m(\u001b[0m\u001b[0mcos_dists\u001b[0m\u001b[0;34m)\u001b[0m\u001b[0;34m\u001b[0m\u001b[0;34m\u001b[0m\u001b[0m\n\u001b[0m\u001b[1;32m      2\u001b[0m \u001b[0mpf\u001b[0m \u001b[0;34m=\u001b[0m \u001b[0mnp\u001b[0m\u001b[0;34m.\u001b[0m\u001b[0mpolyfit\u001b[0m\u001b[0;34m(\u001b[0m\u001b[0mcos_sims\u001b[0m\u001b[0;34m,\u001b[0m \u001b[0mnp\u001b[0m\u001b[0;34m.\u001b[0m\u001b[0marray\u001b[0m\u001b[0;34m(\u001b[0m\u001b[0meu_dists\u001b[0m\u001b[0;34m)\u001b[0m\u001b[0;34m,\u001b[0m \u001b[0;36m3\u001b[0m\u001b[0;34m)\u001b[0m\u001b[0;34m\u001b[0m\u001b[0;34m\u001b[0m\u001b[0m\n\u001b[1;32m      3\u001b[0m \u001b[0mpf\u001b[0m\u001b[0;34m\u001b[0m\u001b[0;34m\u001b[0m\u001b[0m\n",
      "\u001b[0;31mNameError\u001b[0m: name 'cos_dists' is not defined"
     ]
    }
   ],
   "source": [
    "cos_sims = 1-np.array(cos_dists)\n",
    "pf = np.polyfit(cos_sims, np.array(eu_dists), 3)\n",
    "pf"
   ]
  },
  {
   "cell_type": "code",
   "execution_count": 23,
   "id": "24f7c465",
   "metadata": {},
   "outputs": [
    {
     "data": {
      "text/plain": [
       "[<matplotlib.lines.Line2D at 0x7f955a5291f0>]"
      ]
     },
     "execution_count": 23,
     "metadata": {},
     "output_type": "execute_result"
    },
    {
     "data": {
      "image/png": "[encoded data removed]",
      "text/plain": [
       "<Figure size 432x288 with 1 Axes>"
      ]
     },
     "metadata": {
      "needs_background": "light"
     },
     "output_type": "display_data"
    }
   ],
   "source": [
    "polyfunc = np.poly1d(pf)\n",
    "plt.plot(cos_sims, eu_dists, ',')\n",
    "plt.plot(cos_sims, polyfunc(cos_sims), '.')"
   ]
  },
  {
   "cell_type": "code",
   "execution_count": null,
   "id": "11877fe2",
   "metadata": {
    "scrolled": true
   },
   "outputs": [],
   "source": []
  },
  {
   "cell_type": "code",
   "execution_count": 14,
   "id": "960df4f9",
   "metadata": {},
   "outputs": [],
   "source": [
    "# eu_dists_fit = (0.04471114)*cos_sims**3 + (0.0740919)*cos_sims**2 + (-0.74640201)*cos_sims + (0.95066707)\n",
    "# plt.plot(eu_dists, eu_dists_fit, '.')"
   ]
  },
  {
   "cell_type": "markdown",
   "id": "5b8f1637",
   "metadata": {},
   "source": [
    "Ouch. Just using PCA at all messes with the distance relationship substantially.\n",
    "And it gets much worse down at the 10-component level where we want to operate. \n",
    "\n",
    "At least the correlation kinda works at low distances. If we are able to get close, we could probably find the target still. But the early moves will not give good information at all. Unacceptable.\n",
    "\n",
    "Got significantly improvement by normalizing all vectors prior to applying PCA. Now the full PCA correlates perfectly, and the lower-rank approximations work well enough on GLoVe.\n",
    "\n",
    "Not as much luck on this Google dataset though. Ugh, 300 vectors? And what is with these garbage words? Man... quality really went out the window with this big data stuff."
   ]
  },
  {
   "cell_type": "code",
   "execution_count": null,
   "id": "0bdf46d0",
   "metadata": {},
   "outputs": [],
   "source": []
  },
  {
   "cell_type": "code",
   "execution_count": null,
   "id": "ce9bffd0",
   "metadata": {
    "scrolled": true
   },
   "outputs": [
    {
     "name": "stdout",
     "output_type": "stream",
     "text": [
      "this takes a damn long time because the cos dists are on big vectors, consider GPU\n"
     ]
    },
    {
     "data": {
      "application/vnd.jupyter.widget-view+json": {
       "model_id": "a8667864d31f434e9e6d758363d4d5ae",
       "version_major": 2,
       "version_minor": 0
      },
      "text/plain": [
       "  0%|          | 0/100 [00:00<?, ?it/s]"
      ]
     },
     "metadata": {},
     "output_type": "display_data"
    },
    {
     "data": {
      "image/png": "[encoded data removed]",
      "text/plain": [
       "<Figure size 432x288 with 1 Axes>"
      ]
     },
     "metadata": {
      "needs_background": "light"
     },
     "output_type": "display_data"
    },
    {
     "name": "stdout",
     "output_type": "stream",
     "text": [
      "this takes a damn long time because the cos dists are on big vectors, consider GPU\n"
     ]
    },
    {
     "data": {
      "application/vnd.jupyter.widget-view+json": {
       "model_id": "12d3b567421d4b2ca2cf7193eae6cbb3",
       "version_major": 2,
       "version_minor": 0
      },
      "text/plain": [
       "  0%|          | 0/100 [00:00<?, ?it/s]"
      ]
     },
     "metadata": {},
     "output_type": "display_data"
    },
    {
     "data": {
      "image/png": "[encoded data removed]",
      "text/plain": [
       "<Figure size 432x288 with 1 Axes>"
      ]
     },
     "metadata": {
      "needs_background": "light"
     },
     "output_type": "display_data"
    },
    {
     "name": "stdout",
     "output_type": "stream",
     "text": [
      "this takes a damn long time because the cos dists are on big vectors, consider GPU\n"
     ]
    },
    {
     "data": {
      "application/vnd.jupyter.widget-view+json": {
       "model_id": "5030741780c547fc869e7aa720569798",
       "version_major": 2,
       "version_minor": 0
      },
      "text/plain": [
       "  0%|          | 0/100 [00:00<?, ?it/s]"
      ]
     },
     "metadata": {},
     "output_type": "display_data"
    },
    {
     "data": {
      "image/png": "[encoded data removed]",
      "text/plain": [
       "<Figure size 432x288 with 1 Axes>"
      ]
     },
     "metadata": {
      "needs_background": "light"
     },
     "output_type": "display_data"
    },
    {
     "name": "stdout",
     "output_type": "stream",
     "text": [
      "this takes a damn long time because the cos dists are on big vectors, consider GPU\n"
     ]
    },
    {
     "data": {
      "application/vnd.jupyter.widget-view+json": {
       "model_id": "46024a23bd7242b8b77826d442207e88",
       "version_major": 2,
       "version_minor": 0
      },
      "text/plain": [
       "  0%|          | 0/100 [00:00<?, ?it/s]"
      ]
     },
     "metadata": {},
     "output_type": "display_data"
    },
    {
     "data": {
      "image/png": "[encoded data removed]",
      "text/plain": [
       "<Figure size 432x288 with 1 Axes>"
      ]
     },
     "metadata": {
      "needs_background": "light"
     },
     "output_type": "display_data"
    }
   ],
   "source": [
    "for n_dims in [20, 40, 60, 100, 200, 300]:\n",
    "    w_list = list(w_vecs.keys())\n",
    "    mat = do_pca(w_vecs, n_dims)\n",
    "    cos_dists, eu_dists = rand_vs_rand(w_list, w_vecs, mat)\n",
    "    plot_dist_relationship(cos_dists, eu_dists, n_dims)"
   ]
  },
  {
   "cell_type": "code",
   "execution_count": null,
   "id": "fa569429",
   "metadata": {},
   "outputs": [],
   "source": []
  }
 ],
 "metadata": {
  "kernelspec": {
   "display_name": "Python 3 (ipykernel)",
   "language": "python",
   "name": "python3"
  },
  "language_info": {
   "codemirror_mode": {
    "name": "ipython",
    "version": 3
   },
   "file_extension": ".py",
   "mimetype": "text/x-python",
   "name": "python",
   "nbconvert_exporter": "python",
   "pygments_lexer": "ipython3",
   "version": "3.9.7"
  }
 },
 "nbformat": 4,
 "nbformat_minor": 5
}
