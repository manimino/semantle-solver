{
 "cells": [
  {
   "cell_type": "markdown",
   "id": "d21cf207",
   "metadata": {},
   "source": [
    "OK, so we can solve Semantle in a Euclidean space after doing PCA to it.\n",
    "But our signal is actually cosine distance in a word-vector space. \n",
    "\n",
    "How well does that translate exactly? Bigger cos dist = bigger euclidean distance probably.\n",
    "But how noisy will it be? Does using more PCA components denoise this sufficiently? Let's hope so!"
   ]
  },
  {
   "cell_type": "code",
   "execution_count": 1,
   "id": "af144da1",
   "metadata": {},
   "outputs": [],
   "source": [
    "import dataclasses\n",
    "import pickle\n",
    "import random\n",
    "import numpy as np\n",
    "\n",
    "from annoy import AnnoyIndex\n",
    "from tqdm.notebook import tqdm\n",
    "from scipy.spatial.distance import euclidean, pdist, squareform\n",
    "import scipy\n",
    "import scipy.stats as stats\n",
    "from sklearn.decomposition import PCA, TruncatedSVD\n",
    "from scipy.spatial.distance import cosine as cos_dist\n",
    "from sklearn.preprocessing import normalize\n",
    "from gensim import models\n",
    "\n",
    "from matplotlib import pyplot as plt\n",
    "from typing import *"
   ]
  },
  {
   "cell_type": "code",
   "execution_count": 2,
   "id": "48eeac18",
   "metadata": {},
   "outputs": [
    {
     "data": {
      "text/plain": [
       "\"\\ndef read_glove_file() -> Dict[str, List[float]]:\\n    #Yields the next 'size' vectors in a glove file.\\n    glove_file = '/mnt/Spookley/datasets/glove/glove.6B.50d.txt'\\n    w_vecs = {}\\n    with tqdm(total=400000) as pbar:\\n        with open(glove_file) as fh:\\n            for line in fh.readlines():\\n                pbar.update(1)\\n                toks = line.strip().split()\\n                word = toks[0]\\n                # non-words like punctuation marks have entries, but we don't want those\\n                if not word.isalnum():  \\n                    continue\\n                # Some bigrams and trigrams are in the dataset. Skip those.\\n                try:\\n                    float(toks[1])\\n                except ValueError:\\n                    continue\\n                # No errors, parse the line.\\n                vec = [float(s) for s in toks[1:]]\\n                w_vecs[word] = vec\\n    return w_vecs\\n\""
      ]
     },
     "execution_count": 2,
     "metadata": {},
     "output_type": "execute_result"
    }
   ],
   "source": [
    "\"\"\"\n",
    "def read_glove_file() -> Dict[str, List[float]]:\n",
    "    #Yields the next 'size' vectors in a glove file.\n",
    "    glove_file = '/mnt/Spookley/datasets/glove/glove.6B.50d.txt'\n",
    "    w_vecs = {}\n",
    "    with tqdm(total=400000) as pbar:\n",
    "        with open(glove_file) as fh:\n",
    "            for line in fh.readlines():\n",
    "                pbar.update(1)\n",
    "                toks = line.strip().split()\n",
    "                word = toks[0]\n",
    "                # non-words like punctuation marks have entries, but we don't want those\n",
    "                if not word.isalnum():  \n",
    "                    continue\n",
    "                # Some bigrams and trigrams are in the dataset. Skip those.\n",
    "                try:\n",
    "                    float(toks[1])\n",
    "                except ValueError:\n",
    "                    continue\n",
    "                # No errors, parse the line.\n",
    "                vec = [float(s) for s in toks[1:]]\n",
    "                w_vecs[word] = vec\n",
    "    return w_vecs\n",
    "\"\"\""
   ]
  },
  {
   "cell_type": "code",
   "execution_count": 3,
   "id": "81d2fc39",
   "metadata": {},
   "outputs": [],
   "source": [
    "def read_goog_file(size=10000):\n",
    "    vec_file = '/mnt/Spookley/datasets/semantle/GoogleNews-vectors-negative300.bin'\n",
    "    kv = models.KeyedVectors.load_word2vec_format(vec_file, binary=True, limit=size)\n",
    "    words = kv.index_to_key\n",
    "    w_vecs = {}\n",
    "    for w in words:\n",
    "        w_vecs[w] = kv[w] / np.linalg.norm(kv[w])\n",
    "    return w_vecs"
   ]
  },
  {
   "cell_type": "code",
   "execution_count": 4,
   "id": "4731c825",
   "metadata": {},
   "outputs": [],
   "source": [
    "w_vecs = read_goog_file(500000)\n",
    "w_list = list(w_vecs.keys())"
   ]
  },
  {
   "cell_type": "code",
   "execution_count": 5,
   "id": "35d586c1",
   "metadata": {},
   "outputs": [],
   "source": [
    "def do_pca(w_vecs, n_dims=7):\n",
    "    pca = PCA(n_components=n_dims)\n",
    "    mat_full = np.array([w_vecs[w] for w in w_vecs])\n",
    "    mat_full = normalize(mat_full, axis=1)\n",
    "    mat = pca.fit_transform(mat_full)\n",
    "    return mat"
   ]
  },
  {
   "cell_type": "code",
   "execution_count": null,
   "id": "1d9224c1",
   "metadata": {},
   "outputs": [],
   "source": []
  },
  {
   "cell_type": "code",
   "execution_count": null,
   "id": "48ab182f",
   "metadata": {},
   "outputs": [],
   "source": []
  },
  {
   "cell_type": "markdown",
   "id": "09e65c8c",
   "metadata": {},
   "source": [
    "We'll try two scenarios:\n",
    " - Many random pairs of vectors\n",
    " - Single vector vs. many random other vectors\n",
    " \n",
    "And plot (cos dist in original space) vs (euclidean dist in transformed space)."
   ]
  },
  {
   "cell_type": "code",
   "execution_count": 6,
   "id": "d0243a67",
   "metadata": {},
   "outputs": [],
   "source": [
    "def cos_dist_in_original(w1: str, w2: str, w_vecs):\n",
    "    v1 = w_vecs[w1]\n",
    "    v2 = w_vecs[w2]\n",
    "    return cos_dist(v1, v2)\n",
    "\n",
    "def eu_dist_in_pca(w1: str, w2: str, w_list, mat):\n",
    "    w1_idx = w_list.index(w1)\n",
    "    w2_idx = w_list.index(w2)\n",
    "    return euclidean(mat[w1_idx, :], mat[w2_idx, :])\n"
   ]
  },
  {
   "cell_type": "code",
   "execution_count": null,
   "id": "13840794",
   "metadata": {},
   "outputs": [],
   "source": []
  },
  {
   "cell_type": "code",
   "execution_count": 7,
   "id": "fa3d7506",
   "metadata": {},
   "outputs": [],
   "source": [
    "# First scenario - random vs random\n",
    "def rand_vs_rand(w_list, w_vecs, mat):\n",
    "    n_words = 400\n",
    "    word_bag = random.sample(w_list[1000:10000], n_words)\n",
    "    words_1 = word_bag[:n_words//2]\n",
    "    words_2 = word_bag[n_words//2:]\n",
    "\n",
    "    cos_dists = []\n",
    "    eu_dists = []\n",
    "    for w1 in words_1:\n",
    "        for w2 in words_2:\n",
    "            cos_dists.append(cos_dist_in_original(w1, w2, w_vecs))\n",
    "            eu_dists.append(eu_dist_in_pca(w1, w2, w_list, mat))\n",
    "    \n",
    "    return cos_dists, eu_dists"
   ]
  },
  {
   "cell_type": "code",
   "execution_count": 8,
   "id": "3019f71b",
   "metadata": {},
   "outputs": [],
   "source": [
    "def plot_dist_relationship(cos_dists, eu_dists, n_dims):\n",
    "    plt.plot(cos_dists, eu_dists, ',')\n",
    "    corr = np.corrcoef(cos_dists, eu_dists)[0,1]\n",
    "    plt.title('{}-component PCA, corr={}'.format(n_dims, round(corr, 3)))\n",
    "    plt.xlabel('cos dist in original space')\n",
    "    plt.ylabel('euclidean dist in transformed space')\n",
    "    plt.show()"
   ]
  },
  {
   "cell_type": "code",
   "execution_count": 20,
   "id": "af68007e",
   "metadata": {},
   "outputs": [
    {
     "data": {
      "image/png": "[encoded data removed]",
      "text/plain": [
       "<Figure size 432x288 with 1 Axes>"
      ]
     },
     "metadata": {
      "needs_background": "light"
     },
     "output_type": "display_data"
    },
    {
     "data": {
      "image/png": "[encoded data removed]",
      "text/plain": [
       "<Figure size 432x288 with 1 Axes>"
      ]
     },
     "metadata": {
      "needs_background": "light"
     },
     "output_type": "display_data"
    },
    {
     "ename": "KeyboardInterrupt",
     "evalue": "",
     "output_type": "error",
     "traceback": [
      "\u001b[0;31m---------------------------------------------------------------------------\u001b[0m",
      "\u001b[0;31mKeyboardInterrupt\u001b[0m                         Traceback (most recent call last)",
      "\u001b[0;32m<ipython-input-20-283718911a7e>\u001b[0m in \u001b[0;36m<module>\u001b[0;34m\u001b[0m\n\u001b[1;32m      2\u001b[0m     \u001b[0mw_list\u001b[0m \u001b[0;34m=\u001b[0m \u001b[0mlist\u001b[0m\u001b[0;34m(\u001b[0m\u001b[0mw_vecs\u001b[0m\u001b[0;34m.\u001b[0m\u001b[0mkeys\u001b[0m\u001b[0;34m(\u001b[0m\u001b[0;34m)\u001b[0m\u001b[0;34m)\u001b[0m\u001b[0;34m\u001b[0m\u001b[0;34m\u001b[0m\u001b[0m\n\u001b[1;32m      3\u001b[0m     \u001b[0mmat\u001b[0m \u001b[0;34m=\u001b[0m \u001b[0mdo_pca\u001b[0m\u001b[0;34m(\u001b[0m\u001b[0mw_vecs\u001b[0m\u001b[0;34m,\u001b[0m \u001b[0mn_dims\u001b[0m\u001b[0;34m)\u001b[0m\u001b[0;34m\u001b[0m\u001b[0;34m\u001b[0m\u001b[0m\n\u001b[0;32m----> 4\u001b[0;31m     \u001b[0mcos_dists\u001b[0m\u001b[0;34m,\u001b[0m \u001b[0meu_dists\u001b[0m \u001b[0;34m=\u001b[0m \u001b[0mrand_vs_rand\u001b[0m\u001b[0;34m(\u001b[0m\u001b[0mw_list\u001b[0m\u001b[0;34m,\u001b[0m \u001b[0mw_vecs\u001b[0m\u001b[0;34m,\u001b[0m \u001b[0mmat\u001b[0m\u001b[0;34m)\u001b[0m\u001b[0;34m\u001b[0m\u001b[0;34m\u001b[0m\u001b[0m\n\u001b[0m\u001b[1;32m      5\u001b[0m     \u001b[0mplot_dist_relationship\u001b[0m\u001b[0;34m(\u001b[0m\u001b[0mcos_dists\u001b[0m\u001b[0;34m,\u001b[0m \u001b[0meu_dists\u001b[0m\u001b[0;34m,\u001b[0m \u001b[0mn_dims\u001b[0m\u001b[0;34m)\u001b[0m\u001b[0;34m\u001b[0m\u001b[0;34m\u001b[0m\u001b[0m\n",
      "\u001b[0;32m<ipython-input-7-3a9794c8da29>\u001b[0m in \u001b[0;36mrand_vs_rand\u001b[0;34m(w_list, w_vecs, mat)\u001b[0m\n\u001b[1;32m     10\u001b[0m     \u001b[0;32mfor\u001b[0m \u001b[0mw1\u001b[0m \u001b[0;32min\u001b[0m \u001b[0mwords_1\u001b[0m\u001b[0;34m:\u001b[0m\u001b[0;34m\u001b[0m\u001b[0;34m\u001b[0m\u001b[0m\n\u001b[1;32m     11\u001b[0m         \u001b[0;32mfor\u001b[0m \u001b[0mw2\u001b[0m \u001b[0;32min\u001b[0m \u001b[0mwords_2\u001b[0m\u001b[0;34m:\u001b[0m\u001b[0;34m\u001b[0m\u001b[0;34m\u001b[0m\u001b[0m\n\u001b[0;32m---> 12\u001b[0;31m             \u001b[0mcos_dists\u001b[0m\u001b[0;34m.\u001b[0m\u001b[0mappend\u001b[0m\u001b[0;34m(\u001b[0m\u001b[0mcos_dist_in_original\u001b[0m\u001b[0;34m(\u001b[0m\u001b[0mw1\u001b[0m\u001b[0;34m,\u001b[0m \u001b[0mw2\u001b[0m\u001b[0;34m,\u001b[0m \u001b[0mw_vecs\u001b[0m\u001b[0;34m)\u001b[0m\u001b[0;34m)\u001b[0m\u001b[0;34m\u001b[0m\u001b[0;34m\u001b[0m\u001b[0m\n\u001b[0m\u001b[1;32m     13\u001b[0m             \u001b[0meu_dists\u001b[0m\u001b[0;34m.\u001b[0m\u001b[0mappend\u001b[0m\u001b[0;34m(\u001b[0m\u001b[0meu_dist_in_pca\u001b[0m\u001b[0;34m(\u001b[0m\u001b[0mw1\u001b[0m\u001b[0;34m,\u001b[0m \u001b[0mw2\u001b[0m\u001b[0;34m,\u001b[0m \u001b[0mw_list\u001b[0m\u001b[0;34m,\u001b[0m \u001b[0mmat\u001b[0m\u001b[0;34m)\u001b[0m\u001b[0;34m)\u001b[0m\u001b[0;34m\u001b[0m\u001b[0;34m\u001b[0m\u001b[0m\n\u001b[1;32m     14\u001b[0m \u001b[0;34m\u001b[0m\u001b[0m\n",
      "\u001b[0;32m<ipython-input-6-9ba26e9ab9b5>\u001b[0m in \u001b[0;36mcos_dist_in_original\u001b[0;34m(w1, w2, w_vecs)\u001b[0m\n\u001b[1;32m      2\u001b[0m     \u001b[0mv1\u001b[0m \u001b[0;34m=\u001b[0m \u001b[0mw_vecs\u001b[0m\u001b[0;34m[\u001b[0m\u001b[0mw1\u001b[0m\u001b[0;34m]\u001b[0m\u001b[0;34m\u001b[0m\u001b[0;34m\u001b[0m\u001b[0m\n\u001b[1;32m      3\u001b[0m     \u001b[0mv2\u001b[0m \u001b[0;34m=\u001b[0m \u001b[0mw_vecs\u001b[0m\u001b[0;34m[\u001b[0m\u001b[0mw2\u001b[0m\u001b[0;34m]\u001b[0m\u001b[0;34m\u001b[0m\u001b[0;34m\u001b[0m\u001b[0m\n\u001b[0;32m----> 4\u001b[0;31m     \u001b[0;32mreturn\u001b[0m \u001b[0mcos_dist\u001b[0m\u001b[0;34m(\u001b[0m\u001b[0mv1\u001b[0m\u001b[0;34m,\u001b[0m \u001b[0mv2\u001b[0m\u001b[0;34m)\u001b[0m\u001b[0;34m\u001b[0m\u001b[0;34m\u001b[0m\u001b[0m\n\u001b[0m\u001b[1;32m      5\u001b[0m \u001b[0;34m\u001b[0m\u001b[0m\n\u001b[1;32m      6\u001b[0m \u001b[0;32mdef\u001b[0m \u001b[0meu_dist_in_pca\u001b[0m\u001b[0;34m(\u001b[0m\u001b[0mw1\u001b[0m\u001b[0;34m:\u001b[0m \u001b[0mstr\u001b[0m\u001b[0;34m,\u001b[0m \u001b[0mw2\u001b[0m\u001b[0;34m:\u001b[0m \u001b[0mstr\u001b[0m\u001b[0;34m,\u001b[0m \u001b[0mw_list\u001b[0m\u001b[0;34m,\u001b[0m \u001b[0mmat\u001b[0m\u001b[0;34m)\u001b[0m\u001b[0;34m:\u001b[0m\u001b[0;34m\u001b[0m\u001b[0;34m\u001b[0m\u001b[0m\n",
      "\u001b[0;32m~/anaconda3/lib/python3.8/site-packages/scipy/spatial/distance.py\u001b[0m in \u001b[0;36mcosine\u001b[0;34m(u, v, w)\u001b[0m\n\u001b[1;32m    773\u001b[0m     \u001b[0;31m# cosine distance is also referred to as 'uncentered correlation',\u001b[0m\u001b[0;34m\u001b[0m\u001b[0;34m\u001b[0m\u001b[0;34m\u001b[0m\u001b[0m\n\u001b[1;32m    774\u001b[0m     \u001b[0;31m#   or 'reflective correlation'\u001b[0m\u001b[0;34m\u001b[0m\u001b[0;34m\u001b[0m\u001b[0;34m\u001b[0m\u001b[0m\n\u001b[0;32m--> 775\u001b[0;31m     \u001b[0;32mreturn\u001b[0m \u001b[0mcorrelation\u001b[0m\u001b[0;34m(\u001b[0m\u001b[0mu\u001b[0m\u001b[0;34m,\u001b[0m \u001b[0mv\u001b[0m\u001b[0;34m,\u001b[0m \u001b[0mw\u001b[0m\u001b[0;34m=\u001b[0m\u001b[0mw\u001b[0m\u001b[0;34m,\u001b[0m \u001b[0mcentered\u001b[0m\u001b[0;34m=\u001b[0m\u001b[0;32mFalse\u001b[0m\u001b[0;34m)\u001b[0m\u001b[0;34m\u001b[0m\u001b[0;34m\u001b[0m\u001b[0m\n\u001b[0m\u001b[1;32m    776\u001b[0m \u001b[0;34m\u001b[0m\u001b[0m\n\u001b[1;32m    777\u001b[0m \u001b[0;34m\u001b[0m\u001b[0m\n",
      "\u001b[0;32m~/anaconda3/lib/python3.8/site-packages/scipy/spatial/distance.py\u001b[0m in \u001b[0;36mcorrelation\u001b[0;34m(u, v, w, centered)\u001b[0m\n\u001b[1;32m    723\u001b[0m         \u001b[0mu\u001b[0m \u001b[0;34m=\u001b[0m \u001b[0mu\u001b[0m \u001b[0;34m-\u001b[0m \u001b[0mumu\u001b[0m\u001b[0;34m\u001b[0m\u001b[0;34m\u001b[0m\u001b[0m\n\u001b[1;32m    724\u001b[0m         \u001b[0mv\u001b[0m \u001b[0;34m=\u001b[0m \u001b[0mv\u001b[0m \u001b[0;34m-\u001b[0m \u001b[0mvmu\u001b[0m\u001b[0;34m\u001b[0m\u001b[0;34m\u001b[0m\u001b[0m\n\u001b[0;32m--> 725\u001b[0;31m     \u001b[0muv\u001b[0m \u001b[0;34m=\u001b[0m \u001b[0mnp\u001b[0m\u001b[0;34m.\u001b[0m\u001b[0maverage\u001b[0m\u001b[0;34m(\u001b[0m\u001b[0mu\u001b[0m \u001b[0;34m*\u001b[0m \u001b[0mv\u001b[0m\u001b[0;34m,\u001b[0m \u001b[0mweights\u001b[0m\u001b[0;34m=\u001b[0m\u001b[0mw\u001b[0m\u001b[0;34m)\u001b[0m\u001b[0;34m\u001b[0m\u001b[0;34m\u001b[0m\u001b[0m\n\u001b[0m\u001b[1;32m    726\u001b[0m     \u001b[0muu\u001b[0m \u001b[0;34m=\u001b[0m \u001b[0mnp\u001b[0m\u001b[0;34m.\u001b[0m\u001b[0maverage\u001b[0m\u001b[0;34m(\u001b[0m\u001b[0mnp\u001b[0m\u001b[0;34m.\u001b[0m\u001b[0msquare\u001b[0m\u001b[0;34m(\u001b[0m\u001b[0mu\u001b[0m\u001b[0;34m)\u001b[0m\u001b[0;34m,\u001b[0m \u001b[0mweights\u001b[0m\u001b[0;34m=\u001b[0m\u001b[0mw\u001b[0m\u001b[0;34m)\u001b[0m\u001b[0;34m\u001b[0m\u001b[0;34m\u001b[0m\u001b[0m\n\u001b[1;32m    727\u001b[0m     \u001b[0mvv\u001b[0m \u001b[0;34m=\u001b[0m \u001b[0mnp\u001b[0m\u001b[0;34m.\u001b[0m\u001b[0maverage\u001b[0m\u001b[0;34m(\u001b[0m\u001b[0mnp\u001b[0m\u001b[0;34m.\u001b[0m\u001b[0msquare\u001b[0m\u001b[0;34m(\u001b[0m\u001b[0mv\u001b[0m\u001b[0;34m)\u001b[0m\u001b[0;34m,\u001b[0m \u001b[0mweights\u001b[0m\u001b[0;34m=\u001b[0m\u001b[0mw\u001b[0m\u001b[0;34m)\u001b[0m\u001b[0;34m\u001b[0m\u001b[0;34m\u001b[0m\u001b[0m\n",
      "\u001b[0;32m<__array_function__ internals>\u001b[0m in \u001b[0;36maverage\u001b[0;34m(*args, **kwargs)\u001b[0m\n",
      "\u001b[0;32m~/anaconda3/lib/python3.8/site-packages/numpy/lib/function_base.py\u001b[0m in \u001b[0;36maverage\u001b[0;34m(a, axis, weights, returned)\u001b[0m\n\u001b[1;32m    378\u001b[0m \u001b[0;34m\u001b[0m\u001b[0m\n\u001b[1;32m    379\u001b[0m     \u001b[0;32mif\u001b[0m \u001b[0mweights\u001b[0m \u001b[0;32mis\u001b[0m \u001b[0;32mNone\u001b[0m\u001b[0;34m:\u001b[0m\u001b[0;34m\u001b[0m\u001b[0;34m\u001b[0m\u001b[0m\n\u001b[0;32m--> 380\u001b[0;31m         \u001b[0mavg\u001b[0m \u001b[0;34m=\u001b[0m \u001b[0ma\u001b[0m\u001b[0;34m.\u001b[0m\u001b[0mmean\u001b[0m\u001b[0;34m(\u001b[0m\u001b[0maxis\u001b[0m\u001b[0;34m)\u001b[0m\u001b[0;34m\u001b[0m\u001b[0;34m\u001b[0m\u001b[0m\n\u001b[0m\u001b[1;32m    381\u001b[0m         \u001b[0mscl\u001b[0m \u001b[0;34m=\u001b[0m \u001b[0mavg\u001b[0m\u001b[0;34m.\u001b[0m\u001b[0mdtype\u001b[0m\u001b[0;34m.\u001b[0m\u001b[0mtype\u001b[0m\u001b[0;34m(\u001b[0m\u001b[0ma\u001b[0m\u001b[0;34m.\u001b[0m\u001b[0msize\u001b[0m\u001b[0;34m/\u001b[0m\u001b[0mavg\u001b[0m\u001b[0;34m.\u001b[0m\u001b[0msize\u001b[0m\u001b[0;34m)\u001b[0m\u001b[0;34m\u001b[0m\u001b[0;34m\u001b[0m\u001b[0m\n\u001b[1;32m    382\u001b[0m     \u001b[0;32melse\u001b[0m\u001b[0;34m:\u001b[0m\u001b[0;34m\u001b[0m\u001b[0;34m\u001b[0m\u001b[0m\n",
      "\u001b[0;32m~/anaconda3/lib/python3.8/site-packages/numpy/core/_methods.py\u001b[0m in \u001b[0;36m_mean\u001b[0;34m(a, axis, dtype, out, keepdims, where)\u001b[0m\n\u001b[1;32m    176\u001b[0m             \u001b[0mis_float16_result\u001b[0m \u001b[0;34m=\u001b[0m \u001b[0;32mTrue\u001b[0m\u001b[0;34m\u001b[0m\u001b[0;34m\u001b[0m\u001b[0m\n\u001b[1;32m    177\u001b[0m \u001b[0;34m\u001b[0m\u001b[0m\n\u001b[0;32m--> 178\u001b[0;31m     \u001b[0mret\u001b[0m \u001b[0;34m=\u001b[0m \u001b[0mumr_sum\u001b[0m\u001b[0;34m(\u001b[0m\u001b[0marr\u001b[0m\u001b[0;34m,\u001b[0m \u001b[0maxis\u001b[0m\u001b[0;34m,\u001b[0m \u001b[0mdtype\u001b[0m\u001b[0;34m,\u001b[0m \u001b[0mout\u001b[0m\u001b[0;34m,\u001b[0m \u001b[0mkeepdims\u001b[0m\u001b[0;34m,\u001b[0m \u001b[0mwhere\u001b[0m\u001b[0;34m=\u001b[0m\u001b[0mwhere\u001b[0m\u001b[0;34m)\u001b[0m\u001b[0;34m\u001b[0m\u001b[0;34m\u001b[0m\u001b[0m\n\u001b[0m\u001b[1;32m    179\u001b[0m     \u001b[0;32mif\u001b[0m \u001b[0misinstance\u001b[0m\u001b[0;34m(\u001b[0m\u001b[0mret\u001b[0m\u001b[0;34m,\u001b[0m \u001b[0mmu\u001b[0m\u001b[0;34m.\u001b[0m\u001b[0mndarray\u001b[0m\u001b[0;34m)\u001b[0m\u001b[0;34m:\u001b[0m\u001b[0;34m\u001b[0m\u001b[0;34m\u001b[0m\u001b[0m\n\u001b[1;32m    180\u001b[0m         ret = um.true_divide(\n",
      "\u001b[0;31mKeyboardInterrupt\u001b[0m: "
     ]
    }
   ],
   "source": [
    "for n_dims in [10, 20, 30, 50, 100, 200]:\n",
    "    w_list = list(w_vecs.keys())\n",
    "    mat = do_pca(w_vecs, n_dims)\n",
    "    cos_dists, eu_dists = rand_vs_rand(w_list, w_vecs, mat)\n",
    "    plot_dist_relationship(cos_dists, eu_dists, n_dims)"
   ]
  },
  {
   "cell_type": "code",
   "execution_count": 14,
   "id": "ffbf9f60",
   "metadata": {},
   "outputs": [],
   "source": [
    "w_list = list(w_vecs.keys())\n",
    "mat = do_pca(w_vecs, 20)\n",
    "cos_dists, eu_dists = rand_vs_rand(w_list, w_vecs, mat)\n"
   ]
  },
  {
   "cell_type": "code",
   "execution_count": 15,
   "id": "86f0f84a",
   "metadata": {},
   "outputs": [
    {
     "data": {
      "text/plain": [
       "array([ 1.38240515, -0.68422672, -0.72342736,  0.63986339])"
      ]
     },
     "execution_count": 15,
     "metadata": {},
     "output_type": "execute_result"
    }
   ],
   "source": [
    "cos_sims = 1-np.array(cos_dists)\n",
    "pf = np.polyfit(cos_sims, np.array(eu_dists), 3)\n",
    "pf"
   ]
  },
  {
   "cell_type": "code",
   "execution_count": 16,
   "id": "9b023ea4",
   "metadata": {},
   "outputs": [
    {
     "data": {
      "text/plain": [
       "array([0.10152563, 0.13951766, 0.07718996, 0.05566464, 0.08730809,\n",
       "       0.01766302, 0.12813365, 0.18093403, 0.07689418, 0.07596479])"
      ]
     },
     "execution_count": 16,
     "metadata": {},
     "output_type": "execute_result"
    }
   ],
   "source": [
    "cos_sims[:10]"
   ]
  },
  {
   "cell_type": "code",
   "execution_count": null,
   "id": "9686132a",
   "metadata": {},
   "outputs": [],
   "source": []
  },
  {
   "cell_type": "code",
   "execution_count": 18,
   "id": "97add97e",
   "metadata": {},
   "outputs": [
    {
     "data": {
      "text/plain": [
       "[0.46249663829803467,\n",
       " 0.4750825762748718,\n",
       " 0.6295151114463806,\n",
       " 0.5454354286193848,\n",
       " 0.4959331452846527,\n",
       " 0.6450604796409607,\n",
       " 0.4744813144207001,\n",
       " 0.5786024332046509,\n",
       " 0.4955977499485016,\n",
       " 0.5438905358314514]"
      ]
     },
     "execution_count": 18,
     "metadata": {},
     "output_type": "execute_result"
    }
   ],
   "source": [
    "eu_dists[:10]"
   ]
  },
  {
   "cell_type": "code",
   "execution_count": 19,
   "id": "8b748c58",
   "metadata": {},
   "outputs": [
    {
     "data": {
      "text/plain": [
       "[<matplotlib.lines.Line2D at 0x7f0b01c1d2e0>]"
      ]
     },
     "execution_count": 19,
     "metadata": {},
     "output_type": "execute_result"
    },
    {
     "data": {
      "image/png": "[encoded data removed]",
      "text/plain": [
       "<Figure size 432x288 with 1 Axes>"
      ]
     },
     "metadata": {
      "needs_background": "light"
     },
     "output_type": "display_data"
    }
   ],
   "source": [
    "eu_dists_fit = (0.04471114)*cos_sims**3 + (0.0740919)*cos_sims**2 + (-0.74640201)*cos_sims + (0.95066707)\n",
    "plt.plot(eu_dists, eu_dists_fit, '.')"
   ]
  },
  {
   "cell_type": "markdown",
   "id": "07188679",
   "metadata": {},
   "source": [
    "Ouch. Just using PCA at all messes with the distance relationship substantially.\n",
    "And it gets much worse down at the 10-component level where we want to operate. \n",
    "\n",
    "At least the correlation kinda works at low distances. If we are able to get close, we could probably find the target still. But the early moves will not give good information at all. Unacceptable."
   ]
  },
  {
   "cell_type": "code",
   "execution_count": null,
   "id": "c0345512",
   "metadata": {},
   "outputs": [],
   "source": [
    "# Second scenario - known vector vs random\n",
    "def known_vs_rand(w_list, w_vecs, mat):\n",
    "    n_words = 3000\n",
    "    w1 = random.choice(w_list)\n",
    "    words_2 = random.sample(w_list[1000:20000], n_words)\n",
    "    cos_dists = []\n",
    "    eu_dists = []\n",
    "    for w2 in words_2:\n",
    "        cos_dists.append(cos_dist_in_original(w1, w2, w_vecs))\n",
    "        eu_dists.append(eu_dist_in_pca(w1, w2, w_list, mat))\n",
    "    \n",
    "    return cos_dists, eu_dists\n"
   ]
  },
  {
   "cell_type": "code",
   "execution_count": null,
   "id": "56ba9d76",
   "metadata": {},
   "outputs": [],
   "source": [
    "for n_dims in [10, 20, 30, 50]:\n",
    "    w_list = list(w_vecs.keys())\n",
    "    mat = do_pca(w_vecs, n_dims)\n",
    "    cos_dists, eu_dists = known_vs_rand(w_list, w_vecs, mat)\n",
    "    plot_dist_relationship(cos_dists, eu_dists, n_dims)"
   ]
  },
  {
   "cell_type": "code",
   "execution_count": null,
   "id": "b961a4cf",
   "metadata": {},
   "outputs": [],
   "source": []
  }
 ],
 "metadata": {
  "kernelspec": {
   "display_name": "Python 3",
   "language": "python",
   "name": "python3"
  },
  "language_info": {
   "codemirror_mode": {
    "name": "ipython",
    "version": 3
   },
   "file_extension": ".py",
   "mimetype": "text/x-python",
   "name": "python",
   "nbconvert_exporter": "python",
   "pygments_lexer": "ipython3",
   "version": "3.8.8"
  }
 },
 "nbformat": 4,
 "nbformat_minor": 5
}
