{
 "cells": [
  {
   "cell_type": "markdown",
   "id": "9cc4e089",
   "metadata": {},
   "source": [
    "### Glove to Graph\n",
    "\n",
    "This notebook builds a graph by loading a GLoVe embeddings file.\n",
    "\n",
    "The graph is cut down to a manageable number of edges through the use of a length threshold and a spanning tree. It is guaranteed to be connected, so you can find every word via traversal.\n",
    "\n",
    "This notebook does compute the full graph, only the first 3000 words."
   ]
  },
  {
   "cell_type": "code",
   "execution_count": 1,
   "id": "fb17b546",
   "metadata": {},
   "outputs": [],
   "source": [
    "import graphviz\n",
    "import numpy as np\n",
    "\n",
    "from collections import Counter\n",
    "from tqdm.notebook import tqdm\n",
    "\n",
    "from scipy.spatial.distance import euclidean\n",
    "from scipy.sparse import csr_matrix\n",
    "from scipy.sparse.csgraph import minimum_spanning_tree\n",
    "\n",
    "from matplotlib import pyplot as plt"
   ]
  },
  {
   "cell_type": "code",
   "execution_count": 2,
   "id": "583a3c23",
   "metadata": {},
   "outputs": [
    {
     "data": {
      "application/vnd.jupyter.widget-view+json": {
       "model_id": "e844d86a4a004ab7819587cef208c27e",
       "version_major": 2,
       "version_minor": 0
      },
      "text/plain": [
       "  0%|          | 0/2196017 [00:00<?, ?it/s]"
      ]
     },
     "metadata": {},
     "output_type": "display_data"
    }
   ],
   "source": [
    "#glove_file = '/mnt/Spookley/datasets/glove/glove.840B.300d.txt'\n",
    "glove_file = '/home/theo/repos/datasets/glove/glove.6B.50d.txt'\n",
    "\n",
    "w_vecs = {}\n",
    "end_at = 3000\n",
    "cur = 0\n",
    "with tqdm(total=end_at) as pbar:\n",
    "    with open(glove_file) as fh:\n",
    "        for line in fh.readlines():\n",
    "            pbar.update(1)\n",
    "            toks = line.strip().split()\n",
    "            word = toks[0]\n",
    "            # non-words like punctuation marks have entries, but we don't want those\n",
    "            if not word.isalnum():  \n",
    "                continue\n",
    "            try:\n",
    "                vec = [float(s) for s in toks[1:]]\n",
    "                w_vecs[word] = vec\n",
    "                cur += 1\n",
    "                if cur > end_at: \n",
    "                    break\n",
    "            except Exception as e:\n",
    "                # some bigrams and trigrams snuck into this dataset. Skip them, not relevant to Semantle.\n",
    "                pass"
   ]
  },
  {
   "cell_type": "code",
   "execution_count": 3,
   "id": "aac36d4c",
   "metadata": {},
   "outputs": [
    {
     "name": "stdout",
     "output_type": "stream",
     "text": [
      "example words:\n"
     ]
    },
    {
     "data": {
      "text/plain": [
       "'the, of, to, and, in, a, for, that, on, is, was, said, with, he, as, it, by, at, from, his, an, be, has, are, have, but, were, not, this, who, they, had, i, which, will, their, or, its, one, after, new, been, also, we, would, two, more, first, about, up, when, year, there, all, out, she, other, people, her, percent, than, over, into, last, some, government, time, you, years, if, no, world, can, three, do, president, only, state, million, could, us, most, against, so, them, what, him, united, during, before, may, since, many, while, where, states, because, now, city, made, like, between, did, just, national, day, country, under, such, second, then, company, group, any, through, china, four, being, down, war, back, off, south, american, minister, police, well, including, team, international, week, officials, still, both, even, high, part, told, those, end, former, these, make, billion, work, our, home, school, party, house'"
      ]
     },
     "execution_count": 3,
     "metadata": {},
     "output_type": "execute_result"
    }
   ],
   "source": [
    "print('example words:')\n",
    "', '.join(list(w_vecs.keys())[:150])"
   ]
  },
  {
   "cell_type": "code",
   "execution_count": 4,
   "id": "dd3ad457",
   "metadata": {},
   "outputs": [
    {
     "name": "stdout",
     "output_type": "stream",
     "text": [
      "unrelated word dist: 4.965471732053058\n",
      "related word dist: 0.48359979895215266\n"
     ]
    }
   ],
   "source": [
    "print('unrelated word dist:', euclidean(w_vecs['increase'], w_vecs['2006']))\n",
    "print('related word dist:', euclidean(w_vecs['monday'], w_vecs['wednesday']))"
   ]
  },
  {
   "cell_type": "code",
   "execution_count": 5,
   "id": "3737d24b",
   "metadata": {},
   "outputs": [],
   "source": [
    "# make adjacency matrix\n",
    "words_list = list(w_vecs.keys())\n",
    "mat = []\n",
    "for i, wi in enumerate(words_list):\n",
    "    row = []\n",
    "    for j, wj in enumerate(words_list):\n",
    "        row.append(euclidean(w_vecs[wi], w_vecs[wj]))\n",
    "    mat.append(row)\n",
    "adj_mat = csr_matrix(mat)\n",
    "mst = minimum_spanning_tree(adj_mat)"
   ]
  },
  {
   "cell_type": "code",
   "execution_count": null,
   "id": "8abf7144",
   "metadata": {},
   "outputs": [],
   "source": []
  },
  {
   "cell_type": "code",
   "execution_count": 6,
   "id": "bf992beb",
   "metadata": {},
   "outputs": [
    {
     "name": "stdout",
     "output_type": "stream",
     "text": [
      "adj matrix edge length distribution\n"
     ]
    },
    {
     "data": {
      "image/png": "[encoded data removed]",
      "text/plain": [
       "<Figure size 432x288 with 1 Axes>"
      ]
     },
     "metadata": {
      "needs_background": "light"
     },
     "output_type": "display_data"
    }
   ],
   "source": [
    "print('adj matrix edge length distribution')\n",
    "edge_lengths = adj_mat.reshape(np.prod(adj_mat.shape), 1).toarray()\n",
    "h = plt.hist(edge_lengths)"
   ]
  },
  {
   "cell_type": "code",
   "execution_count": null,
   "id": "3c1b4ff2",
   "metadata": {},
   "outputs": [],
   "source": [
    "# discard all long edges if they're not in the MST.\n",
    "dist_thresh = 3\n",
    "for r in range(adj_mat.shape[0]):\n",
    "    for c in range(adj_mat.shape[1]):\n",
    "        if mst[r, c] == 0 and adj_mat[r, c] > dist_thresh:\n",
    "            adj_mat[r, c] = 0\n"
   ]
  },
  {
   "cell_type": "code",
   "execution_count": null,
   "id": "c9aaeeb7",
   "metadata": {},
   "outputs": [],
   "source": [
    "print('adj matrix edge length distribution after pruning')\n",
    "edge_lengths = adj_mat.reshape(np.prod(adj_mat.shape), 1).toarray()\n",
    "nonzero_edge_lengths = edge_lengths[edge_lengths.nonzero()]\n",
    "print('total edges:', len(nonzero_edge_lengths))\n",
    "plt.hist(nonzero_edge_lengths)"
   ]
  },
  {
   "cell_type": "code",
   "execution_count": null,
   "id": "423b92ff",
   "metadata": {},
   "outputs": [],
   "source": [
    "# Visualize the neighbors of some word\n",
    "q_word = 'monday'\n",
    "idx = words_list.index(q_word)\n",
    "\n",
    "g = graphviz.Graph()\n",
    "g.node(q_word)\n",
    "\n",
    "rs, cs = adj_mat.nonzero()\n",
    "for i in range(len(rs)):\n",
    "    if rs[i] == idx:\n",
    "        neighbor = words_list[cs[i]]\n",
    "        print(neighbor)\n",
    "        dist = round(euclidean(w_vecs[q_word], w_vecs[neighbor]), 2)\n",
    "        g.edge(q_word, neighbor, label=str(dist))\n",
    "g"
   ]
  },
  {
   "cell_type": "code",
   "execution_count": null,
   "id": "53f6d306",
   "metadata": {},
   "outputs": [],
   "source": [
    "# a few common words have hundreds of neighbors, other words have way less. \n",
    "n_neighbors = list(sorted(Counter(rs).values(), reverse=True))\n",
    "plt.plot(n_neighbors)\n",
    "plt.ylabel('number of edges') \n",
    "print('max edge count:', np.max(n_neighbors))\n",
    "print('median edge count:', np.median(n_neighbors))\n",
    "print('min edge count:', np.min(n_neighbors))\n",
    "n_one_edge = len([x for x in n_neighbors if x==1])\n",
    "print('There are {} nodes. {} of them have only one edge.'.format(len(n_neighbors), n_one_edge))"
   ]
  },
  {
   "cell_type": "code",
   "execution_count": null,
   "id": "29280485",
   "metadata": {},
   "outputs": [],
   "source": []
  },
  {
   "cell_type": "code",
   "execution_count": null,
   "id": "97612fdc",
   "metadata": {},
   "outputs": [],
   "source": []
  },
  {
   "cell_type": "code",
   "execution_count": null,
   "id": "2411f2ad",
   "metadata": {},
   "outputs": [],
   "source": []
  }
 ],
 "metadata": {
  "kernelspec": {
   "display_name": "Python 3 (ipykernel)",
   "language": "python",
   "name": "python3"
  },
  "language_info": {
   "codemirror_mode": {
    "name": "ipython",
    "version": 3
   },
   "file_extension": ".py",
   "mimetype": "text/x-python",
   "name": "python",
   "nbconvert_exporter": "python",
   "pygments_lexer": "ipython3",
   "version": "3.9.7"
  }
 },
 "nbformat": 4,
 "nbformat_minor": 5
}
