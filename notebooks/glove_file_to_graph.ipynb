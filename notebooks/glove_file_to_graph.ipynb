{
 "cells": [
  {
   "cell_type": "markdown",
   "id": "9cc4e089",
   "metadata": {},
   "source": [
    "### Glove to Graph\n",
    "\n",
    "This notebook builds a graph by loading a GLoVe embeddings file.\n",
    "\n",
    "The graph is cut down to a manageable number of edges through the use of a length threshold and a spanning tree. It is guaranteed to be connected, so you can find every word via traversal.\n",
    "\n",
    "This notebook does compute the full graph, only the first 3000 words."
   ]
  },
  {
   "cell_type": "code",
   "execution_count": 1,
   "id": "fb17b546",
   "metadata": {},
   "outputs": [],
   "source": [
    "import graphviz\n",
    "import torch\n",
    "import numpy as np\n",
    "\n",
    "from collections import Counter\n",
    "from tqdm.notebook import tqdm\n",
    "\n",
    "from scipy.spatial.distance import euclidean\n",
    "from scipy.sparse import csr_matrix\n",
    "from scipy.sparse.csgraph import minimum_spanning_tree\n",
    "\n",
    "from matplotlib import pyplot as plt"
   ]
  },
  {
   "cell_type": "code",
   "execution_count": 2,
   "id": "583a3c23",
   "metadata": {},
   "outputs": [
    {
     "data": {
      "application/vnd.jupyter.widget-view+json": {
       "model_id": "98afe2201783485d8dae3b6b1ef7941c",
       "version_major": 2,
       "version_minor": 0
      },
      "text/plain": [
       "  0%|          | 0/16000 [00:00<?, ?it/s]"
      ]
     },
     "metadata": {},
     "output_type": "display_data"
    }
   ],
   "source": [
    "glove_file = '/mnt/Spookley/datasets/glove/glove.6B.50d.txt'\n",
    "#glove_file = '/home/theo/repos/datasets/glove/glove.6B.50d.txt'\n",
    "\n",
    "w_vecs = {}\n",
    "end_at = 16000\n",
    "cur = 0\n",
    "with tqdm(total=end_at) as pbar:\n",
    "    with open(glove_file) as fh:\n",
    "        for line in fh.readlines():\n",
    "            pbar.update(1)\n",
    "            toks = line.strip().split()\n",
    "            word = toks[0]\n",
    "            # non-words like punctuation marks have entries, but we don't want those\n",
    "            if not word.isalnum():  \n",
    "                continue\n",
    "            try:\n",
    "                vec = [float(s) for s in toks[1:]]\n",
    "                w_vecs[word] = vec\n",
    "                cur += 1\n",
    "                if cur > end_at: \n",
    "                    break\n",
    "            except Exception as e:\n",
    "                # some bigrams and trigrams snuck into this dataset. Skip them, not relevant to Semantle.\n",
    "                pass\n",
    "\n",
    "word_list = list(w_vecs.keys())"
   ]
  },
  {
   "cell_type": "code",
   "execution_count": 3,
   "id": "aac36d4c",
   "metadata": {},
   "outputs": [
    {
     "name": "stdout",
     "output_type": "stream",
     "text": [
      "example words:\n"
     ]
    },
    {
     "data": {
      "text/plain": [
       "'the, of, to, and, in, a, for, that, on, is, was, said, with, he, as, it, by, at, from, his, an, be, has, are, have, but, were, not, this, who, they, had, i, which, will, their, or, its, one, after, new, been, also, we, would, two, more, first, about, up, when, year, there, all, out, she, other, people, her, percent, than, over, into, last, some, government, time, you, years, if, no, world, can, three, do, president, only, state, million, could, us, most, against, so, them, what, him, united, during, before, may, since, many, while, where, states, because, now, city, made, like, between, did, just, national, day, country, under, such, second, then, company, group, any, through, china, four, being, down, war, back, off, south, american, minister, police, well, including, team, international, week, officials, still, both, even, high, part, told, those, end, former, these, make, billion, work, our, home, school, party, house'"
      ]
     },
     "execution_count": 3,
     "metadata": {},
     "output_type": "execute_result"
    }
   ],
   "source": [
    "print('example words:')\n",
    "', '.join(word_list[:150])"
   ]
  },
  {
   "cell_type": "code",
   "execution_count": 4,
   "id": "dd3ad457",
   "metadata": {},
   "outputs": [
    {
     "name": "stdout",
     "output_type": "stream",
     "text": [
      "unrelated word dist: 4.965471732053058\n",
      "related word dist: 0.48359979895215266\n"
     ]
    }
   ],
   "source": [
    "print('unrelated word dist:', euclidean(w_vecs['increase'], w_vecs['2006']))\n",
    "print('related word dist:', euclidean(w_vecs['monday'], w_vecs['wednesday']))"
   ]
  },
  {
   "cell_type": "code",
   "execution_count": 5,
   "id": "595bde69",
   "metadata": {},
   "outputs": [],
   "source": [
    "vec_mat = torch.tensor([w_vecs[w] for w in w_vecs.keys()])"
   ]
  },
  {
   "cell_type": "code",
   "execution_count": 6,
   "id": "8006185e",
   "metadata": {},
   "outputs": [],
   "source": [
    "adj_mat = csr_matrix(torch.cdist(vec_mat, vec_mat))"
   ]
  },
  {
   "cell_type": "code",
   "execution_count": 7,
   "id": "3737d24b",
   "metadata": {},
   "outputs": [],
   "source": [
    "mst = minimum_spanning_tree(adj_mat)"
   ]
  },
  {
   "cell_type": "code",
   "execution_count": null,
   "id": "8abf7144",
   "metadata": {},
   "outputs": [],
   "source": []
  },
  {
   "cell_type": "code",
   "execution_count": 8,
   "id": "bf992beb",
   "metadata": {},
   "outputs": [
    {
     "name": "stdout",
     "output_type": "stream",
     "text": [
      "adj matrix edge length distribution\n"
     ]
    },
    {
     "data": {
      "image/png": "[encoded data removed]",
      "text/plain": [
       "<Figure size 432x288 with 1 Axes>"
      ]
     },
     "metadata": {
      "needs_background": "light"
     },
     "output_type": "display_data"
    }
   ],
   "source": [
    "print('adj matrix edge length distribution')\n",
    "edge_lengths = adj_mat.reshape(np.prod(adj_mat.shape), 1).toarray()\n",
    "h = plt.hist(edge_lengths,50)"
   ]
  },
  {
   "cell_type": "code",
   "execution_count": 9,
   "id": "541d376a",
   "metadata": {},
   "outputs": [],
   "source": [
    "adj_mat = adj_mat.toarray()\n"
   ]
  },
  {
   "cell_type": "code",
   "execution_count": 10,
   "id": "3c1b4ff2",
   "metadata": {},
   "outputs": [],
   "source": [
    "# discard all long edges if they're not in the MST.\n",
    "dist_thresh = 4.5\n",
    "short_edges = adj_mat < dist_thresh\n"
   ]
  },
  {
   "cell_type": "code",
   "execution_count": 11,
   "id": "48e57269",
   "metadata": {},
   "outputs": [
    {
     "data": {
      "text/plain": [
       "array([[ True,  True,  True, ..., False, False, False],\n",
       "       [ True,  True,  True, ..., False, False, False],\n",
       "       [ True,  True,  True, ..., False, False, False],\n",
       "       ...,\n",
       "       [False, False, False, ...,  True, False, False],\n",
       "       [False, False, False, ..., False,  True, False],\n",
       "       [False, False, False, ..., False, False,  True]])"
      ]
     },
     "execution_count": 11,
     "metadata": {},
     "output_type": "execute_result"
    }
   ],
   "source": [
    "short_edges"
   ]
  },
  {
   "cell_type": "code",
   "execution_count": 12,
   "id": "7d2f5e99",
   "metadata": {},
   "outputs": [],
   "source": [
    "short_edges_or_mst = short_edges | mst.toarray().astype(bool)\n",
    "adj_mat = adj_mat * short_edges_or_mst"
   ]
  },
  {
   "cell_type": "code",
   "execution_count": 13,
   "id": "42dd3902",
   "metadata": {},
   "outputs": [
    {
     "data": {
      "text/plain": [
       "array([[0.0000000e+00, 2.1896517e+00, 2.6498382e+00, ..., 0.0000000e+00,\n",
       "        0.0000000e+00, 0.0000000e+00],\n",
       "       [2.1896517e+00, 1.9531250e-03, 3.0016427e+00, ..., 0.0000000e+00,\n",
       "        0.0000000e+00, 0.0000000e+00],\n",
       "       [2.6498382e+00, 3.0016427e+00, 0.0000000e+00, ..., 0.0000000e+00,\n",
       "        0.0000000e+00, 0.0000000e+00],\n",
       "       ...,\n",
       "       [0.0000000e+00, 0.0000000e+00, 0.0000000e+00, ..., 1.9531250e-03,\n",
       "        0.0000000e+00, 0.0000000e+00],\n",
       "       [0.0000000e+00, 0.0000000e+00, 0.0000000e+00, ..., 0.0000000e+00,\n",
       "        0.0000000e+00, 0.0000000e+00],\n",
       "       [0.0000000e+00, 0.0000000e+00, 0.0000000e+00, ..., 0.0000000e+00,\n",
       "        0.0000000e+00, 0.0000000e+00]], dtype=float32)"
      ]
     },
     "execution_count": 13,
     "metadata": {},
     "output_type": "execute_result"
    }
   ],
   "source": [
    "adj_mat"
   ]
  },
  {
   "cell_type": "code",
   "execution_count": 14,
   "id": "c9aaeeb7",
   "metadata": {},
   "outputs": [
    {
     "name": "stdout",
     "output_type": "stream",
     "text": [
      "adj matrix edge length distribution after pruning\n",
      "total edges: 6887686\n"
     ]
    },
    {
     "data": {
      "text/plain": [
       "(array([9.213000e+03, 2.341000e+04, 2.982320e+05, 4.373654e+06,\n",
       "        2.183153e+06, 1.300000e+01, 6.000000e+00, 3.000000e+00,\n",
       "        1.000000e+00, 1.000000e+00]),\n",
       " array([9.7656250e-04, 1.0827187e+00, 2.1644609e+00, 3.2462032e+00,\n",
       "        4.3279452e+00, 5.4096875e+00, 6.4914298e+00, 7.5731721e+00,\n",
       "        8.6549139e+00, 9.7366562e+00, 1.0818398e+01], dtype=float32),\n",
       " <BarContainer object of 10 artists>)"
      ]
     },
     "execution_count": 14,
     "metadata": {},
     "output_type": "execute_result"
    },
    {
     "data": {
      "image/png": "[encoded data removed]",
      "text/plain": [
       "<Figure size 432x288 with 1 Axes>"
      ]
     },
     "metadata": {
      "needs_background": "light"
     },
     "output_type": "display_data"
    }
   ],
   "source": [
    "print('adj matrix edge length distribution after pruning')\n",
    "edge_lengths = adj_mat.reshape(np.prod(adj_mat.shape), 1)\n",
    "nonzero_edge_lengths = edge_lengths[edge_lengths.nonzero()]\n",
    "print('total edges:', len(nonzero_edge_lengths))\n",
    "plt.hist(nonzero_edge_lengths)"
   ]
  },
  {
   "cell_type": "code",
   "execution_count": 18,
   "id": "423b92ff",
   "metadata": {},
   "outputs": [
    {
     "name": "stdout",
     "output_type": "stream",
     "text": [
      "reporter has 171 neighbors. Here are the first 20:\n",
      "('reporter', 0.0)\n",
      "('correspondent', 2.71)\n",
      "('journalist', 2.91)\n",
      "('interview', 3.12)\n",
      "('photographer', 3.28)\n",
      "('press', 3.4)\n",
      "('editor', 3.42)\n",
      "('telling', 3.46)\n",
      "('colleague', 3.46)\n",
      "('news', 3.64)\n",
      "('columnist', 3.68)\n",
      "('publicist', 3.74)\n",
      "('contacted', 3.77)\n",
      "('commented', 3.78)\n",
      "('cnn', 3.79)\n",
      "('interviewed', 3.81)\n",
      "('walters', 3.88)\n",
      "('quoting', 3.96)\n",
      "('correspondents', 3.96)\n",
      "('approached', 3.97)\n"
     ]
    }
   ],
   "source": [
    "# Visualize the neighbors of some word\n",
    "q_word = 'reporter'\n",
    "\n",
    "idx = word_list.index(q_word)\n",
    "\n",
    "\n",
    "rs, cs = adj_mat.nonzero()\n",
    "neighbors = []\n",
    "for i in range(len(rs)):\n",
    "    if rs[i] == idx:\n",
    "        neighbor = word_list[cs[i]]\n",
    "        dist = round(euclidean(w_vecs[q_word], w_vecs[neighbor]), 2)\n",
    "        neighbors.append((neighbor, dist))\n",
    "\n",
    "limit = 20\n",
    "neighbors.sort(key = lambda x: x[1])\n",
    "print('{} has {} neighbors. Here are the first {}:'.format(q_word, len(neighbors), min(len(neighbors), limit)))\n",
    "print( '\\n'.join(str(n) for n in neighbors[:limit]) )\n",
    "\n",
    "s = \"\"\"\n",
    "g = graphviz.Graph()\n",
    "g.node(q_word)\n",
    "g.edge(q_word, neighbor, label=str(dist))\n",
    "g\n",
    "\"\"\""
   ]
  },
  {
   "cell_type": "code",
   "execution_count": null,
   "id": "53f6d306",
   "metadata": {},
   "outputs": [],
   "source": [
    "# a few common words have hundreds of neighbors, other words have way less. \n",
    "n_neighbors = list(sorted(Counter(rs).values(), reverse=True))\n",
    "plt.plot(n_neighbors)\n",
    "plt.ylabel('number of edges') \n",
    "print('max edge count:', np.max(n_neighbors))\n",
    "print('median edge count:', np.median(n_neighbors))\n",
    "print('min edge count:', np.min(n_neighbors))\n",
    "n_one_edge = len([x for x in n_neighbors if x==1])\n",
    "print('There are {} nodes. {} of them have only one edge.'.format(len(n_neighbors), n_one_edge))"
   ]
  },
  {
   "cell_type": "code",
   "execution_count": null,
   "id": "29280485",
   "metadata": {},
   "outputs": [],
   "source": []
  },
  {
   "cell_type": "code",
   "execution_count": null,
   "id": "97612fdc",
   "metadata": {},
   "outputs": [],
   "source": []
  },
  {
   "cell_type": "code",
   "execution_count": null,
   "id": "2411f2ad",
   "metadata": {},
   "outputs": [],
   "source": []
  }
 ],
 "metadata": {
  "kernelspec": {
   "display_name": "Python 3",
   "language": "python",
   "name": "python3"
  },
  "language_info": {
   "codemirror_mode": {
    "name": "ipython",
    "version": 3
   },
   "file_extension": ".py",
   "mimetype": "text/x-python",
   "name": "python",
   "nbconvert_exporter": "python",
   "pygments_lexer": "ipython3",
   "version": "3.8.8"
  }
 },
 "nbformat": 4,
 "nbformat_minor": 5
}
