{
 "cells": [
  {
   "cell_type": "code",
   "execution_count": 1,
   "id": "fb17b546",
   "metadata": {},
   "outputs": [],
   "source": [
    "import numpy as np\n",
    "from tqdm.notebook import tqdm"
   ]
  },
  {
   "cell_type": "code",
   "execution_count": null,
   "id": "583a3c23",
   "metadata": {},
   "outputs": [
    {
     "data": {
      "application/vnd.jupyter.widget-view+json": {
       "model_id": "2194e43ae4954b658212dc468b390910",
       "version_major": 2,
       "version_minor": 0
      },
      "text/plain": [
       "  0%|          | 0/2196017 [00:00<?, ?it/s]"
      ]
     },
     "metadata": {},
     "output_type": "display_data"
    }
   ],
   "source": [
    "glove_file = '/mnt/Spookley/datasets/glove/glove.840B.300d.txt'\n",
    "w_vecs = {}\n",
    "with tqdm(total=2196017) as pbar:\n",
    "    with open(glove_file) as fh:\n",
    "        for line in fh.readlines():\n",
    "            pbar.update(1)\n",
    "            toks = line.strip().split()\n",
    "            word = toks[0]\n",
    "            try:\n",
    "                vec = [float(s) for s in toks[1:]]\n",
    "            except Exception as e:\n",
    "                # some bigrams and trigrams snuck into this dataset. Skip them, not relevant to Semantle.\n",
    "                pass\n",
    "            w_vecs[word] = vec"
   ]
  },
  {
   "cell_type": "code",
   "execution_count": null,
   "id": "aac36d4c",
   "metadata": {},
   "outputs": [],
   "source": []
  }
 ],
 "metadata": {
  "kernelspec": {
   "display_name": "Python 3 (ipykernel)",
   "language": "python",
   "name": "python3"
  },
  "language_info": {
   "codemirror_mode": {
    "name": "ipython",
    "version": 3
   },
   "file_extension": ".py",
   "mimetype": "text/x-python",
   "name": "python",
   "nbconvert_exporter": "python",
   "pygments_lexer": "ipython3",
   "version": "3.9.7"
  }
 },
 "nbformat": 4,
 "nbformat_minor": 5
}
