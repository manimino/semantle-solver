{
 "cells": [
  {
   "cell_type": "code",
   "execution_count": 2,
   "id": "409b70b7",
   "metadata": {},
   "outputs": [],
   "source": [
    "import time\n",
    "import torch\n",
    "from torch.autograd import Variable\n",
    "\n",
    "from matplotlib import pyplot as plt"
   ]
  },
  {
   "cell_type": "code",
   "execution_count": 4,
   "id": "608f6ef9",
   "metadata": {},
   "outputs": [
    {
     "data": {
      "text/plain": [
       "'NVIDIA GeForce GTX 1070'"
      ]
     },
     "execution_count": 4,
     "metadata": {},
     "output_type": "execute_result"
    }
   ],
   "source": [
    "torch.cuda.get_device_name(0)"
   ]
  },
  {
   "cell_type": "code",
   "execution_count": 5,
   "id": "89172b39",
   "metadata": {},
   "outputs": [
    {
     "data": {
      "text/plain": [
       "tensor([[0.0000, 1.4142, 2.8284],\n",
       "        [1.4142, 0.0000, 1.4142],\n",
       "        [2.8284, 1.4142, 0.0000]])"
      ]
     },
     "execution_count": 5,
     "metadata": {},
     "output_type": "execute_result"
    }
   ],
   "source": [
    "x = torch.tensor([[1.0, 1.0],[2.0,2.0],[3.0,3.0]])\n",
    "torch.cdist(x, x)"
   ]
  },
  {
   "cell_type": "code",
   "execution_count": null,
   "id": "6b5fc4d2",
   "metadata": {},
   "outputs": [],
   "source": []
  },
  {
   "cell_type": "code",
   "execution_count": null,
   "id": "1c18f16f",
   "metadata": {},
   "outputs": [],
   "source": []
  },
  {
   "cell_type": "code",
   "execution_count": null,
   "id": "fbc4d86f",
   "metadata": {},
   "outputs": [],
   "source": []
  },
  {
   "cell_type": "code",
   "execution_count": 6,
   "id": "40faad8f",
   "metadata": {},
   "outputs": [],
   "source": [
    "def make_mat(nrows, ndims=50):\n",
    "    mat = []\n",
    "    for i in range(nrows):\n",
    "        mat.append([float(i)]*ndims)\n",
    "    tmat = torch.tensor(mat)\n",
    "    return tmat"
   ]
  },
  {
   "cell_type": "code",
   "execution_count": 10,
   "id": "50881a57",
   "metadata": {},
   "outputs": [],
   "source": [
    "def compute_dists(mat):\n",
    "    return torch.cdist(mat, mat)"
   ]
  },
  {
   "cell_type": "code",
   "execution_count": 11,
   "id": "c2967db4",
   "metadata": {},
   "outputs": [],
   "source": [
    "mat10k = make_mat(10000)\n",
    "mat20k = make_mat(20000)\n",
    "mat30k = make_mat(30000)\n",
    "mat40k = make_mat(40000)\n",
    "mat50k = make_mat(50000)"
   ]
  },
  {
   "cell_type": "code",
   "execution_count": 12,
   "id": "5112cc76",
   "metadata": {},
   "outputs": [
    {
     "name": "stdout",
     "output_type": "stream",
     "text": [
      "10000 rows took 0.216 seconds\n",
      "20000 rows took 0.772 seconds\n",
      "30000 rows took 1.753 seconds\n",
      "40000 rows took 3.188 seconds\n",
      "50000 rows took 81.327 seconds\n"
     ]
    }
   ],
   "source": [
    "times = []\n",
    "for mat in [mat10k, mat20k, mat30k, mat40k, mat50k]:\n",
    "    t0 = time.time()\n",
    "    compute_dists(mat)\n",
    "    dt = round(time.time()-t0, 3)\n",
    "    times.append(dt)\n",
    "    print('{} rows took {} seconds'.format(len(mat), dt))"
   ]
  },
  {
   "cell_type": "code",
   "execution_count": 15,
   "id": "6f251c8e",
   "metadata": {},
   "outputs": [
    {
     "data": {
      "text/plain": [
       "0.015625"
      ]
     },
     "execution_count": 15,
     "metadata": {},
     "output_type": "execute_result"
    }
   ],
   "source": [
    "(50000**2)/(400000**2)"
   ]
  },
  {
   "cell_type": "markdown",
   "id": "0ee55f78",
   "metadata": {},
   "source": [
    "So we can expect the full matrix to take about `100*80` seconds = 2 hours or so."
   ]
  },
  {
   "cell_type": "markdown",
   "id": "cbb043e1",
   "metadata": {},
   "source": [
    "Unfortunately, a 400k by 400k matrix takes up 160GB of RAM - can't store it all at once. \n",
    "Need a workaround (sparse matrix?) and some batching to make it all work."
   ]
  },
  {
   "cell_type": "code",
   "execution_count": null,
   "id": "c36f1bc2",
   "metadata": {},
   "outputs": [],
   "source": []
  }
 ],
 "metadata": {
  "kernelspec": {
   "display_name": "Python 3",
   "language": "python",
   "name": "python3"
  },
  "language_info": {
   "codemirror_mode": {
    "name": "ipython",
    "version": 3
   },
   "file_extension": ".py",
   "mimetype": "text/x-python",
   "name": "python",
   "nbconvert_exporter": "python",
   "pygments_lexer": "ipython3",
   "version": "3.8.8"
  }
 },
 "nbformat": 4,
 "nbformat_minor": 5
}
